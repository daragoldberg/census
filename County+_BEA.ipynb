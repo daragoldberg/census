{
 "cells": [
  {
   "cell_type": "markdown",
   "metadata": {},
   "source": [
    "# !! Adapt for use as general BEA script & pull tools"
   ]
  },
  {
   "cell_type": "code",
   "execution_count": null,
   "metadata": {},
   "outputs": [],
   "source": [
    "import pandas as pd\n",
    "import json\n",
    "import requests\n",
    "#import math\n",
    "#import numpy as np"
   ]
  },
  {
   "cell_type": "code",
   "execution_count": null,
   "metadata": {},
   "outputs": [],
   "source": [
    "from API_keys import myBEAAPI\n",
    "from county_codes import stco_fips"
   ]
  },
  {
   "cell_type": "code",
   "execution_count": null,
   "metadata": {},
   "outputs": [],
   "source": [
    "base_url = f'https://apps.bea.gov/api/data/?UserID={myBEAAPI}'"
   ]
  },
  {
   "cell_type": "markdown",
   "metadata": {},
   "source": [
    "#### Get Parameter Values for Regional Dataset (table IDs)"
   ]
  },
  {
   "cell_type": "code",
   "execution_count": null,
   "metadata": {
    "scrolled": true
   },
   "outputs": [],
   "source": [
    "#Get table list for Regional dataset\n",
    "def get_param_val(param):\n",
    "    url = f'{base_url}&method=GetParameterValues&datasetname=Regional&ParameterName={param}'\n",
    "    resp = requests.get(url).json()\n",
    "    df = pd.DataFrame(resp['BEAAPI']['Results']['ParamValue']).set_index('Key')\n",
    "    return df\n",
    "\n",
    "#Get filtered table based on table/year parameters\n",
    "def get_param_val_filt(param,tablename):\n",
    "    url = f'{base_url}&method=GetParameterValuesFiltered&datasetname=Regional&TargetParameter={param}&TableName={tablename}'\n",
    "    resp = requests.get(url).json()\n",
    "    df = pd.DataFrame(resp['BEAAPI']['Results']['ParamValue']).set_index('Key')\n",
    "    return df\n",
    "\n",
    "#Get data from specific table\n",
    "def get_data(tablename,linecode,geofips,year):    \n",
    "    url = f'{base_url}&method=GetData&datasetname=Regional&TableName={tablename}&LineCode={linecode}&GeoFIPS={geofips}&Year={year}'\n",
    "    resp = requests.get(url).json()\n",
    "    df = pd.DataFrame(resp['BEAAPI']['Results']['Data'])\n",
    "    df = df[df['GeoFips'].isin(stco_fips)]\n",
    "    return df"
   ]
  },
  {
   "cell_type": "code",
   "execution_count": null,
   "metadata": {
    "scrolled": true
   },
   "outputs": [],
   "source": [
    "tables = get_param_val('TableName')\n",
    "tables"
   ]
  },
  {
   "cell_type": "code",
   "execution_count": null,
   "metadata": {
    "scrolled": false
   },
   "outputs": [],
   "source": [
    "tables.at['CAGDP1','Desc']"
   ]
  },
  {
   "cell_type": "markdown",
   "metadata": {},
   "source": [
    "#### Get Parameter Values for CAGDP2 Table"
   ]
  },
  {
   "cell_type": "code",
   "execution_count": null,
   "metadata": {},
   "outputs": [],
   "source": [
    "lineco = get_param_val_filt('LineCode','CAGDP2')\n",
    "lineco"
   ]
  },
  {
   "cell_type": "code",
   "execution_count": null,
   "metadata": {},
   "outputs": [],
   "source": [
    "years = get_param_val_filt('YEAR','CAGDP2')"
   ]
  },
  {
   "cell_type": "code",
   "execution_count": null,
   "metadata": {},
   "outputs": [],
   "source": [
    "years"
   ]
  },
  {
   "cell_type": "markdown",
   "metadata": {},
   "source": [
    "#### Get data for CAGDP2 Table"
   ]
  },
  {
   "cell_type": "code",
   "execution_count": null,
   "metadata": {},
   "outputs": [],
   "source": [
    "df = get_data('CAGDP1','3','COUNTY','2018')\n",
    "df.head()"
   ]
  },
  {
   "cell_type": "code",
   "execution_count": null,
   "metadata": {},
   "outputs": [],
   "source": [
    "dff = get_data('CAGDP9','1','COUNTY','2008,2018')\n",
    "dff.head()"
   ]
  },
  {
   "cell_type": "code",
   "execution_count": null,
   "metadata": {},
   "outputs": [],
   "source": [
    "dfff = dff.pivot(index='GeoFips',columns='TimePeriod',values='DataValue')\n",
    "dfff.head()"
   ]
  },
  {
   "cell_type": "code",
   "execution_count": null,
   "metadata": {},
   "outputs": [],
   "source": [
    "for i in col:\n",
    "    gdp[i] = gdp[i].str.replace(',','').astype(float)\n",
    "    gdp[i] = gdp[i]*1000\n",
    "\n",
    "gdp.head()"
   ]
  }
 ],
 "metadata": {
  "kernelspec": {
   "display_name": "Python 3",
   "language": "python",
   "name": "python3"
  },
  "language_info": {
   "codemirror_mode": {
    "name": "ipython",
    "version": 3
   },
   "file_extension": ".py",
   "mimetype": "text/x-python",
   "name": "python",
   "nbconvert_exporter": "python",
   "pygments_lexer": "ipython3",
   "version": "3.7.0"
  }
 },
 "nbformat": 4,
 "nbformat_minor": 2
}
