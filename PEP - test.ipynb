{
 "cells": [
  {
   "cell_type": "code",
   "execution_count": 1,
   "metadata": {},
   "outputs": [],
   "source": [
    "import pandas as pd\n",
    "import json\n",
    "import requests\n",
    "import math\n",
    "import numpy as np"
   ]
  },
  {
   "cell_type": "code",
   "execution_count": 2,
   "metadata": {},
   "outputs": [],
   "source": [
    "from censusAPI import myAPI\n",
    "#import utilcalcs as calc\n",
    "#import geo_agg as geo\n",
    "from county_codes import PEP_DATE_CODE,stco"
   ]
  },
  {
   "cell_type": "code",
   "execution_count": 3,
   "metadata": {},
   "outputs": [],
   "source": [
    "year = '2019'"
   ]
  },
  {
   "cell_type": "code",
   "execution_count": 9,
   "metadata": {},
   "outputs": [],
   "source": [
    "cols = f'GEO_ID,NAME,DATE_CODE,POP'"
   ]
  },
  {
   "cell_type": "code",
   "execution_count": 10,
   "metadata": {},
   "outputs": [],
   "source": [
    "import pandas as pd\n",
    "import json\n",
    "import requests\n",
    "\n",
    "from censusAPI import myAPI\n",
    "\n",
    "year = '2019'\n",
    "cols = f'GEO_ID,NAME,DATE_CODE,POP'\n",
    "\n",
    "url = f'https://api.census.gov/data/{year}/pep/population?get={cols}&for=county:*&in=state:*&key={myAPI}'\n",
    "resp = requests.request('GET', url).content\n",
    "df = pd.DataFrame(json.loads(resp)[1:])\n",
    "df.columns = json.loads(resp)[0]"
   ]
  },
  {
   "cell_type": "code",
   "execution_count": 11,
   "metadata": {},
   "outputs": [
    {
     "data": {
      "text/html": [
       "<div>\n",
       "<style scoped>\n",
       "    .dataframe tbody tr th:only-of-type {\n",
       "        vertical-align: middle;\n",
       "    }\n",
       "\n",
       "    .dataframe tbody tr th {\n",
       "        vertical-align: top;\n",
       "    }\n",
       "\n",
       "    .dataframe thead th {\n",
       "        text-align: right;\n",
       "    }\n",
       "</style>\n",
       "<table border=\"1\" class=\"dataframe\">\n",
       "  <thead>\n",
       "    <tr style=\"text-align: right;\">\n",
       "      <th></th>\n",
       "      <th>GEO_ID</th>\n",
       "      <th>NAME</th>\n",
       "      <th>DATE_CODE</th>\n",
       "      <th>POP</th>\n",
       "      <th>state</th>\n",
       "      <th>county</th>\n",
       "    </tr>\n",
       "  </thead>\n",
       "  <tbody>\n",
       "    <tr>\n",
       "      <th>0</th>\n",
       "      <td>0500000US01001</td>\n",
       "      <td>Autauga County, Alabama</td>\n",
       "      <td>1</td>\n",
       "      <td>54571</td>\n",
       "      <td>01</td>\n",
       "      <td>001</td>\n",
       "    </tr>\n",
       "    <tr>\n",
       "      <th>1</th>\n",
       "      <td>0500000US01001</td>\n",
       "      <td>Autauga County, Alabama</td>\n",
       "      <td>2</td>\n",
       "      <td>54597</td>\n",
       "      <td>01</td>\n",
       "      <td>001</td>\n",
       "    </tr>\n",
       "    <tr>\n",
       "      <th>2</th>\n",
       "      <td>0500000US01001</td>\n",
       "      <td>Autauga County, Alabama</td>\n",
       "      <td>3</td>\n",
       "      <td>54773</td>\n",
       "      <td>01</td>\n",
       "      <td>001</td>\n",
       "    </tr>\n",
       "    <tr>\n",
       "      <th>3</th>\n",
       "      <td>0500000US01001</td>\n",
       "      <td>Autauga County, Alabama</td>\n",
       "      <td>4</td>\n",
       "      <td>55227</td>\n",
       "      <td>01</td>\n",
       "      <td>001</td>\n",
       "    </tr>\n",
       "    <tr>\n",
       "      <th>4</th>\n",
       "      <td>0500000US01001</td>\n",
       "      <td>Autauga County, Alabama</td>\n",
       "      <td>5</td>\n",
       "      <td>54954</td>\n",
       "      <td>01</td>\n",
       "      <td>001</td>\n",
       "    </tr>\n",
       "  </tbody>\n",
       "</table>\n",
       "</div>"
      ],
      "text/plain": [
       "           GEO_ID                     NAME DATE_CODE    POP state county\n",
       "0  0500000US01001  Autauga County, Alabama         1  54571    01    001\n",
       "1  0500000US01001  Autauga County, Alabama         2  54597    01    001\n",
       "2  0500000US01001  Autauga County, Alabama         3  54773    01    001\n",
       "3  0500000US01001  Autauga County, Alabama         4  55227    01    001\n",
       "4  0500000US01001  Autauga County, Alabama         5  54954    01    001"
      ]
     },
     "execution_count": 11,
     "metadata": {},
     "output_type": "execute_result"
    }
   ],
   "source": [
    "df.head()"
   ]
  },
  {
   "cell_type": "code",
   "execution_count": null,
   "metadata": {},
   "outputs": [],
   "source": [
    "df['POP'] = df['POP'].astype(float)\n",
    "    dff = df.pivot(index='GEO_ID',columns='DATE_CODE',values='POP')\n",
    "    dff = dff.reset_index(level='GEO_ID',col_level=0)\n",
    "    dff = dff[['GEO_ID',PEP_DATE_CODE[year0],PEP_DATE_CODE[year1]]]\n",
    "    dff = dff.rename(columns={PEP_DATE_CODE[year0]:'PopTot_Y0E',PEP_DATE_CODE[year1]:'PopTot_Y1E'})\n",
    "    \n",
    "    dff = dff[dff['GEO_ID'].isin(stco)]\n",
    "    dff['PopTot_Y0C'] = 0\n",
    "    dff['PopTot_Y1C'] = 0\n",
    "    dff['PopTot_Y0M'] = 0\n",
    "    dff['PopTot_Y1M'] = 0\n",
    "    dff['PopTot_Y0Y1E'] = dff.PopTot_Y1E - dff.PopTot_Y0E\n",
    "    dff['PopP_Y0Y1E'] = dff.PopTot_Y0Y1E / dff.PopTot_Y0E"
   ]
  }
 ],
 "metadata": {
  "kernelspec": {
   "display_name": "Python 3",
   "language": "python",
   "name": "python3"
  },
  "language_info": {
   "codemirror_mode": {
    "name": "ipython",
    "version": 3
   },
   "file_extension": ".py",
   "mimetype": "text/x-python",
   "name": "python",
   "nbconvert_exporter": "python",
   "pygments_lexer": "ipython3",
   "version": "3.8.3"
  }
 },
 "nbformat": 4,
 "nbformat_minor": 4
}
