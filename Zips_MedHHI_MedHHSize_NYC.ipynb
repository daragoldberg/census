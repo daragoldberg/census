{
 "cells": [
  {
   "cell_type": "code",
   "execution_count": 8,
   "metadata": {},
   "outputs": [],
   "source": [
    "import math\n",
    "import numpy as np\n",
    "import pandas as pd\n",
    "import json\n",
    "import requests\n",
    "import urllib"
   ]
  },
  {
   "cell_type": "code",
   "execution_count": 2,
   "metadata": {},
   "outputs": [],
   "source": [
    "from censusAPI import myAPI"
   ]
  },
  {
   "cell_type": "markdown",
   "metadata": {},
   "source": [
    "## User-defined parameters"
   ]
  },
  {
   "cell_type": "code",
   "execution_count": 3,
   "metadata": {},
   "outputs": [],
   "source": [
    "#Variables and predicates for both start/end years\n",
    "#Please refer to this website for the list of variables\n",
    "#https://api.census.gov/data/2018/acs/acs5/profile/variables.html\n",
    "dsource = 'acs/acs5/profile'\n",
    "cols = f'GEO_ID,DP03_0062E,DP03_0062M,DP02_0015E,DP02_0015M'  \n",
    "year = '2018'"
   ]
  },
  {
   "cell_type": "markdown",
   "metadata": {},
   "source": [
    "### Utility Functions"
   ]
  },
  {
   "cell_type": "code",
   "execution_count": 12,
   "metadata": {},
   "outputs": [],
   "source": [
    "def get_moe(m):\n",
    "    result = math.sqrt(sum(map(lambda x: x**2, m)))\n",
    "    return result\n",
    "\n",
    "def get_cv(e, m): \n",
    "    if e == 0:\n",
    "        return np.nan\n",
    "    else:\n",
    "        return np.absolute(m/1.645/e*100)\n",
    "    \n",
    "def get_pct(e,agg_e):\n",
    "    if agg_e == 0:\n",
    "        return np.nan\n",
    "    else:\n",
    "        return e/agg_e\n",
    "\n",
    "def get_pctmoe(e,m,agg_e,agg_m): #check to make sure this doesn't break \n",
    "    if agg_e == 0:\n",
    "        return np.nan\n",
    "    else: \n",
    "        return (1/agg_e)*math.sqrt((m**2)-(((e/agg_e)**2)*(agg_m**2)))\n",
    "    \n",
    "def clean_data(df,var):\n",
    "    dff = df[var].copy()\n",
    "    var_num = var[1:]\n",
    "    for col in var_num:\n",
    "        dff[col] = dff[col].astype(float)\n",
    "    dff = dff.replace([999999999, 555555555, 333333333, 222222222,\\\n",
    "                    666666666, 888888888, -999999999, -555555555,\\\n",
    "                    -333333333, -222222222, -666666666, -888888888], np.nan)\n",
    "    return dff"
   ]
  },
  {
   "cell_type": "markdown",
   "metadata": {},
   "source": [
    "## Median HHI and Average HH Size - All Zip Codes in U.S."
   ]
  },
  {
   "cell_type": "code",
   "execution_count": 4,
   "metadata": {},
   "outputs": [],
   "source": [
    "base_url = f'https://api.census.gov/data/{year}/{dsource}'"
   ]
  },
  {
   "cell_type": "code",
   "execution_count": 6,
   "metadata": {},
   "outputs": [
    {
     "data": {
      "text/html": [
       "<div>\n",
       "<style scoped>\n",
       "    .dataframe tbody tr th:only-of-type {\n",
       "        vertical-align: middle;\n",
       "    }\n",
       "\n",
       "    .dataframe tbody tr th {\n",
       "        vertical-align: top;\n",
       "    }\n",
       "\n",
       "    .dataframe thead th {\n",
       "        text-align: right;\n",
       "    }\n",
       "</style>\n",
       "<table border=\"1\" class=\"dataframe\">\n",
       "  <thead>\n",
       "    <tr style=\"text-align: right;\">\n",
       "      <th></th>\n",
       "      <th>GEO_ID</th>\n",
       "      <th>DP03_0062E</th>\n",
       "      <th>DP03_0062M</th>\n",
       "      <th>DP02_0015E</th>\n",
       "      <th>DP02_0015M</th>\n",
       "      <th>zip code tabulation area</th>\n",
       "    </tr>\n",
       "  </thead>\n",
       "  <tbody>\n",
       "    <tr>\n",
       "      <th>0</th>\n",
       "      <td>8600000US43964</td>\n",
       "      <td>42826</td>\n",
       "      <td>3932</td>\n",
       "      <td>2.26</td>\n",
       "      <td>0.08</td>\n",
       "      <td>43964</td>\n",
       "    </tr>\n",
       "    <tr>\n",
       "      <th>1</th>\n",
       "      <td>8600000US28216</td>\n",
       "      <td>48647</td>\n",
       "      <td>2420</td>\n",
       "      <td>2.52</td>\n",
       "      <td>0.09</td>\n",
       "      <td>28216</td>\n",
       "    </tr>\n",
       "    <tr>\n",
       "      <th>2</th>\n",
       "      <td>8600000US28277</td>\n",
       "      <td>105885</td>\n",
       "      <td>2303</td>\n",
       "      <td>2.68</td>\n",
       "      <td>0.05</td>\n",
       "      <td>28277</td>\n",
       "    </tr>\n",
       "    <tr>\n",
       "      <th>3</th>\n",
       "      <td>8600000US28278</td>\n",
       "      <td>90282</td>\n",
       "      <td>6483</td>\n",
       "      <td>2.97</td>\n",
       "      <td>0.10</td>\n",
       "      <td>28278</td>\n",
       "    </tr>\n",
       "    <tr>\n",
       "      <th>4</th>\n",
       "      <td>8600000US28303</td>\n",
       "      <td>39896</td>\n",
       "      <td>2177</td>\n",
       "      <td>2.21</td>\n",
       "      <td>0.07</td>\n",
       "      <td>28303</td>\n",
       "    </tr>\n",
       "  </tbody>\n",
       "</table>\n",
       "</div>"
      ],
      "text/plain": [
       "           GEO_ID DP03_0062E DP03_0062M DP02_0015E DP02_0015M  \\\n",
       "0  8600000US43964      42826       3932       2.26       0.08   \n",
       "1  8600000US28216      48647       2420       2.52       0.09   \n",
       "2  8600000US28277     105885       2303       2.68       0.05   \n",
       "3  8600000US28278      90282       6483       2.97       0.10   \n",
       "4  8600000US28303      39896       2177       2.21       0.07   \n",
       "\n",
       "  zip code tabulation area  \n",
       "0                    43964  \n",
       "1                    28216  \n",
       "2                    28277  \n",
       "3                    28278  \n",
       "4                    28303  "
      ]
     },
     "execution_count": 6,
     "metadata": {},
     "output_type": "execute_result"
    }
   ],
   "source": [
    "data_url = f'{base_url}?get={cols}&for=zip%20code%20tabulation%20area:*&key={myAPI}'\n",
    "df = pd.read_json(data_url)\n",
    "resp = requests.request('GET', data_url).content\n",
    "df = pd.DataFrame(json.loads(resp)[1:])\n",
    "df.columns = json.loads(resp)[0]\n",
    "df.head()"
   ]
  },
  {
   "cell_type": "code",
   "execution_count": 7,
   "metadata": {},
   "outputs": [
    {
     "data": {
      "text/plain": [
       "(33120, 6)"
      ]
     },
     "execution_count": 7,
     "metadata": {},
     "output_type": "execute_result"
    }
   ],
   "source": [
    "df.shape"
   ]
  },
  {
   "cell_type": "code",
   "execution_count": 13,
   "metadata": {},
   "outputs": [
    {
     "data": {
      "text/html": [
       "<div>\n",
       "<style scoped>\n",
       "    .dataframe tbody tr th:only-of-type {\n",
       "        vertical-align: middle;\n",
       "    }\n",
       "\n",
       "    .dataframe tbody tr th {\n",
       "        vertical-align: top;\n",
       "    }\n",
       "\n",
       "    .dataframe thead th {\n",
       "        text-align: right;\n",
       "    }\n",
       "</style>\n",
       "<table border=\"1\" class=\"dataframe\">\n",
       "  <thead>\n",
       "    <tr style=\"text-align: right;\">\n",
       "      <th></th>\n",
       "      <th>GEO_ID</th>\n",
       "      <th>DP03_0062E</th>\n",
       "      <th>DP03_0062M</th>\n",
       "      <th>DP02_0015E</th>\n",
       "      <th>DP02_0015M</th>\n",
       "      <th>zip code tabulation area</th>\n",
       "    </tr>\n",
       "  </thead>\n",
       "  <tbody>\n",
       "    <tr>\n",
       "      <th>0</th>\n",
       "      <td>8600000US43964</td>\n",
       "      <td>42826.0</td>\n",
       "      <td>3932.0</td>\n",
       "      <td>2.26</td>\n",
       "      <td>0.08</td>\n",
       "      <td>43964.0</td>\n",
       "    </tr>\n",
       "    <tr>\n",
       "      <th>1</th>\n",
       "      <td>8600000US28216</td>\n",
       "      <td>48647.0</td>\n",
       "      <td>2420.0</td>\n",
       "      <td>2.52</td>\n",
       "      <td>0.09</td>\n",
       "      <td>28216.0</td>\n",
       "    </tr>\n",
       "    <tr>\n",
       "      <th>2</th>\n",
       "      <td>8600000US28277</td>\n",
       "      <td>105885.0</td>\n",
       "      <td>2303.0</td>\n",
       "      <td>2.68</td>\n",
       "      <td>0.05</td>\n",
       "      <td>28277.0</td>\n",
       "    </tr>\n",
       "    <tr>\n",
       "      <th>3</th>\n",
       "      <td>8600000US28278</td>\n",
       "      <td>90282.0</td>\n",
       "      <td>6483.0</td>\n",
       "      <td>2.97</td>\n",
       "      <td>0.10</td>\n",
       "      <td>28278.0</td>\n",
       "    </tr>\n",
       "    <tr>\n",
       "      <th>4</th>\n",
       "      <td>8600000US28303</td>\n",
       "      <td>39896.0</td>\n",
       "      <td>2177.0</td>\n",
       "      <td>2.21</td>\n",
       "      <td>0.07</td>\n",
       "      <td>28303.0</td>\n",
       "    </tr>\n",
       "  </tbody>\n",
       "</table>\n",
       "</div>"
      ],
      "text/plain": [
       "           GEO_ID  DP03_0062E  DP03_0062M  DP02_0015E  DP02_0015M  \\\n",
       "0  8600000US43964     42826.0      3932.0        2.26        0.08   \n",
       "1  8600000US28216     48647.0      2420.0        2.52        0.09   \n",
       "2  8600000US28277    105885.0      2303.0        2.68        0.05   \n",
       "3  8600000US28278     90282.0      6483.0        2.97        0.10   \n",
       "4  8600000US28303     39896.0      2177.0        2.21        0.07   \n",
       "\n",
       "   zip code tabulation area  \n",
       "0                   43964.0  \n",
       "1                   28216.0  \n",
       "2                   28277.0  \n",
       "3                   28278.0  \n",
       "4                   28303.0  "
      ]
     },
     "execution_count": 13,
     "metadata": {},
     "output_type": "execute_result"
    }
   ],
   "source": [
    "dff = clean_data(df,list(df))\n",
    "dff.head()"
   ]
  },
  {
   "cell_type": "code",
   "execution_count": 14,
   "metadata": {},
   "outputs": [
    {
     "data": {
      "text/html": [
       "<div>\n",
       "<style scoped>\n",
       "    .dataframe tbody tr th:only-of-type {\n",
       "        vertical-align: middle;\n",
       "    }\n",
       "\n",
       "    .dataframe tbody tr th {\n",
       "        vertical-align: top;\n",
       "    }\n",
       "\n",
       "    .dataframe thead th {\n",
       "        text-align: right;\n",
       "    }\n",
       "</style>\n",
       "<table border=\"1\" class=\"dataframe\">\n",
       "  <thead>\n",
       "    <tr style=\"text-align: right;\">\n",
       "      <th></th>\n",
       "      <th>GEO_ID</th>\n",
       "      <th>DP03_0062E</th>\n",
       "      <th>DP03_0062M</th>\n",
       "      <th>DP02_0015E</th>\n",
       "      <th>DP02_0015M</th>\n",
       "      <th>zip code tabulation area</th>\n",
       "      <th>DP03_0062C</th>\n",
       "      <th>DP02_0015C</th>\n",
       "    </tr>\n",
       "  </thead>\n",
       "  <tbody>\n",
       "    <tr>\n",
       "      <th>0</th>\n",
       "      <td>8600000US43964</td>\n",
       "      <td>42826.0</td>\n",
       "      <td>3932.0</td>\n",
       "      <td>2.26</td>\n",
       "      <td>0.08</td>\n",
       "      <td>43964.0</td>\n",
       "      <td>5.581361</td>\n",
       "      <td>2.151868</td>\n",
       "    </tr>\n",
       "    <tr>\n",
       "      <th>1</th>\n",
       "      <td>8600000US28216</td>\n",
       "      <td>48647.0</td>\n",
       "      <td>2420.0</td>\n",
       "      <td>2.52</td>\n",
       "      <td>0.09</td>\n",
       "      <td>28216.0</td>\n",
       "      <td>3.024081</td>\n",
       "      <td>2.171081</td>\n",
       "    </tr>\n",
       "    <tr>\n",
       "      <th>2</th>\n",
       "      <td>8600000US28277</td>\n",
       "      <td>105885.0</td>\n",
       "      <td>2303.0</td>\n",
       "      <td>2.68</td>\n",
       "      <td>0.05</td>\n",
       "      <td>28277.0</td>\n",
       "      <td>1.322189</td>\n",
       "      <td>1.134147</td>\n",
       "    </tr>\n",
       "    <tr>\n",
       "      <th>3</th>\n",
       "      <td>8600000US28278</td>\n",
       "      <td>90282.0</td>\n",
       "      <td>6483.0</td>\n",
       "      <td>2.97</td>\n",
       "      <td>0.10</td>\n",
       "      <td>28278.0</td>\n",
       "      <td>4.365248</td>\n",
       "      <td>2.046811</td>\n",
       "    </tr>\n",
       "    <tr>\n",
       "      <th>4</th>\n",
       "      <td>8600000US28303</td>\n",
       "      <td>39896.0</td>\n",
       "      <td>2177.0</td>\n",
       "      <td>2.21</td>\n",
       "      <td>0.07</td>\n",
       "      <td>28303.0</td>\n",
       "      <td>3.317135</td>\n",
       "      <td>1.925484</td>\n",
       "    </tr>\n",
       "  </tbody>\n",
       "</table>\n",
       "</div>"
      ],
      "text/plain": [
       "           GEO_ID  DP03_0062E  DP03_0062M  DP02_0015E  DP02_0015M  \\\n",
       "0  8600000US43964     42826.0      3932.0        2.26        0.08   \n",
       "1  8600000US28216     48647.0      2420.0        2.52        0.09   \n",
       "2  8600000US28277    105885.0      2303.0        2.68        0.05   \n",
       "3  8600000US28278     90282.0      6483.0        2.97        0.10   \n",
       "4  8600000US28303     39896.0      2177.0        2.21        0.07   \n",
       "\n",
       "   zip code tabulation area  DP03_0062C  DP02_0015C  \n",
       "0                   43964.0    5.581361    2.151868  \n",
       "1                   28216.0    3.024081    2.171081  \n",
       "2                   28277.0    1.322189    1.134147  \n",
       "3                   28278.0    4.365248    2.046811  \n",
       "4                   28303.0    3.317135    1.925484  "
      ]
     },
     "execution_count": 14,
     "metadata": {},
     "output_type": "execute_result"
    }
   ],
   "source": [
    "dff['DP03_0062C'] = dff.apply(lambda x: (get_cv(x['DP03_0062E'],x['DP03_0062M'])),axis=1)\n",
    "dff['DP02_0015C'] = dff.apply(lambda x: (get_cv(x['DP02_0015E'],x['DP02_0015M'])),axis=1)\n",
    "dff.head()"
   ]
  },
  {
   "cell_type": "markdown",
   "metadata": {},
   "source": [
    "## Export to Excel"
   ]
  },
  {
   "cell_type": "code",
   "execution_count": 15,
   "metadata": {},
   "outputs": [],
   "source": [
    "dff.to_excel('full_US_zips.xlsx')"
   ]
  }
 ],
 "metadata": {
  "kernelspec": {
   "display_name": "Python 3",
   "language": "python",
   "name": "python3"
  },
  "language_info": {
   "codemirror_mode": {
    "name": "ipython",
    "version": 3
   },
   "file_extension": ".py",
   "mimetype": "text/x-python",
   "name": "python",
   "nbconvert_exporter": "python",
   "pygments_lexer": "ipython3",
   "version": "3.7.0"
  }
 },
 "nbformat": 4,
 "nbformat_minor": 2
}
