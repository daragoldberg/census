{
 "cells": [
  {
   "cell_type": "code",
   "execution_count": 1,
   "metadata": {},
   "outputs": [],
   "source": [
    "### SET THIS VALUE BEFORE RUNNING ###\n",
    "#\n",
    "onDCPServer = False\n",
    "#\n",
    "#\n",
    "## proxy assignment, None if working off-network\n",
    "if onDCPServer == False:\n",
    "    p = None\n",
    "else:\n",
    "    from proxy import p"
   ]
  },
  {
   "cell_type": "code",
   "execution_count": 2,
   "metadata": {},
   "outputs": [],
   "source": [
    "import pandas as pd\n",
    "import json\n",
    "import requests\n",
    "import math\n",
    "import numpy as np\n",
    "import os"
   ]
  },
  {
   "cell_type": "code",
   "execution_count": 3,
   "metadata": {},
   "outputs": [],
   "source": [
    "import data_getters as get\n",
    "import utilcalcs as calc\n",
    "import geo_agg\n",
    "from geo import *\n",
    "#census_key = os.getenv('Census_API')"
   ]
  },
  {
   "cell_type": "markdown",
   "metadata": {},
   "source": [
    "## User-defined parameters"
   ]
  },
  {
   "cell_type": "code",
   "execution_count": 4,
   "metadata": {},
   "outputs": [],
   "source": [
    "#Variables and predicates for both start/end years\n",
    "#Housing Units by Structure Size\n",
    "source ='acs5/profile'\n",
    "\n",
    "col = 'group(DP04)'\n",
    "\n",
    "years = ['2010','2019']\n",
    "\n",
    "#Columns from DP we want\n",
    "#0006 = total units, 0007 = 1 unit detached, 0008 = 1 unit attached\n",
    "#0009 = 2 units, 0010 = 3 or 4 units, 0011 = 5 to 9 units \n",
    "#0012 = 10 to 19 units, 0013 = 20+ units\n",
    "U1E = ['DP04_0007E','DP04_0008E']\n",
    "U1M = ['DP04_0007M','DP04_0008M']\n",
    "U5E = ['DP04_0011E','DP04_0012E','DP04_0013E']\n",
    "U5M = ['DP04_0011M','DP04_0012M','DP04_0013M']\n",
    "\n",
    "var_data = ['GEO_ID','DP04_0006E','DP04_0006M']+U1E+U1M+\\\n",
    "           ['DP04_0009E','DP04_0009M','DP04_0010E','DP04_0010M']+\\\n",
    "           U5E + U5M\n",
    "\n",
    "#add in other category"
   ]
  },
  {
   "cell_type": "markdown",
   "metadata": {},
   "source": [
    "### Geography crosswalk files"
   ]
  },
  {
   "cell_type": "code",
   "execution_count": 5,
   "metadata": {},
   "outputs": [],
   "source": [
    "# For NYC subborough calculations\n",
    "geo_nyc = pd.read_csv('../data/geo/nyc_subbor_10.csv')\n",
    "\n",
    "#make adjusted subpl for calculation comparison over time\n",
    "geo_subpl = pd.read_csv('../data/geo/subpl10.csv')\n",
    "subpl10 = [str(i) for i in list(geo_subpl['id'])]\n",
    "\n",
    "liplace19 = pd.read_csv('../data/geo/liplaces19.csv')\n",
    "liplaces19 = [str(i) for i in list(liplace19['GEOID'])]"
   ]
  },
  {
   "cell_type": "markdown",
   "metadata": {},
   "source": [
    "#### calc/group building size columns function"
   ]
  },
  {
   "cell_type": "code",
   "execution_count": 6,
   "metadata": {},
   "outputs": [],
   "source": [
    "# function to clean census data once pulled\n",
    "# calc/rename housing unit by building size columns\n",
    "def group_bsize(df,year):\n",
    "    df = get.clean_data(df,var_data)\n",
    "    df['U1_E'] = df.loc[:,U1E].sum(axis=1)\n",
    "    df['U1_M'] = df.apply(lambda x: (calc.get_moe(x[U1M])),axis=1)\n",
    "    df['U5_E'] = df.loc[:,U5E].sum(axis=1)\n",
    "    df['U5_M'] = df.apply(lambda x: (calc.get_moe(x[U5M])),axis=1)\n",
    "    df = df.drop(U1E+U1M+U5E+U5M,axis=1).rename(\\\n",
    "                      {'DP04_0006E':'UT_E','DP04_0006M':'UT_M',\n",
    "                      'DP04_0009E':'U2_E','DP04_0009M':'U2_M',\n",
    "                      'DP04_0010E':'U34_E', 'DP04_0010M':'U34_M'},axis=1)\n",
    "    for col in df.columns[1:]:\n",
    "        df.rename(columns={col:f'{col[:-1]}{year[-2:]}{col[-1:]}'},inplace=True)\n",
    "    return df\n",
    "\n",
    "\n",
    "#make function to calculate change between the two years\n",
    "#def calc_change(df):\n",
    "#    pass"
   ]
  },
  {
   "cell_type": "markdown",
   "metadata": {},
   "source": [
    "### County + Subregion - Year 0 & Year1"
   ]
  },
  {
   "cell_type": "code",
   "execution_count": 7,
   "metadata": {},
   "outputs": [],
   "source": [
    "c_y0 = get.get_county(p,source,years[0],col)\n",
    "c_y1 = get.get_county(p,source,years[1],col)\n",
    "\n",
    "c_y0 = group_bsize(c_y0,years[0])\n",
    "c_y1 = group_bsize(c_y1,years[1])\n",
    "\n",
    "cou = pd.merge(c_y0,c_y1,on='GEO_ID')\n",
    "cou['sub'] = cou['GEO_ID'].map(sub)"
   ]
  },
  {
   "cell_type": "code",
   "execution_count": 8,
   "metadata": {},
   "outputs": [],
   "source": [
    "subreg = cou.drop('GEO_ID',axis=1).copy()\n",
    "subreg = subreg[['sub']+[col for col in subreg.columns if col !='sub']]\n",
    "subreg = geo_agg.calc_muni_agg(subreg,'sub')\n",
    "subreg = subreg.rename({'sub':'GEO_ID'},axis=1)"
   ]
  },
  {
   "cell_type": "code",
   "execution_count": 9,
   "metadata": {
    "scrolled": true
   },
   "outputs": [],
   "source": [
    "cousubreg = pd.concat([cou,subreg])"
   ]
  },
  {
   "cell_type": "code",
   "execution_count": 10,
   "metadata": {},
   "outputs": [],
   "source": [
    "cousubreg.to_excel('../../output/Housing/BuildSize_ACS_cousubreg.xlsx',index=False)"
   ]
  },
  {
   "cell_type": "markdown",
   "metadata": {},
   "source": [
    "### Subplace - Year 0"
   ]
  },
  {
   "cell_type": "code",
   "execution_count": 11,
   "metadata": {
    "scrolled": false
   },
   "outputs": [],
   "source": [
    "#all ny places,reduce to just li places\n",
    "pl_y0 = get.get_place(p,source,years[0],col)\n",
    "pl_y0 = pl_y0[pl_y0['GEO_ID'].isin(subpl10)]\n",
    "#all mcds in region\n",
    "mcd_y0 = get.get_mcd(p,source,years[0],col)\n",
    "#combine and clean\n",
    "df_y0 = pd.concat([pl_y0,mcd_y0])\n",
    "df_y0 = group_bsize(df_y0,years[0])"
   ]
  },
  {
   "cell_type": "markdown",
   "metadata": {},
   "source": [
    "### Subplace Year 1"
   ]
  },
  {
   "cell_type": "code",
   "execution_count": 12,
   "metadata": {},
   "outputs": [],
   "source": [
    "#all ny places,reduce to just li places\n",
    "pl_y1 = get.get_place(p,source,years[1],col)\n",
    "pl_y1 = pl_y1[pl_y1['GEO_ID'].isin(liplaces19)]\n",
    "#all mcds in region\n",
    "mcd_y1 = get.get_mcd(p,source,years[1],col)\n",
    "#combine and clean\n",
    "df_y1 = pd.concat([pl_y1,mcd_y1])\n",
    "df_y1 = group_bsize(df_y1,years[1])"
   ]
  }
 ],
 "metadata": {
  "kernelspec": {
   "display_name": "Python 3",
   "language": "python",
   "name": "python3"
  },
  "language_info": {
   "codemirror_mode": {
    "name": "ipython",
    "version": 3
   },
   "file_extension": ".py",
   "mimetype": "text/x-python",
   "name": "python",
   "nbconvert_exporter": "python",
   "pygments_lexer": "ipython3",
   "version": "3.8.5"
  }
 },
 "nbformat": 4,
 "nbformat_minor": 2
}
