{
 "cells": [
  {
   "cell_type": "code",
   "execution_count": 1,
   "metadata": {},
   "outputs": [],
   "source": [
    "import pandas as pd\n",
    "import json\n",
    "import requests\n",
    "import urllib"
   ]
  },
  {
   "cell_type": "code",
   "execution_count": 2,
   "metadata": {},
   "outputs": [],
   "source": [
    "from censusAPI import myAPI"
   ]
  },
  {
   "cell_type": "markdown",
   "metadata": {},
   "source": [
    "## User-defined parameters"
   ]
  },
  {
   "cell_type": "code",
   "execution_count": 3,
   "metadata": {},
   "outputs": [],
   "source": [
    "#Variables and predicates for both start/end years\n",
    "dsource = 'acs/acs5/profile'\n",
    "\n",
    "state = ['06','08','09','10','11','12','13','17','18','24',\\\n",
    "        '25','26','27','33','34','36','40','42','44','48',\\\n",
    "        '51','53','54','55']\n",
    "\n",
    "cols = f'GEO_ID,DP04_0001E,DP04_0001M'  \n",
    "year = '2018'"
   ]
  },
  {
   "cell_type": "markdown",
   "metadata": {},
   "source": [
    "## Housing Units for Current Year - All tracts in Select States"
   ]
  },
  {
   "cell_type": "code",
   "execution_count": 4,
   "metadata": {},
   "outputs": [],
   "source": [
    "base_url = f'https://api.census.gov/data/{year}/{dsource}'"
   ]
  },
  {
   "cell_type": "code",
   "execution_count": 5,
   "metadata": {},
   "outputs": [
    {
     "data": {
      "text/html": [
       "<div>\n",
       "<style scoped>\n",
       "    .dataframe tbody tr th:only-of-type {\n",
       "        vertical-align: middle;\n",
       "    }\n",
       "\n",
       "    .dataframe tbody tr th {\n",
       "        vertical-align: top;\n",
       "    }\n",
       "\n",
       "    .dataframe thead th {\n",
       "        text-align: right;\n",
       "    }\n",
       "</style>\n",
       "<table border=\"1\" class=\"dataframe\">\n",
       "  <thead>\n",
       "    <tr style=\"text-align: right;\">\n",
       "      <th></th>\n",
       "      <th>GEO_ID</th>\n",
       "      <th>DP04_0001E</th>\n",
       "      <th>DP04_0001M</th>\n",
       "      <th>state</th>\n",
       "      <th>county</th>\n",
       "      <th>tract</th>\n",
       "    </tr>\n",
       "  </thead>\n",
       "  <tbody>\n",
       "    <tr>\n",
       "      <th>0</th>\n",
       "      <td>GEO_ID</td>\n",
       "      <td>DP04_0001E</td>\n",
       "      <td>DP04_0001M</td>\n",
       "      <td>state</td>\n",
       "      <td>county</td>\n",
       "      <td>tract</td>\n",
       "    </tr>\n",
       "    <tr>\n",
       "      <th>1</th>\n",
       "      <td>1400000US06047000802</td>\n",
       "      <td>1419</td>\n",
       "      <td>61</td>\n",
       "      <td>06</td>\n",
       "      <td>047</td>\n",
       "      <td>000802</td>\n",
       "    </tr>\n",
       "    <tr>\n",
       "      <th>2</th>\n",
       "      <td>1400000US06047000901</td>\n",
       "      <td>1116</td>\n",
       "      <td>83</td>\n",
       "      <td>06</td>\n",
       "      <td>047</td>\n",
       "      <td>000901</td>\n",
       "    </tr>\n",
       "    <tr>\n",
       "      <th>3</th>\n",
       "      <td>1400000US06047001502</td>\n",
       "      <td>789</td>\n",
       "      <td>31</td>\n",
       "      <td>06</td>\n",
       "      <td>047</td>\n",
       "      <td>001502</td>\n",
       "    </tr>\n",
       "    <tr>\n",
       "      <th>4</th>\n",
       "      <td>1400000US06047000902</td>\n",
       "      <td>2738</td>\n",
       "      <td>137</td>\n",
       "      <td>06</td>\n",
       "      <td>047</td>\n",
       "      <td>000902</td>\n",
       "    </tr>\n",
       "  </tbody>\n",
       "</table>\n",
       "</div>"
      ],
      "text/plain": [
       "0                GEO_ID  DP04_0001E  DP04_0001M  state  county   tract\n",
       "0                GEO_ID  DP04_0001E  DP04_0001M  state  county   tract\n",
       "1  1400000US06047000802        1419          61     06     047  000802\n",
       "2  1400000US06047000901        1116          83     06     047  000901\n",
       "3  1400000US06047001502         789          31     06     047  001502\n",
       "4  1400000US06047000902        2738         137     06     047  000902"
      ]
     },
     "execution_count": 5,
     "metadata": {},
     "output_type": "execute_result"
    }
   ],
   "source": [
    "df_tract = pd.DataFrame()\n",
    "\n",
    "for i in state:\n",
    "    data_url = f'{base_url}?get={cols}&for=tract:*&in=state:{i}&key={myAPI}'\n",
    "    \n",
    "    df = pd.read_json(data_url)\n",
    "    \n",
    "    df_tract = df_tract.append(df,ignore_index=True)\n",
    "    \n",
    "df_tract.columns = df_tract.iloc[0]\n",
    "df_tract.head()"
   ]
  },
  {
   "cell_type": "code",
   "execution_count": 6,
   "metadata": {},
   "outputs": [
    {
     "data": {
      "text/plain": [
       "(50697, 6)"
      ]
     },
     "execution_count": 6,
     "metadata": {},
     "output_type": "execute_result"
    }
   ],
   "source": [
    "df_tract.shape"
   ]
  },
  {
   "cell_type": "code",
   "execution_count": 7,
   "metadata": {},
   "outputs": [],
   "source": [
    "df_tract.to_csv('USMetro_Tracts_Hou.csv')"
   ]
  },
  {
   "cell_type": "code",
   "execution_count": null,
   "metadata": {},
   "outputs": [],
   "source": []
  }
 ],
 "metadata": {
  "kernelspec": {
   "display_name": "Python 3",
   "language": "python",
   "name": "python3"
  },
  "language_info": {
   "codemirror_mode": {
    "name": "ipython",
    "version": 3
   },
   "file_extension": ".py",
   "mimetype": "text/x-python",
   "name": "python",
   "nbconvert_exporter": "python",
   "pygments_lexer": "ipython3",
   "version": "3.8.3"
  }
 },
 "nbformat": 4,
 "nbformat_minor": 2
}
