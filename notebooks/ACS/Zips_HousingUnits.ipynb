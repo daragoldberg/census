{
 "cells": [
  {
   "cell_type": "code",
   "execution_count": 1,
   "metadata": {},
   "outputs": [],
   "source": [
    "import math\n",
    "import numpy as np\n",
    "import pandas as pd\n",
    "import json\n",
    "import requests\n",
    "import urllib"
   ]
  },
  {
   "cell_type": "code",
   "execution_count": 2,
   "metadata": {},
   "outputs": [],
   "source": [
    "from censusAPI import myAPI"
   ]
  },
  {
   "cell_type": "markdown",
   "metadata": {},
   "source": [
    "## User-defined parameters"
   ]
  },
  {
   "cell_type": "code",
   "execution_count": 3,
   "metadata": {},
   "outputs": [],
   "source": [
    "#Variables and predicates for both start/end years\n",
    "#Please refer to this website for the list of variables\n",
    "#https://api.census.gov/data/2018/acs/acs5/profile/variables.html\n",
    "dsource = 'acs/acs5/profile'\n",
    "cols = f'GEO_ID,DP02_0001E,DP02_0001M'  \n",
    "year = '2019'"
   ]
  },
  {
   "cell_type": "markdown",
   "metadata": {},
   "source": [
    "### Utility Functions"
   ]
  },
  {
   "cell_type": "code",
   "execution_count": 4,
   "metadata": {},
   "outputs": [],
   "source": [
    "def get_moe(m):\n",
    "    result = math.sqrt(sum(map(lambda x: x**2, m)))\n",
    "    return result\n",
    "\n",
    "def get_cv(e, m): \n",
    "    if e == 0:\n",
    "        return np.nan\n",
    "    else:\n",
    "        return np.absolute(m/1.645/e*100)\n",
    "    \n",
    "def get_pct(e,agg_e):\n",
    "    if agg_e == 0:\n",
    "        return np.nan\n",
    "    else:\n",
    "        return e/agg_e\n",
    "\n",
    "def get_pctmoe(e,m,agg_e,agg_m): #check to make sure this doesn't break \n",
    "    if agg_e == 0:\n",
    "        return np.nan\n",
    "    else: \n",
    "        return (1/agg_e)*math.sqrt((m**2)-(((e/agg_e)**2)*(agg_m**2)))\n",
    "    \n",
    "def clean_data(df,var):\n",
    "    dff = df[var].copy()\n",
    "    var_num = var[1:]\n",
    "    for col in var_num:\n",
    "        dff[col] = dff[col].astype(float)\n",
    "    dff = dff.replace([999999999, 555555555, 333333333, 222222222,\\\n",
    "                    666666666, 888888888, -999999999, -555555555,\\\n",
    "                    -333333333, -222222222, -666666666, -888888888], np.nan)\n",
    "    return dff"
   ]
  },
  {
   "cell_type": "markdown",
   "metadata": {},
   "source": [
    "## Median HHI and Average HH Size - All Zip Codes in U.S."
   ]
  },
  {
   "cell_type": "code",
   "execution_count": 5,
   "metadata": {},
   "outputs": [],
   "source": [
    "base_url = f'https://api.census.gov/data/{year}/{dsource}'"
   ]
  },
  {
   "cell_type": "code",
   "execution_count": 6,
   "metadata": {},
   "outputs": [
    {
     "data": {
      "text/html": [
       "<div>\n",
       "<style scoped>\n",
       "    .dataframe tbody tr th:only-of-type {\n",
       "        vertical-align: middle;\n",
       "    }\n",
       "\n",
       "    .dataframe tbody tr th {\n",
       "        vertical-align: top;\n",
       "    }\n",
       "\n",
       "    .dataframe thead th {\n",
       "        text-align: right;\n",
       "    }\n",
       "</style>\n",
       "<table border=\"1\" class=\"dataframe\">\n",
       "  <thead>\n",
       "    <tr style=\"text-align: right;\">\n",
       "      <th></th>\n",
       "      <th>GEO_ID</th>\n",
       "      <th>DP02_0001E</th>\n",
       "      <th>DP02_0001M</th>\n",
       "      <th>state</th>\n",
       "      <th>zip code tabulation area</th>\n",
       "    </tr>\n",
       "  </thead>\n",
       "  <tbody>\n",
       "    <tr>\n",
       "      <th>0</th>\n",
       "      <td>8600000US25245</td>\n",
       "      <td>294</td>\n",
       "      <td>123</td>\n",
       "      <td>54</td>\n",
       "      <td>25245</td>\n",
       "    </tr>\n",
       "    <tr>\n",
       "      <th>1</th>\n",
       "      <td>8600000US25268</td>\n",
       "      <td>354</td>\n",
       "      <td>112</td>\n",
       "      <td>54</td>\n",
       "      <td>25268</td>\n",
       "    </tr>\n",
       "    <tr>\n",
       "      <th>2</th>\n",
       "      <td>8600000US25286</td>\n",
       "      <td>613</td>\n",
       "      <td>138</td>\n",
       "      <td>54</td>\n",
       "      <td>25286</td>\n",
       "    </tr>\n",
       "    <tr>\n",
       "      <th>3</th>\n",
       "      <td>8600000US25303</td>\n",
       "      <td>2970</td>\n",
       "      <td>217</td>\n",
       "      <td>54</td>\n",
       "      <td>25303</td>\n",
       "    </tr>\n",
       "    <tr>\n",
       "      <th>4</th>\n",
       "      <td>8600000US25311</td>\n",
       "      <td>5088</td>\n",
       "      <td>259</td>\n",
       "      <td>54</td>\n",
       "      <td>25311</td>\n",
       "    </tr>\n",
       "  </tbody>\n",
       "</table>\n",
       "</div>"
      ],
      "text/plain": [
       "           GEO_ID DP02_0001E DP02_0001M state zip code tabulation area\n",
       "0  8600000US25245        294        123    54                    25245\n",
       "1  8600000US25268        354        112    54                    25268\n",
       "2  8600000US25286        613        138    54                    25286\n",
       "3  8600000US25303       2970        217    54                    25303\n",
       "4  8600000US25311       5088        259    54                    25311"
      ]
     },
     "execution_count": 6,
     "metadata": {},
     "output_type": "execute_result"
    }
   ],
   "source": [
    "data_url = f'{base_url}?get={cols}&for=zip%20code%20tabulation%20area:*&key={myAPI}'\n",
    "df = pd.read_json(data_url)\n",
    "resp = requests.request('GET', data_url).content\n",
    "df = pd.DataFrame(json.loads(resp)[1:])\n",
    "df.columns = json.loads(resp)[0]\n",
    "df.head()"
   ]
  },
  {
   "cell_type": "code",
   "execution_count": 7,
   "metadata": {},
   "outputs": [
    {
     "data": {
      "text/plain": [
       "(33120, 5)"
      ]
     },
     "execution_count": 7,
     "metadata": {},
     "output_type": "execute_result"
    }
   ],
   "source": [
    "df.shape"
   ]
  },
  {
   "cell_type": "code",
   "execution_count": 8,
   "metadata": {},
   "outputs": [
    {
     "data": {
      "text/html": [
       "<div>\n",
       "<style scoped>\n",
       "    .dataframe tbody tr th:only-of-type {\n",
       "        vertical-align: middle;\n",
       "    }\n",
       "\n",
       "    .dataframe tbody tr th {\n",
       "        vertical-align: top;\n",
       "    }\n",
       "\n",
       "    .dataframe thead th {\n",
       "        text-align: right;\n",
       "    }\n",
       "</style>\n",
       "<table border=\"1\" class=\"dataframe\">\n",
       "  <thead>\n",
       "    <tr style=\"text-align: right;\">\n",
       "      <th></th>\n",
       "      <th>GEO_ID</th>\n",
       "      <th>DP02_0001E</th>\n",
       "      <th>DP02_0001M</th>\n",
       "      <th>state</th>\n",
       "      <th>zip code tabulation area</th>\n",
       "    </tr>\n",
       "  </thead>\n",
       "  <tbody>\n",
       "    <tr>\n",
       "      <th>0</th>\n",
       "      <td>8600000US25245</td>\n",
       "      <td>294.0</td>\n",
       "      <td>123.0</td>\n",
       "      <td>54.0</td>\n",
       "      <td>25245.0</td>\n",
       "    </tr>\n",
       "    <tr>\n",
       "      <th>1</th>\n",
       "      <td>8600000US25268</td>\n",
       "      <td>354.0</td>\n",
       "      <td>112.0</td>\n",
       "      <td>54.0</td>\n",
       "      <td>25268.0</td>\n",
       "    </tr>\n",
       "    <tr>\n",
       "      <th>2</th>\n",
       "      <td>8600000US25286</td>\n",
       "      <td>613.0</td>\n",
       "      <td>138.0</td>\n",
       "      <td>54.0</td>\n",
       "      <td>25286.0</td>\n",
       "    </tr>\n",
       "    <tr>\n",
       "      <th>3</th>\n",
       "      <td>8600000US25303</td>\n",
       "      <td>2970.0</td>\n",
       "      <td>217.0</td>\n",
       "      <td>54.0</td>\n",
       "      <td>25303.0</td>\n",
       "    </tr>\n",
       "    <tr>\n",
       "      <th>4</th>\n",
       "      <td>8600000US25311</td>\n",
       "      <td>5088.0</td>\n",
       "      <td>259.0</td>\n",
       "      <td>54.0</td>\n",
       "      <td>25311.0</td>\n",
       "    </tr>\n",
       "  </tbody>\n",
       "</table>\n",
       "</div>"
      ],
      "text/plain": [
       "           GEO_ID  DP02_0001E  DP02_0001M  state  zip code tabulation area\n",
       "0  8600000US25245       294.0       123.0   54.0                   25245.0\n",
       "1  8600000US25268       354.0       112.0   54.0                   25268.0\n",
       "2  8600000US25286       613.0       138.0   54.0                   25286.0\n",
       "3  8600000US25303      2970.0       217.0   54.0                   25303.0\n",
       "4  8600000US25311      5088.0       259.0   54.0                   25311.0"
      ]
     },
     "execution_count": 8,
     "metadata": {},
     "output_type": "execute_result"
    }
   ],
   "source": [
    "dff = clean_data(df,list(df))\n",
    "dff.head()"
   ]
  },
  {
   "cell_type": "code",
   "execution_count": 9,
   "metadata": {},
   "outputs": [
    {
     "data": {
      "text/html": [
       "<div>\n",
       "<style scoped>\n",
       "    .dataframe tbody tr th:only-of-type {\n",
       "        vertical-align: middle;\n",
       "    }\n",
       "\n",
       "    .dataframe tbody tr th {\n",
       "        vertical-align: top;\n",
       "    }\n",
       "\n",
       "    .dataframe thead th {\n",
       "        text-align: right;\n",
       "    }\n",
       "</style>\n",
       "<table border=\"1\" class=\"dataframe\">\n",
       "  <thead>\n",
       "    <tr style=\"text-align: right;\">\n",
       "      <th></th>\n",
       "      <th>GEO_ID</th>\n",
       "      <th>DP02_0001E</th>\n",
       "      <th>DP02_0001M</th>\n",
       "      <th>state</th>\n",
       "      <th>zip code tabulation area</th>\n",
       "      <th>DP02_0001C</th>\n",
       "    </tr>\n",
       "  </thead>\n",
       "  <tbody>\n",
       "    <tr>\n",
       "      <th>0</th>\n",
       "      <td>8600000US25245</td>\n",
       "      <td>294.0</td>\n",
       "      <td>123.0</td>\n",
       "      <td>54.0</td>\n",
       "      <td>25245.0</td>\n",
       "      <td>25.432665</td>\n",
       "    </tr>\n",
       "    <tr>\n",
       "      <th>1</th>\n",
       "      <td>8600000US25268</td>\n",
       "      <td>354.0</td>\n",
       "      <td>112.0</td>\n",
       "      <td>54.0</td>\n",
       "      <td>25268.0</td>\n",
       "      <td>19.233081</td>\n",
       "    </tr>\n",
       "    <tr>\n",
       "      <th>2</th>\n",
       "      <td>8600000US25286</td>\n",
       "      <td>613.0</td>\n",
       "      <td>138.0</td>\n",
       "      <td>54.0</td>\n",
       "      <td>25286.0</td>\n",
       "      <td>13.685249</td>\n",
       "    </tr>\n",
       "    <tr>\n",
       "      <th>3</th>\n",
       "      <td>8600000US25303</td>\n",
       "      <td>2970.0</td>\n",
       "      <td>217.0</td>\n",
       "      <td>54.0</td>\n",
       "      <td>25303.0</td>\n",
       "      <td>4.441579</td>\n",
       "    </tr>\n",
       "    <tr>\n",
       "      <th>4</th>\n",
       "      <td>8600000US25311</td>\n",
       "      <td>5088.0</td>\n",
       "      <td>259.0</td>\n",
       "      <td>54.0</td>\n",
       "      <td>25311.0</td>\n",
       "      <td>3.094473</td>\n",
       "    </tr>\n",
       "  </tbody>\n",
       "</table>\n",
       "</div>"
      ],
      "text/plain": [
       "           GEO_ID  DP02_0001E  DP02_0001M  state  zip code tabulation area  \\\n",
       "0  8600000US25245       294.0       123.0   54.0                   25245.0   \n",
       "1  8600000US25268       354.0       112.0   54.0                   25268.0   \n",
       "2  8600000US25286       613.0       138.0   54.0                   25286.0   \n",
       "3  8600000US25303      2970.0       217.0   54.0                   25303.0   \n",
       "4  8600000US25311      5088.0       259.0   54.0                   25311.0   \n",
       "\n",
       "   DP02_0001C  \n",
       "0   25.432665  \n",
       "1   19.233081  \n",
       "2   13.685249  \n",
       "3    4.441579  \n",
       "4    3.094473  "
      ]
     },
     "execution_count": 9,
     "metadata": {},
     "output_type": "execute_result"
    }
   ],
   "source": [
    "dff['DP02_0001C'] = dff.apply(lambda x: (get_cv(x['DP02_0001E'],x['DP02_0001M'])),axis=1)\n",
    "dff.head()"
   ]
  },
  {
   "cell_type": "markdown",
   "metadata": {},
   "source": [
    "## Export to Excel"
   ]
  },
  {
   "cell_type": "code",
   "execution_count": 10,
   "metadata": {},
   "outputs": [],
   "source": [
    "dff.to_excel('full_US_zips_housingunits.xlsx')"
   ]
  }
 ],
 "metadata": {
  "kernelspec": {
   "display_name": "Python 3",
   "language": "python",
   "name": "python3"
  },
  "language_info": {
   "codemirror_mode": {
    "name": "ipython",
    "version": 3
   },
   "file_extension": ".py",
   "mimetype": "text/x-python",
   "name": "python",
   "nbconvert_exporter": "python",
   "pygments_lexer": "ipython3",
   "version": "3.8.5"
  }
 },
 "nbformat": 4,
 "nbformat_minor": 2
}
