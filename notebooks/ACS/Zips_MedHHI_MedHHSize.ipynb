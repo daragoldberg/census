{
 "cells": [
  {
   "cell_type": "code",
   "execution_count": 1,
   "metadata": {},
   "outputs": [],
   "source": [
    "import math\n",
    "import numpy as np\n",
    "import pandas as pd\n",
    "import json\n",
    "import requests\n",
    "import urllib"
   ]
  },
  {
   "cell_type": "code",
   "execution_count": 2,
   "metadata": {},
   "outputs": [],
   "source": [
    "from censusAPI import myAPI"
   ]
  },
  {
   "cell_type": "markdown",
   "metadata": {},
   "source": [
    "## User-defined parameters"
   ]
  },
  {
   "cell_type": "code",
   "execution_count": 3,
   "metadata": {},
   "outputs": [],
   "source": [
    "#Variables and predicates for both start/end years\n",
    "#Please refer to this website for the list of variables\n",
    "#https://api.census.gov/data/2019/acs/acs5/profile/variables.html\n",
    "dsource = 'acs/acs5/profile'\n",
    "cols = f'GEO_ID,DP03_0062E,DP03_0062M,DP02_0016E,DP02_0016M'  \n",
    "year = '2019'"
   ]
  },
  {
   "cell_type": "markdown",
   "metadata": {},
   "source": [
    "### Utility Functions"
   ]
  },
  {
   "cell_type": "code",
   "execution_count": 4,
   "metadata": {},
   "outputs": [],
   "source": [
    "def get_moe(m):\n",
    "    result = math.sqrt(sum(map(lambda x: x**2, m)))\n",
    "    return result\n",
    "\n",
    "def get_cv(e, m): \n",
    "    if e == 0:\n",
    "        return np.nan\n",
    "    else:\n",
    "        return np.absolute(m/1.645/e*100)\n",
    "    \n",
    "def get_pct(e,agg_e):\n",
    "    if agg_e == 0:\n",
    "        return np.nan\n",
    "    else:\n",
    "        return e/agg_e\n",
    "\n",
    "def get_pctmoe(e,m,agg_e,agg_m): #check to make sure this doesn't break \n",
    "    if agg_e == 0:\n",
    "        return np.nan\n",
    "    else: \n",
    "        return (1/agg_e)*math.sqrt((m**2)-(((e/agg_e)**2)*(agg_m**2)))\n",
    "    \n",
    "def clean_data(df,var):\n",
    "    dff = df[var].copy()\n",
    "    var_num = var[1:]\n",
    "    for col in var_num:\n",
    "        dff[col] = dff[col].astype(float)\n",
    "    dff = dff.replace([999999999, 555555555, 333333333, 222222222,\\\n",
    "                    666666666, 888888888, -999999999, -555555555,\\\n",
    "                    -333333333, -222222222, -666666666, -888888888], np.nan)\n",
    "    return dff"
   ]
  },
  {
   "cell_type": "markdown",
   "metadata": {},
   "source": [
    "## Median HHI and Average HH Size - All Zip Codes in U.S."
   ]
  },
  {
   "cell_type": "code",
   "execution_count": 5,
   "metadata": {},
   "outputs": [],
   "source": [
    "base_url = f'https://api.census.gov/data/{year}/{dsource}'"
   ]
  },
  {
   "cell_type": "code",
   "execution_count": 6,
   "metadata": {},
   "outputs": [
    {
     "data": {
      "text/html": [
       "<div>\n",
       "<style scoped>\n",
       "    .dataframe tbody tr th:only-of-type {\n",
       "        vertical-align: middle;\n",
       "    }\n",
       "\n",
       "    .dataframe tbody tr th {\n",
       "        vertical-align: top;\n",
       "    }\n",
       "\n",
       "    .dataframe thead th {\n",
       "        text-align: right;\n",
       "    }\n",
       "</style>\n",
       "<table border=\"1\" class=\"dataframe\">\n",
       "  <thead>\n",
       "    <tr style=\"text-align: right;\">\n",
       "      <th></th>\n",
       "      <th>GEO_ID</th>\n",
       "      <th>DP03_0062E</th>\n",
       "      <th>DP03_0062M</th>\n",
       "      <th>DP02_0016E</th>\n",
       "      <th>DP02_0016M</th>\n",
       "      <th>state</th>\n",
       "      <th>zip code tabulation area</th>\n",
       "    </tr>\n",
       "  </thead>\n",
       "  <tbody>\n",
       "    <tr>\n",
       "      <th>0</th>\n",
       "      <td>8600000US25245</td>\n",
       "      <td>57895</td>\n",
       "      <td>44070</td>\n",
       "      <td>2.04</td>\n",
       "      <td>0.43</td>\n",
       "      <td>54</td>\n",
       "      <td>25245</td>\n",
       "    </tr>\n",
       "    <tr>\n",
       "      <th>1</th>\n",
       "      <td>8600000US25268</td>\n",
       "      <td>27200</td>\n",
       "      <td>14584</td>\n",
       "      <td>2.72</td>\n",
       "      <td>0.53</td>\n",
       "      <td>54</td>\n",
       "      <td>25268</td>\n",
       "    </tr>\n",
       "    <tr>\n",
       "      <th>2</th>\n",
       "      <td>8600000US25286</td>\n",
       "      <td>38313</td>\n",
       "      <td>7178</td>\n",
       "      <td>2.77</td>\n",
       "      <td>0.36</td>\n",
       "      <td>54</td>\n",
       "      <td>25286</td>\n",
       "    </tr>\n",
       "    <tr>\n",
       "      <th>3</th>\n",
       "      <td>8600000US25303</td>\n",
       "      <td>58820</td>\n",
       "      <td>4344</td>\n",
       "      <td>2.28</td>\n",
       "      <td>0.15</td>\n",
       "      <td>54</td>\n",
       "      <td>25303</td>\n",
       "    </tr>\n",
       "    <tr>\n",
       "      <th>4</th>\n",
       "      <td>8600000US25311</td>\n",
       "      <td>40920</td>\n",
       "      <td>4217</td>\n",
       "      <td>2.06</td>\n",
       "      <td>0.08</td>\n",
       "      <td>54</td>\n",
       "      <td>25311</td>\n",
       "    </tr>\n",
       "  </tbody>\n",
       "</table>\n",
       "</div>"
      ],
      "text/plain": [
       "           GEO_ID DP03_0062E DP03_0062M DP02_0016E DP02_0016M state  \\\n",
       "0  8600000US25245      57895      44070       2.04       0.43    54   \n",
       "1  8600000US25268      27200      14584       2.72       0.53    54   \n",
       "2  8600000US25286      38313       7178       2.77       0.36    54   \n",
       "3  8600000US25303      58820       4344       2.28       0.15    54   \n",
       "4  8600000US25311      40920       4217       2.06       0.08    54   \n",
       "\n",
       "  zip code tabulation area  \n",
       "0                    25245  \n",
       "1                    25268  \n",
       "2                    25286  \n",
       "3                    25303  \n",
       "4                    25311  "
      ]
     },
     "execution_count": 6,
     "metadata": {},
     "output_type": "execute_result"
    }
   ],
   "source": [
    "data_url = f'{base_url}?get={cols}&for=zip%20code%20tabulation%20area:*&key={myAPI}'\n",
    "df = pd.read_json(data_url)\n",
    "resp = requests.request('GET', data_url).content\n",
    "df = pd.DataFrame(json.loads(resp)[1:])\n",
    "df.columns = json.loads(resp)[0]\n",
    "df.head()"
   ]
  },
  {
   "cell_type": "code",
   "execution_count": 7,
   "metadata": {},
   "outputs": [
    {
     "data": {
      "text/plain": [
       "(33120, 7)"
      ]
     },
     "execution_count": 7,
     "metadata": {},
     "output_type": "execute_result"
    }
   ],
   "source": [
    "df.shape"
   ]
  },
  {
   "cell_type": "code",
   "execution_count": 8,
   "metadata": {},
   "outputs": [
    {
     "data": {
      "text/html": [
       "<div>\n",
       "<style scoped>\n",
       "    .dataframe tbody tr th:only-of-type {\n",
       "        vertical-align: middle;\n",
       "    }\n",
       "\n",
       "    .dataframe tbody tr th {\n",
       "        vertical-align: top;\n",
       "    }\n",
       "\n",
       "    .dataframe thead th {\n",
       "        text-align: right;\n",
       "    }\n",
       "</style>\n",
       "<table border=\"1\" class=\"dataframe\">\n",
       "  <thead>\n",
       "    <tr style=\"text-align: right;\">\n",
       "      <th></th>\n",
       "      <th>GEO_ID</th>\n",
       "      <th>DP03_0062E</th>\n",
       "      <th>DP03_0062M</th>\n",
       "      <th>DP02_0016E</th>\n",
       "      <th>DP02_0016M</th>\n",
       "      <th>state</th>\n",
       "      <th>zip code tabulation area</th>\n",
       "    </tr>\n",
       "  </thead>\n",
       "  <tbody>\n",
       "    <tr>\n",
       "      <th>0</th>\n",
       "      <td>8600000US25245</td>\n",
       "      <td>57895.0</td>\n",
       "      <td>44070.0</td>\n",
       "      <td>2.04</td>\n",
       "      <td>0.43</td>\n",
       "      <td>54.0</td>\n",
       "      <td>25245.0</td>\n",
       "    </tr>\n",
       "    <tr>\n",
       "      <th>1</th>\n",
       "      <td>8600000US25268</td>\n",
       "      <td>27200.0</td>\n",
       "      <td>14584.0</td>\n",
       "      <td>2.72</td>\n",
       "      <td>0.53</td>\n",
       "      <td>54.0</td>\n",
       "      <td>25268.0</td>\n",
       "    </tr>\n",
       "    <tr>\n",
       "      <th>2</th>\n",
       "      <td>8600000US25286</td>\n",
       "      <td>38313.0</td>\n",
       "      <td>7178.0</td>\n",
       "      <td>2.77</td>\n",
       "      <td>0.36</td>\n",
       "      <td>54.0</td>\n",
       "      <td>25286.0</td>\n",
       "    </tr>\n",
       "    <tr>\n",
       "      <th>3</th>\n",
       "      <td>8600000US25303</td>\n",
       "      <td>58820.0</td>\n",
       "      <td>4344.0</td>\n",
       "      <td>2.28</td>\n",
       "      <td>0.15</td>\n",
       "      <td>54.0</td>\n",
       "      <td>25303.0</td>\n",
       "    </tr>\n",
       "    <tr>\n",
       "      <th>4</th>\n",
       "      <td>8600000US25311</td>\n",
       "      <td>40920.0</td>\n",
       "      <td>4217.0</td>\n",
       "      <td>2.06</td>\n",
       "      <td>0.08</td>\n",
       "      <td>54.0</td>\n",
       "      <td>25311.0</td>\n",
       "    </tr>\n",
       "  </tbody>\n",
       "</table>\n",
       "</div>"
      ],
      "text/plain": [
       "           GEO_ID  DP03_0062E  DP03_0062M  DP02_0016E  DP02_0016M  state  \\\n",
       "0  8600000US25245     57895.0     44070.0        2.04        0.43   54.0   \n",
       "1  8600000US25268     27200.0     14584.0        2.72        0.53   54.0   \n",
       "2  8600000US25286     38313.0      7178.0        2.77        0.36   54.0   \n",
       "3  8600000US25303     58820.0      4344.0        2.28        0.15   54.0   \n",
       "4  8600000US25311     40920.0      4217.0        2.06        0.08   54.0   \n",
       "\n",
       "   zip code tabulation area  \n",
       "0                   25245.0  \n",
       "1                   25268.0  \n",
       "2                   25286.0  \n",
       "3                   25303.0  \n",
       "4                   25311.0  "
      ]
     },
     "execution_count": 8,
     "metadata": {},
     "output_type": "execute_result"
    }
   ],
   "source": [
    "dff = clean_data(df,list(df))\n",
    "dff.head()"
   ]
  },
  {
   "cell_type": "code",
   "execution_count": 9,
   "metadata": {},
   "outputs": [
    {
     "data": {
      "text/html": [
       "<div>\n",
       "<style scoped>\n",
       "    .dataframe tbody tr th:only-of-type {\n",
       "        vertical-align: middle;\n",
       "    }\n",
       "\n",
       "    .dataframe tbody tr th {\n",
       "        vertical-align: top;\n",
       "    }\n",
       "\n",
       "    .dataframe thead th {\n",
       "        text-align: right;\n",
       "    }\n",
       "</style>\n",
       "<table border=\"1\" class=\"dataframe\">\n",
       "  <thead>\n",
       "    <tr style=\"text-align: right;\">\n",
       "      <th></th>\n",
       "      <th>GEO_ID</th>\n",
       "      <th>DP03_0062E</th>\n",
       "      <th>DP03_0062M</th>\n",
       "      <th>DP02_0016E</th>\n",
       "      <th>DP02_0016M</th>\n",
       "      <th>state</th>\n",
       "      <th>zip code tabulation area</th>\n",
       "      <th>DP03_0062C</th>\n",
       "      <th>DP02_0016C</th>\n",
       "    </tr>\n",
       "  </thead>\n",
       "  <tbody>\n",
       "    <tr>\n",
       "      <th>0</th>\n",
       "      <td>8600000US25245</td>\n",
       "      <td>57895.0</td>\n",
       "      <td>44070.0</td>\n",
       "      <td>2.04</td>\n",
       "      <td>0.43</td>\n",
       "      <td>54.0</td>\n",
       "      <td>25245.0</td>\n",
       "      <td>46.273899</td>\n",
       "      <td>12.813636</td>\n",
       "    </tr>\n",
       "    <tr>\n",
       "      <th>1</th>\n",
       "      <td>8600000US25268</td>\n",
       "      <td>27200.0</td>\n",
       "      <td>14584.0</td>\n",
       "      <td>2.72</td>\n",
       "      <td>0.53</td>\n",
       "      <td>54.0</td>\n",
       "      <td>25268.0</td>\n",
       "      <td>32.594314</td>\n",
       "      <td>11.845164</td>\n",
       "    </tr>\n",
       "    <tr>\n",
       "      <th>2</th>\n",
       "      <td>8600000US25286</td>\n",
       "      <td>38313.0</td>\n",
       "      <td>7178.0</td>\n",
       "      <td>2.77</td>\n",
       "      <td>0.36</td>\n",
       "      <td>54.0</td>\n",
       "      <td>25286.0</td>\n",
       "      <td>11.389152</td>\n",
       "      <td>7.900541</td>\n",
       "    </tr>\n",
       "    <tr>\n",
       "      <th>3</th>\n",
       "      <td>8600000US25303</td>\n",
       "      <td>58820.0</td>\n",
       "      <td>4344.0</td>\n",
       "      <td>2.28</td>\n",
       "      <td>0.15</td>\n",
       "      <td>54.0</td>\n",
       "      <td>25303.0</td>\n",
       "      <td>4.489509</td>\n",
       "      <td>3.999360</td>\n",
       "    </tr>\n",
       "    <tr>\n",
       "      <th>4</th>\n",
       "      <td>8600000US25311</td>\n",
       "      <td>40920.0</td>\n",
       "      <td>4217.0</td>\n",
       "      <td>2.06</td>\n",
       "      <td>0.08</td>\n",
       "      <td>54.0</td>\n",
       "      <td>25311.0</td>\n",
       "      <td>6.264726</td>\n",
       "      <td>2.360787</td>\n",
       "    </tr>\n",
       "  </tbody>\n",
       "</table>\n",
       "</div>"
      ],
      "text/plain": [
       "           GEO_ID  DP03_0062E  DP03_0062M  DP02_0016E  DP02_0016M  state  \\\n",
       "0  8600000US25245     57895.0     44070.0        2.04        0.43   54.0   \n",
       "1  8600000US25268     27200.0     14584.0        2.72        0.53   54.0   \n",
       "2  8600000US25286     38313.0      7178.0        2.77        0.36   54.0   \n",
       "3  8600000US25303     58820.0      4344.0        2.28        0.15   54.0   \n",
       "4  8600000US25311     40920.0      4217.0        2.06        0.08   54.0   \n",
       "\n",
       "   zip code tabulation area  DP03_0062C  DP02_0016C  \n",
       "0                   25245.0   46.273899   12.813636  \n",
       "1                   25268.0   32.594314   11.845164  \n",
       "2                   25286.0   11.389152    7.900541  \n",
       "3                   25303.0    4.489509    3.999360  \n",
       "4                   25311.0    6.264726    2.360787  "
      ]
     },
     "execution_count": 9,
     "metadata": {},
     "output_type": "execute_result"
    }
   ],
   "source": [
    "dff['DP03_0062C'] = dff.apply(lambda x: (get_cv(x['DP03_0062E'],x['DP03_0062M'])),axis=1)\n",
    "dff['DP02_0016C'] = dff.apply(lambda x: (get_cv(x['DP02_0016E'],x['DP02_0016M'])),axis=1)\n",
    "dff.head()"
   ]
  },
  {
   "cell_type": "markdown",
   "metadata": {},
   "source": [
    "## Export to Excel"
   ]
  },
  {
   "cell_type": "code",
   "execution_count": 10,
   "metadata": {},
   "outputs": [],
   "source": [
    "dff.to_excel('US_zips_inc.xlsx')"
   ]
  }
 ],
 "metadata": {
  "kernelspec": {
   "display_name": "Python 3",
   "language": "python",
   "name": "python3"
  },
  "language_info": {
   "codemirror_mode": {
    "name": "ipython",
    "version": 3
   },
   "file_extension": ".py",
   "mimetype": "text/x-python",
   "name": "python",
   "nbconvert_exporter": "python",
   "pygments_lexer": "ipython3",
   "version": "3.8.5"
  }
 },
 "nbformat": 4,
 "nbformat_minor": 2
}
