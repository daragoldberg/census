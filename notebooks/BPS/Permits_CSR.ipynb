{
 "cells": [
  {
   "cell_type": "markdown",
   "metadata": {},
   "source": [
    "## Pull BPS Permit data for NYC Metro counties outside of NYC & NYC data from Bytes of the Big Apple\n",
    "\n",
    "##### Requires storing the housing db file as a csv in the project repo\n",
    "\n",
    "https://www1.nyc.gov/site/planning/data-maps/open-data/dwn-housing-database.page#housingdevelopmentproject\n",
    "For greatest similarity to BPS data, the HousingDB_post2010 (inactives included) file is used."
   ]
  },
  {
   "cell_type": "code",
   "execution_count": 1,
   "metadata": {},
   "outputs": [],
   "source": [
    "import pandas as pd\n",
    "import numpy as np\n",
    "import requests\n",
    "from bs4 import BeautifulSoup\n",
    "import re"
   ]
  },
  {
   "cell_type": "code",
   "execution_count": 2,
   "metadata": {},
   "outputs": [],
   "source": [
    "from geo import stco_fips,sub"
   ]
  },
  {
   "cell_type": "markdown",
   "metadata": {},
   "source": [
    "#### SET THESE VARIABLES"
   ]
  },
  {
   "cell_type": "code",
   "execution_count": 3,
   "metadata": {},
   "outputs": [],
   "source": [
    "base_yr = '2010'\n",
    "end_yr = '2020'\n",
    "nyc_db_datapath = '../data/nychdb_inactiveincluded_20q4_csv/HousingDB_post2010_inactive_included.csv'"
   ]
  },
  {
   "cell_type": "markdown",
   "metadata": {},
   "source": [
    "### Build Master Table of all County Permit Data from BPS"
   ]
  },
  {
   "cell_type": "code",
   "execution_count": 4,
   "metadata": {},
   "outputs": [],
   "source": [
    "# set link location\n",
    "urls = 'https://www2.census.gov/econ/bps/County/'\n",
    "resp = requests.get(urls)\n",
    "\n",
    "#pull annual files (\"a\")\n",
    "soup = BeautifulSoup(resp.text,'html.parser')\n",
    "file_links = soup.find_all('a',href = True)\n",
    "file_links = [link.get_text() for link in file_links if 'a.txt' in link.get_text()]"
   ]
  },
  {
   "cell_type": "code",
   "execution_count": 5,
   "metadata": {},
   "outputs": [],
   "source": [
    "# set column names and cleanup data\n",
    "id_fields = ['Survey Date', 'FIPS State', 'FIPS County', 'Region Code',\n",
    "              'Division Code', 'County Name']\n",
    "\n",
    "# each N of units has Buildings, Units, and Valuation columns,\n",
    "col_names = ['1un_bldg', 'HP1', '1un_val',\n",
    "            '2un_bldg', 'HP2', '2un_val',\n",
    "            '3-4un_bldg', 'HP3-4', '3-4un_val',\n",
    "            '5+un_bldg', 'HP5', '5+un_val']\n",
    "\n",
    "# combine id fields, unit columns, and reported unit columns:\n",
    "model_colnames = id_fields + col_names + ['reported_' + colname for colname in col_names]"
   ]
  },
  {
   "cell_type": "code",
   "execution_count": 6,
   "metadata": {},
   "outputs": [],
   "source": [
    "# build county table of all data for full US\n",
    "all_data = {year:None for year in file_links}\n",
    "\n",
    "for link in file_links:\n",
    "    df = pd.read_csv(f'{urls}{link}',header = 1, sep = ',', skipinitialspace=True,\\\n",
    "                     low_memory=False, dtype = str)\n",
    "    df.columns = model_colnames\n",
    "    df.columns = df.columns.str.replace(' ', '_')\n",
    "    df['year'] = re.sub('\\D+', '', link)\n",
    "    df['id'] = df.FIPS_State.str.strip() + df.FIPS_County\n",
    "    \n",
    "    all_data[link] = df\n",
    "\n",
    "all_data = pd.concat(all_data.values())\n",
    "all_data = all_data.apply(lambda x: x.str.strip())\n",
    "all_data['year'] = all_data.year.astype(int)"
   ]
  },
  {
   "cell_type": "markdown",
   "metadata": {},
   "source": [
    "### Build NYC Metro County table & remove NYC"
   ]
  },
  {
   "cell_type": "code",
   "execution_count": 7,
   "metadata": {},
   "outputs": [],
   "source": [
    "metro = all_data[(all_data.id.isin(stco_fips))&(all_data.year >= int(base_yr))].copy()\n",
    "metro = metro[['id','HP1','HP2','HP3-4','HP5']]\n",
    "for col in metro.columns[1:]:\n",
    "    metro[col]=metro[col].astype(int)\n",
    "metro = metro.rename({'HP2':'HP24','HP3-4':'HP24'},axis=1)\n",
    "\n",
    "metro = metro.groupby(metro.columns,axis=1).sum()\n",
    "metro['HP']=metro['HP1']+metro['HP24']+metro['HP5']\n",
    "metro = metro.groupby(['id']).sum().reset_index()\n",
    "metro['id']=metro['id'].astype(int)\n",
    "nyc = [36005,36047,36061,36081,36085]\n",
    "metro = metro[~(metro['id'].isin(nyc))]"
   ]
  },
  {
   "cell_type": "markdown",
   "metadata": {},
   "source": [
    "### Pull NYC Housing Database permits"
   ]
  },
  {
   "cell_type": "code",
   "execution_count": 8,
   "metadata": {},
   "outputs": [],
   "source": [
    "# data must be downloaded from bytes of the big apple\n",
    "# https://www1.nyc.gov/site/planning/data-maps/open-data/dwn-housing-database.page#housingdevelopmentproject\n",
    "\n",
    "nyc_db = pd.read_csv(f'{nyc_db_datapath}',low_memory=False)\n",
    "nyc_db.loc[nyc_db.PermitYear==' ','PermitYear'] = np.nan\n",
    "nyc_db['PermitYear'] = pd.to_numeric(nyc_db['PermitYear'])\n",
    "nyc_db['id'] = [int(str(block)[:5]) for block in nyc_db.CenBlock10] #make borough id\n",
    "nyc_db = nyc_db[(nyc_db.Job_Type == 'New Building') & (nyc_db.PermitYear >= int(base_yr))]\n",
    "nyc_db['size'] = pd.cut(nyc_db['ClassAProp'],bins=[0.1,1,4,np.inf], include_lowest=False,\n",
    "                                  labels=['HP1','HP24','HP5'])"
   ]
  },
  {
   "cell_type": "code",
   "execution_count": 9,
   "metadata": {},
   "outputs": [],
   "source": [
    "nyc_db = nyc_db[['id','size','ClassAProp']]\n",
    "nyc_db = nyc_db.dropna(subset=['size'])\n",
    "nyc_db['size'] = nyc_db['size'].astype(str)\n",
    "nyc_db = pd.pivot_table(nyc_db,values='ClassAProp',index=['id'],columns=['size'],\\\n",
    "                        aggfunc=np.sum,margins=False).reset_index()"
   ]
  },
  {
   "cell_type": "code",
   "execution_count": 10,
   "metadata": {},
   "outputs": [],
   "source": [
    "nyc_db['HP'] = nyc_db['HP1']+nyc_db['HP24']+nyc_db['HP5']"
   ]
  },
  {
   "cell_type": "markdown",
   "metadata": {},
   "source": [
    "### Combine tables into final permits table"
   ]
  },
  {
   "cell_type": "code",
   "execution_count": 11,
   "metadata": {},
   "outputs": [],
   "source": [
    "df = pd.concat([metro,nyc_db])"
   ]
  },
  {
   "cell_type": "code",
   "execution_count": 12,
   "metadata": {},
   "outputs": [],
   "source": [
    "df['id'] = df['id'].astype(str).str.pad(width=5,side='left',fillchar='0')\n",
    "subreg = df.copy()\n",
    "subreg['sub'] = subreg.id.map(sub)\n",
    "subreg = pd.pivot_table(subreg,values=subreg.columns[1:5],index='sub',\\\n",
    "                    aggfunc=np.sum,margins=True).reset_index() \n",
    "subreg.loc[subreg['sub']=='All',['sub']] = 'METRO'\n",
    "subreg = subreg.rename(columns={'sub':'id'})"
   ]
  },
  {
   "cell_type": "code",
   "execution_count": 13,
   "metadata": {},
   "outputs": [],
   "source": [
    "cosubreg = pd.concat([df,subreg])\n",
    "for col in cosubreg.columns[1:]:\n",
    "    cosubreg=cosubreg.rename({col:f'{col}_{base_yr[-2:]}{end_yr[-2:]}'},axis=1)"
   ]
  },
  {
   "cell_type": "code",
   "execution_count": 14,
   "metadata": {},
   "outputs": [],
   "source": [
    "cosubreg.loc[cosubreg['id']=='09001',['id']] = '9001' #clean for master join\n",
    "cosubreg.loc[cosubreg['id']=='09005',['id']] = '9005' #clean for master join\n",
    "cosubreg.loc[cosubreg['id']=='09009',['id']] = '9009' #clean for master join"
   ]
  },
  {
   "cell_type": "code",
   "execution_count": 15,
   "metadata": {},
   "outputs": [],
   "source": [
    "cosubreg.to_csv('../output/intermediate/houperm_csr.csv',index=False)"
   ]
  }
 ],
 "metadata": {
  "kernelspec": {
   "display_name": "Python 3",
   "language": "python",
   "name": "python3"
  },
  "language_info": {
   "codemirror_mode": {
    "name": "ipython",
    "version": 3
   },
   "file_extension": ".py",
   "mimetype": "text/x-python",
   "name": "python",
   "nbconvert_exporter": "python",
   "pygments_lexer": "ipython3",
   "version": "3.8.5"
  }
 },
 "nbformat": 4,
 "nbformat_minor": 4
}
