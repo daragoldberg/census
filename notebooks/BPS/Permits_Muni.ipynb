{
 "cells": [
  {
   "cell_type": "markdown",
   "metadata": {},
   "source": [
    "## Pull BPS Permit data for NYC Metro municipalities outside of NYC & NYC data from Bytes of the Big Apple\n",
    "\n",
    "https://www1.nyc.gov/site/planning/data-maps/open-data/dwn-housing-database.page#housingdevelopmentproject\n",
    "\n",
    "For greatest similarity to BPS data, the HousingDB_post2010 (inactives included) file is used."
   ]
  },
  {
   "cell_type": "code",
   "execution_count": 1,
   "metadata": {},
   "outputs": [],
   "source": [
    "import pandas as pd\n",
    "import numpy as np\n",
    "import requests\n",
    "from bs4 import BeautifulSoup\n",
    "import re"
   ]
  },
  {
   "cell_type": "code",
   "execution_count": 2,
   "metadata": {},
   "outputs": [],
   "source": [
    "from geo import stco_fips,sub"
   ]
  },
  {
   "cell_type": "markdown",
   "metadata": {},
   "source": [
    "#### SET THESE VARIABLES AND DATA LINKS"
   ]
  },
  {
   "cell_type": "code",
   "execution_count": 3,
   "metadata": {},
   "outputs": [],
   "source": [
    "base_yr = '2010'\n",
    "end_yr = '2020'\n",
    "\n",
    "#geoxwalk files and data file for NYC\n",
    "geo_subpl = pd.read_csv('../data/geo/subpl10.csv')\n",
    "geo_nyc = pd.read_csv('../data/geo/nyc_subbor_10.csv')\n",
    "\n",
    "nyc_db_datapath = '../data/permits/HousingDB_post2010_inactive_included.csv'"
   ]
  },
  {
   "cell_type": "markdown",
   "metadata": {},
   "source": [
    "### Build Table for NYC Metro Municipalities (no NYC)"
   ]
  },
  {
   "cell_type": "code",
   "execution_count": 4,
   "metadata": {},
   "outputs": [],
   "source": [
    "# set link location\n",
    "urls = 'https://www2.census.gov/econ/bps/Place/Northeast%20Region/'\n",
    "resp = requests.get(urls)\n",
    "\n",
    "#pull annual files (\"a\")\n",
    "soup = BeautifulSoup(resp.text,'html.parser')\n",
    "file_links = soup.find_all('a',href = True)\n",
    "file_links = [link.get_text() for link in file_links if 'a.txt' in link.get_text()]\n",
    "#reduce years to what we want vs. all historical files\n",
    "data_yrs = [str(x) for x in range(int(base_yr),int(end_yr)+1)] \n",
    "file_links = [x for x in file_links if x[2:6] in data_yrs]"
   ]
  },
  {
   "cell_type": "code",
   "execution_count": 5,
   "metadata": {},
   "outputs": [],
   "source": [
    "nyc = ['36005','36047','36061','36081','36085']\n",
    "\n",
    "# set column names and cleanup data\n",
    "id_fields = ['surveydate','statecode','6-digitid','countycode','fips placecode','fips mcdcode','placename']\n",
    "\n",
    "# each N of units has Buildings, Units, and Valuation columns,\n",
    "val_cols = ['1un_bldg', 'HP1', '1un_val',\n",
    "            '2un_bldg', 'HP2', '2un_val',\n",
    "            '3-4un_bldg', 'HP3-4', '3-4un_val',\n",
    "            '5+un_bldg', 'HP5', '5+un_val']"
   ]
  },
  {
   "cell_type": "code",
   "execution_count": 6,
   "metadata": {},
   "outputs": [],
   "source": [
    "# build muni table of all data for full Northeast\n",
    "all_data = {year:None for year in file_links}\n",
    "\n",
    "for link in file_links:\n",
    "    rows = requests.get(f'{urls}{link}').text.split('\\n')\n",
    "    row0 = [x.lower() for x in rows[0].split(',')] + ['']\n",
    "    row1 = [x.lower() for x in rows[1].split(',')]\n",
    "    cols = [row0[ind] + col_y for ind, col_y in enumerate(row1)]\n",
    "    \n",
    "    cols_id = [cols.index(x) for x in cols if x in id_fields]\n",
    "    model_colnames = [id_field for id_field in id_fields if id_field in cols] + \\\n",
    "                        val_cols + ['reported_' + colname for colname in val_cols]\n",
    "    \n",
    "    df = pd.read_csv(f'{urls}{link}',header = 1, sep = ',', skipinitialspace=True,\\\n",
    "                     low_memory = False, dtype = str)\n",
    "    \n",
    "    cols_val = cols.index('bldgs')\n",
    "    cols_id += list(range(cols_val,len(df.columns)))\n",
    "    \n",
    "    df = df.iloc[:,cols_id]\n",
    "    df.columns = model_colnames\n",
    "    df['stco'] = df.statecode+df.countycode\n",
    "    df = df[df.stco.isin(stco_fips)].copy()\n",
    "    df.columns = df.columns.str.replace(' ', '_')\n",
    "    df['year'] = re.sub('\\D+', '', link)\n",
    "    \n",
    "    all_data[link] = df"
   ]
  },
  {
   "cell_type": "code",
   "execution_count": 7,
   "metadata": {},
   "outputs": [],
   "source": [
    "permits = pd.concat(all_data.values())"
   ]
  },
  {
   "cell_type": "code",
   "execution_count": 8,
   "metadata": {},
   "outputs": [],
   "source": [
    "#reduce table to rest of metro, cleanup place/cousub codes and adjust Long Island reporting geos\n",
    "permits = permits[~permits['stco'].isin(nyc)].copy()\n",
    "permits['fips_placecode'] = permits.fips_placecode.replace(np.nan,'00000').str.rstrip()\n",
    "permits['id'] = np.where((permits['stco'].isin(['36059','36103']))&(permits['fips_placecode']!='00000'),\\\n",
    "                      (permits.statecode+permits.fips_placecode).str.strip(),(permits.stco+permits.fips_mcdcode).str.strip())\n",
    "permits = permits.dropna(subset=['id'])\n",
    "\n",
    "#join to geo crosswalk data, clean up ids\n",
    "permits.loc[permits['id']=='3607156185',['id']] = '3607147999' #Manually correct Palm Tree NY & Kiryas Joel\n",
    "permits['id'] = permits['id'].astype(int)\n",
    "permits = pd.merge(permits,geo_subpl,on='id',how='left')\n",
    "permits = permits.dropna(subset=['geoid'])"
   ]
  },
  {
   "cell_type": "code",
   "execution_count": 9,
   "metadata": {},
   "outputs": [],
   "source": [
    "#reduced table for final nyc metro munis\n",
    "reg = permits[['geoid','HP1','HP2','HP3-4','HP5']].copy()\n",
    "reg['geoid'] = reg['geoid'].astype(int)\n",
    "for col in reg.columns[1:]:\n",
    "    reg[col]=reg[col].astype(int)\n",
    "reg = reg.rename({'geoid':'id','HP2':'HP24','HP3-4':'HP24'},axis=1)\n",
    "reg = reg.groupby(reg.columns,axis=1).sum().groupby(['id']).sum().reset_index()\n",
    "reg['HP']=reg['HP1']+reg['HP24']+reg['HP5']"
   ]
  },
  {
   "cell_type": "markdown",
   "metadata": {},
   "source": [
    "### Pull NYC Housing Database permits"
   ]
  },
  {
   "cell_type": "code",
   "execution_count": 10,
   "metadata": {},
   "outputs": [],
   "source": [
    "# data must be downloaded & retrieved from folder in project\n",
    "nyc_db = pd.read_csv(f'{nyc_db_datapath}',low_memory=False)\n",
    "nyc_db.loc[nyc_db.PermitYear==' ','PermitYear'] = np.nan\n",
    "nyc_db['PermitYear'] = pd.to_numeric(nyc_db['PermitYear'])\n",
    "\n",
    "#make tract id, filter for new buildings and year 2010 onward\n",
    "nyc_db['ct_id'] = [int(str(block)[:11]) for block in nyc_db.CenBlock10] \n",
    "nyc_db = nyc_db[(nyc_db.Job_Type == 'New Building') & (nyc_db.PermitYear >= int(base_yr))]\n",
    "#separate permits into same categories as BPS data\n",
    "nyc_db['size'] = pd.cut(nyc_db['ClassAProp'],bins=[0.1,1,4,np.inf], include_lowest=False,\n",
    "                                  labels=['HP1','HP24','HP5'])\n",
    "\n",
    "#reduce table and clean up\n",
    "nyc_db = nyc_db[['ct_id','size','ClassAProp']]\n",
    "nyc_db = nyc_db.dropna(subset=['size'])\n",
    "nyc_db['size'] = nyc_db['size'].astype(str)"
   ]
  },
  {
   "cell_type": "code",
   "execution_count": 11,
   "metadata": {},
   "outputs": [],
   "source": [
    "#recode to nyc sub borough breakdowns\n",
    "nyc_db = pd.merge(nyc_db,geo_nyc,on='ct_id',how='left')\n",
    "nyc_db = nyc_db.drop(columns=['boro','ct_id','puma','nta_id','nta_nm','name'])"
   ]
  },
  {
   "cell_type": "code",
   "execution_count": 12,
   "metadata": {},
   "outputs": [],
   "source": [
    "#pivot for decade\n",
    "nyc_db = pd.pivot_table(nyc_db,values='ClassAProp',index=['id'],columns=['size'],\\\n",
    "                        aggfunc=np.sum,margins=False).reset_index()\n",
    "nyc_db['HP'] = nyc_db['HP1']+nyc_db['HP24']+nyc_db['HP5']"
   ]
  },
  {
   "cell_type": "code",
   "execution_count": 13,
   "metadata": {},
   "outputs": [
    {
     "data": {
      "text/html": [
       "<div>\n",
       "<style scoped>\n",
       "    .dataframe tbody tr th:only-of-type {\n",
       "        vertical-align: middle;\n",
       "    }\n",
       "\n",
       "    .dataframe tbody tr th {\n",
       "        vertical-align: top;\n",
       "    }\n",
       "\n",
       "    .dataframe thead th {\n",
       "        text-align: right;\n",
       "    }\n",
       "</style>\n",
       "<table border=\"1\" class=\"dataframe\">\n",
       "  <thead>\n",
       "    <tr style=\"text-align: right;\">\n",
       "      <th>size</th>\n",
       "      <th>id</th>\n",
       "      <th>HP1</th>\n",
       "      <th>HP24</th>\n",
       "      <th>HP5</th>\n",
       "      <th>HP</th>\n",
       "    </tr>\n",
       "  </thead>\n",
       "  <tbody>\n",
       "    <tr>\n",
       "      <th>0</th>\n",
       "      <td>36005CS</td>\n",
       "      <td>9.0</td>\n",
       "      <td>574.0</td>\n",
       "      <td>12277.0</td>\n",
       "      <td>12860.0</td>\n",
       "    </tr>\n",
       "    <tr>\n",
       "      <th>1</th>\n",
       "      <td>36005NE</td>\n",
       "      <td>28.0</td>\n",
       "      <td>561.0</td>\n",
       "      <td>2492.0</td>\n",
       "      <td>3081.0</td>\n",
       "    </tr>\n",
       "    <tr>\n",
       "      <th>2</th>\n",
       "      <td>36005W</td>\n",
       "      <td>15.0</td>\n",
       "      <td>152.0</td>\n",
       "      <td>24080.0</td>\n",
       "      <td>24247.0</td>\n",
       "    </tr>\n",
       "    <tr>\n",
       "      <th>3</th>\n",
       "      <td>36047C</td>\n",
       "      <td>47.0</td>\n",
       "      <td>360.0</td>\n",
       "      <td>14033.0</td>\n",
       "      <td>14440.0</td>\n",
       "    </tr>\n",
       "    <tr>\n",
       "      <th>4</th>\n",
       "      <td>36047E</td>\n",
       "      <td>182.0</td>\n",
       "      <td>580.0</td>\n",
       "      <td>9218.0</td>\n",
       "      <td>9980.0</td>\n",
       "    </tr>\n",
       "    <tr>\n",
       "      <th>5</th>\n",
       "      <td>36047N</td>\n",
       "      <td>33.0</td>\n",
       "      <td>1123.0</td>\n",
       "      <td>27323.0</td>\n",
       "      <td>28479.0</td>\n",
       "    </tr>\n",
       "    <tr>\n",
       "      <th>6</th>\n",
       "      <td>36047S</td>\n",
       "      <td>314.0</td>\n",
       "      <td>1262.0</td>\n",
       "      <td>10143.0</td>\n",
       "      <td>11719.0</td>\n",
       "    </tr>\n",
       "    <tr>\n",
       "      <th>7</th>\n",
       "      <td>36047W</td>\n",
       "      <td>167.0</td>\n",
       "      <td>667.0</td>\n",
       "      <td>21345.0</td>\n",
       "      <td>22179.0</td>\n",
       "    </tr>\n",
       "    <tr>\n",
       "      <th>8</th>\n",
       "      <td>36061E</td>\n",
       "      <td>7.0</td>\n",
       "      <td>4.0</td>\n",
       "      <td>7083.0</td>\n",
       "      <td>7094.0</td>\n",
       "    </tr>\n",
       "    <tr>\n",
       "      <th>9</th>\n",
       "      <td>36061L</td>\n",
       "      <td>14.0</td>\n",
       "      <td>38.0</td>\n",
       "      <td>9378.0</td>\n",
       "      <td>9430.0</td>\n",
       "    </tr>\n",
       "    <tr>\n",
       "      <th>10</th>\n",
       "      <td>36061U</td>\n",
       "      <td>1.0</td>\n",
       "      <td>51.0</td>\n",
       "      <td>10788.0</td>\n",
       "      <td>10840.0</td>\n",
       "    </tr>\n",
       "    <tr>\n",
       "      <th>11</th>\n",
       "      <td>36061WM</td>\n",
       "      <td>3.0</td>\n",
       "      <td>7.0</td>\n",
       "      <td>25124.0</td>\n",
       "      <td>25134.0</td>\n",
       "    </tr>\n",
       "    <tr>\n",
       "      <th>12</th>\n",
       "      <td>36081NE</td>\n",
       "      <td>411.0</td>\n",
       "      <td>1780.0</td>\n",
       "      <td>5620.0</td>\n",
       "      <td>7811.0</td>\n",
       "    </tr>\n",
       "    <tr>\n",
       "      <th>13</th>\n",
       "      <td>36081NW</td>\n",
       "      <td>47.0</td>\n",
       "      <td>1766.0</td>\n",
       "      <td>34744.0</td>\n",
       "      <td>36557.0</td>\n",
       "    </tr>\n",
       "    <tr>\n",
       "      <th>14</th>\n",
       "      <td>36081SE</td>\n",
       "      <td>863.0</td>\n",
       "      <td>1579.0</td>\n",
       "      <td>6851.0</td>\n",
       "      <td>9293.0</td>\n",
       "    </tr>\n",
       "    <tr>\n",
       "      <th>15</th>\n",
       "      <td>36081SW</td>\n",
       "      <td>65.0</td>\n",
       "      <td>414.0</td>\n",
       "      <td>548.0</td>\n",
       "      <td>1027.0</td>\n",
       "    </tr>\n",
       "    <tr>\n",
       "      <th>16</th>\n",
       "      <td>36085C</td>\n",
       "      <td>1115.0</td>\n",
       "      <td>629.0</td>\n",
       "      <td>235.0</td>\n",
       "      <td>1979.0</td>\n",
       "    </tr>\n",
       "    <tr>\n",
       "      <th>17</th>\n",
       "      <td>36085N</td>\n",
       "      <td>635.0</td>\n",
       "      <td>774.0</td>\n",
       "      <td>1075.0</td>\n",
       "      <td>2484.0</td>\n",
       "    </tr>\n",
       "    <tr>\n",
       "      <th>18</th>\n",
       "      <td>36085S</td>\n",
       "      <td>755.0</td>\n",
       "      <td>2050.0</td>\n",
       "      <td>6.0</td>\n",
       "      <td>2811.0</td>\n",
       "    </tr>\n",
       "  </tbody>\n",
       "</table>\n",
       "</div>"
      ],
      "text/plain": [
       "size       id     HP1    HP24      HP5       HP\n",
       "0     36005CS     9.0   574.0  12277.0  12860.0\n",
       "1     36005NE    28.0   561.0   2492.0   3081.0\n",
       "2      36005W    15.0   152.0  24080.0  24247.0\n",
       "3      36047C    47.0   360.0  14033.0  14440.0\n",
       "4      36047E   182.0   580.0   9218.0   9980.0\n",
       "5      36047N    33.0  1123.0  27323.0  28479.0\n",
       "6      36047S   314.0  1262.0  10143.0  11719.0\n",
       "7      36047W   167.0   667.0  21345.0  22179.0\n",
       "8      36061E     7.0     4.0   7083.0   7094.0\n",
       "9      36061L    14.0    38.0   9378.0   9430.0\n",
       "10     36061U     1.0    51.0  10788.0  10840.0\n",
       "11    36061WM     3.0     7.0  25124.0  25134.0\n",
       "12    36081NE   411.0  1780.0   5620.0   7811.0\n",
       "13    36081NW    47.0  1766.0  34744.0  36557.0\n",
       "14    36081SE   863.0  1579.0   6851.0   9293.0\n",
       "15    36081SW    65.0   414.0    548.0   1027.0\n",
       "16     36085C  1115.0   629.0    235.0   1979.0\n",
       "17     36085N   635.0   774.0   1075.0   2484.0\n",
       "18     36085S   755.0  2050.0      6.0   2811.0"
      ]
     },
     "execution_count": 13,
     "metadata": {},
     "output_type": "execute_result"
    }
   ],
   "source": [
    "nyc_db"
   ]
  },
  {
   "cell_type": "markdown",
   "metadata": {},
   "source": [
    "### Combine tables into final permits table\n",
    "Calculate subregion, region totals & export to intermediate csv"
   ]
  },
  {
   "cell_type": "code",
   "execution_count": null,
   "metadata": {},
   "outputs": [],
   "source": [
    "df = pd.concat([reg,nyc_db])\n",
    "for col in df.columns[1:]:\n",
    "    df=df.rename({col:f'{col}_{base_yr[-2:]}{end_yr[-2:]}'},axis=1)\n",
    "df['ishouperm'] = True #add boolean column for metroexplorer layer rendering"
   ]
  },
  {
   "cell_type": "code",
   "execution_count": null,
   "metadata": {},
   "outputs": [],
   "source": [
    "df.to_csv('../output/intermediate/houperm_m.csv',index=False)"
   ]
  }
 ],
 "metadata": {
  "kernelspec": {
   "display_name": "Python 3",
   "language": "python",
   "name": "python3"
  },
  "language_info": {
   "codemirror_mode": {
    "name": "ipython",
    "version": 3
   },
   "file_extension": ".py",
   "mimetype": "text/x-python",
   "name": "python",
   "nbconvert_exporter": "python",
   "pygments_lexer": "ipython3",
   "version": "3.8.5"
  }
 },
 "nbformat": 4,
 "nbformat_minor": 4
}
