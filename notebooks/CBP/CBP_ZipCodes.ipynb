{
 "cells": [
  {
   "cell_type": "code",
   "execution_count": 1,
   "metadata": {},
   "outputs": [],
   "source": [
    "import pandas as pd\n",
    "import numpy as np\n",
    "import os\n",
    "import requests\n",
    "import json"
   ]
  },
  {
   "cell_type": "code",
   "execution_count": 2,
   "metadata": {},
   "outputs": [],
   "source": [
    "myAPI = os.environ.get('Census_API')"
   ]
  },
  {
   "cell_type": "code",
   "execution_count": 3,
   "metadata": {},
   "outputs": [],
   "source": [
    "#variables\n",
    "year = '2019'\n",
    "cols = 'EMP,EMP_N,ESTAB'\n",
    "\n",
    "#NAICS 2019\n",
    "naics = ['334510','334516','334517','339112','339113','3254','54171','541713','541714',\\\n",
    "         '541715','541380','6215']\n",
    "\n",
    "#NAICS 2010\n",
    "naics_10 = ['334510','334516','334517','339112','339113','325411','325412','325413','325414',\\\n",
    "            '54171','541711','541712','541380','621511','621512']"
   ]
  },
  {
   "cell_type": "code",
   "execution_count": 4,
   "metadata": {},
   "outputs": [],
   "source": [
    "#geographies - 2019\n",
    "zip_nyc = pd.read_table('31cr_ZCTA.txt')\n",
    "zip_oth = pd.read_csv('SFSJ_BOS_ZCTA.csv')\n",
    "zip_df = pd.concat([zip_nyc,zip_oth])\n",
    "zip_df['ZIPCODE']=zip_df.ZIPCODE.astype(str).str.zfill(5)\n",
    "zip_codes = zip_df['ZIPCODE'].to_list()"
   ]
  },
  {
   "cell_type": "code",
   "execution_count": 5,
   "metadata": {},
   "outputs": [],
   "source": [
    "#2010 Zip Codes\n",
    "zip_df_10 = pd.read_csv('ZCTA_2010.csv')\n",
    "zip_df_10['ZCTA']=zip_df_10.ZCTA.astype(str).str.zfill(5)\n",
    "zip_codes_10 = zip_df_10['ZCTA'].to_list()"
   ]
  },
  {
   "cell_type": "markdown",
   "metadata": {},
   "source": [
    "## 2019 - API"
   ]
  },
  {
   "cell_type": "code",
   "execution_count": 6,
   "metadata": {
    "scrolled": true
   },
   "outputs": [],
   "source": [
    "frames = []\n",
    "for n in naics:\n",
    "    base_url=f'https://api.census.gov/data/{year}/cbp?'\n",
    "    url = f'{base_url}get={cols}&for=zip%20code:*&NAICS2017={n}&LFO=001&EMPSZES=001&key={myAPI}'\n",
    "    resp = requests.request('GET',url).content\n",
    "    if resp == b'':\n",
    "        pass\n",
    "    else:\n",
    "        df = pd.DataFrame(json.loads(resp)[1:])\n",
    "        df.columns = json.loads(resp)[0]\n",
    "        frames.append(df)\n",
    "\n",
    "dff = pd.concat(frames)"
   ]
  },
  {
   "cell_type": "code",
   "execution_count": 7,
   "metadata": {},
   "outputs": [],
   "source": [
    "dfff = dff[dff['zip code'].isin(zip_codes)]"
   ]
  },
  {
   "cell_type": "markdown",
   "metadata": {},
   "source": [
    "dfff.to_excel('lifesci_2019_zips.xlsx')"
   ]
  },
  {
   "cell_type": "markdown",
   "metadata": {},
   "source": [
    "# 2010 - CSV file"
   ]
  },
  {
   "cell_type": "code",
   "execution_count": 8,
   "metadata": {},
   "outputs": [],
   "source": [
    "df_10 = pd.read_csv('../data/cbp/zbp10detail.txt')"
   ]
  },
  {
   "cell_type": "code",
   "execution_count": 9,
   "metadata": {},
   "outputs": [],
   "source": [
    "df_10['zip']=df_10.zip.astype(str).str.zfill(5)\n",
    "df_10 = df_10[(df_10.zip.isin(zip_codes_10))&(df_10.naics.isin(naics_10))]"
   ]
  },
  {
   "cell_type": "code",
   "execution_count": 11,
   "metadata": {},
   "outputs": [
    {
     "data": {
      "text/html": [
       "<div>\n",
       "<style scoped>\n",
       "    .dataframe tbody tr th:only-of-type {\n",
       "        vertical-align: middle;\n",
       "    }\n",
       "\n",
       "    .dataframe tbody tr th {\n",
       "        vertical-align: top;\n",
       "    }\n",
       "\n",
       "    .dataframe thead th {\n",
       "        text-align: right;\n",
       "    }\n",
       "</style>\n",
       "<table border=\"1\" class=\"dataframe\">\n",
       "  <thead>\n",
       "    <tr style=\"text-align: right;\">\n",
       "      <th></th>\n",
       "      <th>zip</th>\n",
       "      <th>naics</th>\n",
       "      <th>est</th>\n",
       "      <th>n1_4</th>\n",
       "      <th>n5_9</th>\n",
       "      <th>n10_19</th>\n",
       "      <th>n20_49</th>\n",
       "      <th>n50_99</th>\n",
       "      <th>n100_249</th>\n",
       "      <th>n250_499</th>\n",
       "      <th>n500_999</th>\n",
       "      <th>n1000</th>\n",
       "    </tr>\n",
       "  </thead>\n",
       "  <tbody>\n",
       "    <tr>\n",
       "      <th>794</th>\n",
       "      <td>01010</td>\n",
       "      <td>339112</td>\n",
       "      <td>1</td>\n",
       "      <td>0</td>\n",
       "      <td>0</td>\n",
       "      <td>0</td>\n",
       "      <td>0</td>\n",
       "      <td>0</td>\n",
       "      <td>1</td>\n",
       "      <td>0</td>\n",
       "      <td>0</td>\n",
       "      <td>0</td>\n",
       "    </tr>\n",
       "    <tr>\n",
       "      <th>2148</th>\n",
       "      <td>01034</td>\n",
       "      <td>541712</td>\n",
       "      <td>1</td>\n",
       "      <td>1</td>\n",
       "      <td>0</td>\n",
       "      <td>0</td>\n",
       "      <td>0</td>\n",
       "      <td>0</td>\n",
       "      <td>0</td>\n",
       "      <td>0</td>\n",
       "      <td>0</td>\n",
       "      <td>0</td>\n",
       "    </tr>\n",
       "    <tr>\n",
       "      <th>2427</th>\n",
       "      <td>01037</td>\n",
       "      <td>541711</td>\n",
       "      <td>1</td>\n",
       "      <td>0</td>\n",
       "      <td>0</td>\n",
       "      <td>1</td>\n",
       "      <td>0</td>\n",
       "      <td>0</td>\n",
       "      <td>0</td>\n",
       "      <td>0</td>\n",
       "      <td>0</td>\n",
       "      <td>0</td>\n",
       "    </tr>\n",
       "    <tr>\n",
       "      <th>3849</th>\n",
       "      <td>01069</td>\n",
       "      <td>334516</td>\n",
       "      <td>1</td>\n",
       "      <td>0</td>\n",
       "      <td>0</td>\n",
       "      <td>0</td>\n",
       "      <td>0</td>\n",
       "      <td>1</td>\n",
       "      <td>0</td>\n",
       "      <td>0</td>\n",
       "      <td>0</td>\n",
       "      <td>0</td>\n",
       "    </tr>\n",
       "    <tr>\n",
       "      <th>4663</th>\n",
       "      <td>01082</td>\n",
       "      <td>621512</td>\n",
       "      <td>1</td>\n",
       "      <td>1</td>\n",
       "      <td>0</td>\n",
       "      <td>0</td>\n",
       "      <td>0</td>\n",
       "      <td>0</td>\n",
       "      <td>0</td>\n",
       "      <td>0</td>\n",
       "      <td>0</td>\n",
       "      <td>0</td>\n",
       "    </tr>\n",
       "  </tbody>\n",
       "</table>\n",
       "</div>"
      ],
      "text/plain": [
       "        zip   naics  est  n1_4  n5_9  n10_19  n20_49  n50_99  n100_249  \\\n",
       "794   01010  339112    1     0     0       0       0       0         1   \n",
       "2148  01034  541712    1     1     0       0       0       0         0   \n",
       "2427  01037  541711    1     0     0       1       0       0         0   \n",
       "3849  01069  334516    1     0     0       0       0       1         0   \n",
       "4663  01082  621512    1     1     0       0       0       0         0   \n",
       "\n",
       "      n250_499  n500_999  n1000  \n",
       "794          0         0      0  \n",
       "2148         0         0      0  \n",
       "2427         0         0      0  \n",
       "3849         0         0      0  \n",
       "4663         0         0      0  "
      ]
     },
     "execution_count": 11,
     "metadata": {},
     "output_type": "execute_result"
    }
   ],
   "source": [
    "df_10.head()"
   ]
  },
  {
   "cell_type": "code",
   "execution_count": 12,
   "metadata": {},
   "outputs": [],
   "source": [
    "df_10.to_excel('lifesci_2010_zips.xlsx')"
   ]
  }
 ],
 "metadata": {
  "kernelspec": {
   "display_name": "Python 3",
   "language": "python",
   "name": "python3"
  },
  "language_info": {
   "codemirror_mode": {
    "name": "ipython",
    "version": 3
   },
   "file_extension": ".py",
   "mimetype": "text/x-python",
   "name": "python",
   "nbconvert_exporter": "python",
   "pygments_lexer": "ipython3",
   "version": "3.8.5"
  }
 },
 "nbformat": 4,
 "nbformat_minor": 4
}
