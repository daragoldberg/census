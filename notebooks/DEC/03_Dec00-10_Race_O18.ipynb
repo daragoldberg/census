{
 "cells": [
  {
   "cell_type": "markdown",
   "metadata": {},
   "source": [
    "# Decennial Census 2000 and 2010 data pull & table build for 31CR counties & sub-place-subborough, and U.S.\n",
    "\n",
    "This notebook is customized for pulling race over age 18 given different variable codes for 2000 versus 2010, and the need to simplify and reaggregate a select number of variables.\n",
    "\n",
    "It includes custom functions for pulling data in both years at each geographic level\n",
    "\n",
    "Last date updated: 8/31/2021"
   ]
  },
  {
   "cell_type": "code",
   "execution_count": 1,
   "metadata": {},
   "outputs": [],
   "source": [
    "import pandas as pd\n",
    "import numpy as np\n",
    "import os"
   ]
  },
  {
   "cell_type": "code",
   "execution_count": 2,
   "metadata": {},
   "outputs": [],
   "source": [
    "from geo import stco,stco_fips,sub_7,sub_lbl\n",
    "myAPI = os.environ.get('Census_API')"
   ]
  },
  {
   "cell_type": "markdown",
   "metadata": {},
   "source": [
    "### variables to pull and rename"
   ]
  },
  {
   "cell_type": "code",
   "execution_count": 3,
   "metadata": {},
   "outputs": [],
   "source": [
    "#variables and rename (different codes in 2000 vs. 2010 census)\n",
    "col_00 = f'NAME,P006001,P006002,P006003,P006005,P006006,P006007,P006008,P006009,P006010,P006011'\n",
    "col_00_rename={'P006001':'P_O18','P006002':'P_HispO18','P006003':'P_NonHispO18',\\\n",
    "              'P006005':'P_WhiteO18','P006006':'P_BlackO18','P006008':'P_AsianO18',\\\n",
    "               'P006007':'P_OtherO18','P006009':'P_OtherO18','P006010':'P_OtherO18',\\\n",
    "               'P006011':'P_TwoO18'}\n",
    "\n",
    "col_10 = f'NAME,P011001,P011002,P011003,P011005,P011006,P011007,P011008,P011009,P011010,P011011'\n",
    "col_10_rename={'P011001':'P_O18','P011002':'P_HispO18','P011003':'P_NonHispO18',\\\n",
    "              'P011005':'P_WhiteO18','P011006':'P_BlackO18','P011008':'P_AsianO18',\\\n",
    "               'P011007':'P_OtherO18','P011009':'P_OtherO18','P011010':'P_OtherO18',\\\n",
    "               'P011011':'P_TwoO18'}"
   ]
  },
  {
   "cell_type": "code",
   "execution_count": 4,
   "metadata": {},
   "outputs": [],
   "source": [
    "years = ['2000','2010']\n",
    "year_data = {'2000':col_00,'2010':col_10}\n",
    "year_recode = {'2000':col_00_rename,'2010':col_10_rename}"
   ]
  },
  {
   "cell_type": "markdown",
   "metadata": {},
   "source": [
    "### geo tables for join with NYC and subplace"
   ]
  },
  {
   "cell_type": "code",
   "execution_count": 5,
   "metadata": {},
   "outputs": [],
   "source": [
    "# For NYC subborough calculations\n",
    "boro = ['005','047','061','081','085']\n",
    "geo_nyc_00 = pd.read_csv('../data/geo/nyc_subbor_00.csv')\n",
    "geo_nyc_10 = pd.read_csv('../data/geo/nyc_subbor_10.csv')\n",
    "geo_nyc_00['yr'],geo_nyc_10['yr']='2000','2010'\n",
    "geo_nyc = pd.concat([geo_nyc_00,geo_nyc_10])"
   ]
  },
  {
   "cell_type": "code",
   "execution_count": 6,
   "metadata": {},
   "outputs": [],
   "source": [
    "# For subplace calculations\n",
    "geo_subpl_00 = pd.read_csv('../data/geo/subpl00.csv')\n",
    "geo_subpl_10 = pd.read_csv('../data/geo/subpl10.csv')\n",
    "geo_subpl_00['yr'],geo_subpl_10['yr']='2000','2010'\n",
    "geo_subpl=pd.concat([geo_subpl_00,geo_subpl_10])"
   ]
  },
  {
   "cell_type": "markdown",
   "metadata": {},
   "source": [
    "## data getters"
   ]
  },
  {
   "cell_type": "code",
   "execution_count": 7,
   "metadata": {},
   "outputs": [],
   "source": [
    "## census data api pull & table build\n",
    "def api_pull(url):\n",
    "    df = pd.read_json(url)\n",
    "    df.columns = df.iloc[0]\n",
    "    df = df[1:]\n",
    "    return df\n",
    "\n",
    "## column cleanup function\n",
    "# moves label ids to the front, converts data columns to ints\n",
    "# recodes data columns to new id and groups duplicates (i.e., \"other race\")\n",
    "# then reorders after the groupby\n",
    "def col_clean(df,year,move):\n",
    "    df = df[move+[col for col in df.columns if col not in move]]\n",
    "    for col in df.columns[len(move):]:\n",
    "        df[col] = df[col].astype(int)\n",
    "    df = df.rename(columns=year_recode.get(year))\n",
    "    df = df.groupby(df.columns,axis=1).sum()\n",
    "    df = df[move+[col for col in df.columns if col not in move]]\n",
    "    return df\n",
    "\n",
    "## county data \n",
    "def get_co(years):\n",
    "    dff = pd.DataFrame()\n",
    "    for year in years:\n",
    "        cols = year_data.get(year)\n",
    "        base_url = f'https://api.census.gov/data/{year}/dec/sf1'\n",
    "        data_url = f'{base_url}?get={cols}&for=county:*&in=state:*&key={myAPI}'\n",
    "        df = api_pull(data_url)\n",
    "        df['stco'] = df.state + df.county\n",
    "        df = df.drop(columns=['state','county'])\n",
    "        df['yr'] = year\n",
    "        move = ['stco','NAME','yr'] #move non-variable columns to front\n",
    "        df = col_clean(df,year,move)\n",
    "        dff = pd.concat([dff,df])\n",
    "    dff['yr'] = dff['yr'].astype(int).astype(str)\n",
    "    dff = dff.rename(columns={'NAME':'name'})\n",
    "    dff['stco'] = dff.stco.astype(int).astype(str).str.pad(width=5,side='left',fillchar='0')\n",
    "    dff['id'] = dff['stco']\n",
    "    return dff\n",
    "\n",
    "## national data\n",
    "def get_us(years):\n",
    "    dff = pd.DataFrame()\n",
    "    for year in years:\n",
    "        cols = year_data.get(year)\n",
    "        base_url = f'https://api.census.gov/data/{year}/dec/sf1'\n",
    "        data_url = f'{base_url}?get={cols}&for=us:*&key={myAPI}'\n",
    "        df = api_pull(data_url)\n",
    "        df['yr'] = year\n",
    "        df = df.drop(columns='us')\n",
    "        move = ['NAME','yr']\n",
    "        df = col_clean(df,year,move)\n",
    "        dff = pd.concat([dff,df])\n",
    "    dff['yr'] = dff['yr'].astype(int).astype(str)\n",
    "    dff['id'] = 'us'\n",
    "    dff = dff.rename(columns={'NAME':'name'})\n",
    "    return dff\n",
    "\n",
    "## nyc tracts converts to sub-borough geography\n",
    "def get_nycsub(years):\n",
    "    dff = pd.DataFrame()\n",
    "    for year in years:\n",
    "        cols = year_data.get(year)\n",
    "        base_url = f'https://api.census.gov/data/{year}/dec/sf1'\n",
    "        for b in boro:\n",
    "            data_url = f'{base_url}?get={cols}&for=tract:*&in=state:36%20county:{b}&key={myAPI}'\n",
    "            df = api_pull(data_url)\n",
    "            df['yr'] = year\n",
    "            df['tract'] = df.tract.str.pad(width=6,side='right',fillchar='0')\n",
    "            df['ct_id']=df.state+df.county+df.tract\n",
    "            df = df.drop(columns=['state','county','tract','NAME'])\n",
    "            move = ['ct_id','yr']\n",
    "            df = col_clean(df,year,move)\n",
    "            df['ct_id']=df['ct_id'].astype(int)\n",
    "            dff = pd.concat([dff,df])\n",
    "    dff['yr'] = dff['yr'].astype(int).astype(str) #clean up year column\n",
    "    dff = pd.merge(dff,geo_nyc,left_on=['ct_id','yr'],right_on=['ct_id','yr'],how='left')\n",
    "    dff['stco'] = dff['ct_id'].astype(str).str[:5]\n",
    "    dff = dff.drop(columns=['nta_id','nta_nm','puma','ct_id','boro'])\n",
    "    dff = dff.groupby(['stco','id','name','yr']).sum().reset_index()\n",
    "    dff['subreg']=dff.stco.map(sub_7)\n",
    "    return dff\n",
    "\n",
    "## county subdivisions and places (long island only)\n",
    "def get_subpl(years):\n",
    "    dff = pd.DataFrame()\n",
    "    subpl = pd.DataFrame()\n",
    "    for year in years:\n",
    "        cols = year_data.get(year)\n",
    "        base_url = f'https://api.census.gov/data/{year}/dec/sf1'\n",
    "        #subdivision table\n",
    "        for st,co in stco.items():\n",
    "            for c in co:\n",
    "                data_url = f'{base_url}?get={cols}&for=county%20subdivision:*&in=state:{st}&in=county:{c}&key={myAPI}'\n",
    "                df = api_pull(data_url)\n",
    "                df['yr'] = year\n",
    "                df['id']=df.state+df.county+df['county subdivision']\n",
    "                df = df.drop(columns=['state','county','county subdivision','NAME'])\n",
    "                move = ['id','yr']\n",
    "                df = col_clean(df,year,move)\n",
    "                df['id']=df['id'].astype(int)\n",
    "                dff = pd.concat([dff,df])\n",
    "        #place table\n",
    "        pl_url = f'{base_url}?get={cols}&for=place:*&in=state:36&key={myAPI}'\n",
    "        nyp = api_pull(pl_url)\n",
    "        nyp['yr'] = year\n",
    "        nyp['id']=(nyp.state+nyp.place).astype(int)\n",
    "        nyp = nyp.drop(columns=['state','place','NAME'])\n",
    "        nyp = col_clean(nyp,year,move)\n",
    "        subpl = pd.concat([subpl,nyp,dff])\n",
    "    subpl['yr'] = subpl['yr'].astype(int).astype(str) #clean up year column\n",
    "    subpl = pd.merge(subpl,geo_subpl,left_on=['id','yr'],right_on=['id','yr'],how='left')\n",
    "    subpl = subpl.drop(columns=['id','nm']).rename(columns={'geoid':'id'})\n",
    "    subpl = subpl.groupby(['stco','id','name','yr']).sum().reset_index()\n",
    "    subpl['stco'],subpl['id'] = subpl['stco'].astype(int).astype(str).str.pad(width=5,side='left',fillchar='0'),\\\n",
    "                                   subpl['id'].astype(int).astype(str).str.pad(width=5,side='left',fillchar='0')\n",
    "    subpl['subreg']=subpl.stco.map(sub_7)\n",
    "    return subpl"
   ]
  },
  {
   "cell_type": "markdown",
   "metadata": {},
   "source": [
    "## build master table"
   ]
  },
  {
   "cell_type": "code",
   "execution_count": 8,
   "metadata": {
    "scrolled": true
   },
   "outputs": [],
   "source": [
    "#full US counties\n",
    "co_us = get_co(years)\n",
    "co_us.to_csv('output/2000_2010/pop_race_hou_co_us.csv')\n",
    "\n",
    "#US\n",
    "us = get_us(years)\n",
    "us['geotype'] = 'nation'\n",
    "\n",
    "#31CR counties\n",
    "reg = co_us[co_us.stco.isin(stco_fips)].copy()\n",
    "reg['geotype'] = 'county'\n",
    "reg['subreg'] = reg.stco.map(sub_7)\n",
    "\n",
    "#subregions\n",
    "subreg = reg.copy()\n",
    "subreg = subreg.drop(columns=['stco','name']).groupby(by=['subreg','yr'],dropna=False).sum().reset_index()\n",
    "subreg['id']=subreg['subreg']\n",
    "subreg['name'],subreg['geotype']=subreg['id'].map(sub_lbl),'subregion'\n",
    "\n",
    "#Subplaces & NYC subboorough\n",
    "subpl = get_subpl(years)\n",
    "subpl['geotype'] = 'municipality'\n",
    "nyc=get_nycsub(years)\n",
    "nyc['geotype'] = 'municipality'"
   ]
  },
  {
   "cell_type": "code",
   "execution_count": 9,
   "metadata": {},
   "outputs": [],
   "source": [
    "#compile into master and move id to front column\n",
    "master = pd.concat([reg,subreg,us,subpl,nyc])\n",
    "master = master[['id']+[col for col in master.columns if col != 'id']]"
   ]
  },
  {
   "cell_type": "code",
   "execution_count": 10,
   "metadata": {},
   "outputs": [],
   "source": [
    "master.to_csv('output/2000_2010/raceO18_allgeos.csv')"
   ]
  },
  {
   "cell_type": "markdown",
   "metadata": {},
   "source": [
    "#### pivoted table for the two years"
   ]
  },
  {
   "cell_type": "code",
   "execution_count": 11,
   "metadata": {},
   "outputs": [],
   "source": [
    "val_cols = master.columns[4:-1]\n",
    "master_piv = pd.pivot_table(master,values=val_cols,index=['id','stco','subreg','name'],columns='yr',\\\n",
    "                            aggfunc=np.sum,fill_value=0,margins=False).reset_index()"
   ]
  },
  {
   "cell_type": "code",
   "execution_count": 12,
   "metadata": {},
   "outputs": [],
   "source": [
    "master_piv.to_excel('output/2000_2010/raceO18_piv_allgeos.xlsx')"
   ]
  }
 ],
 "metadata": {
  "kernelspec": {
   "display_name": "Python 3",
   "language": "python",
   "name": "python3"
  },
  "language_info": {
   "codemirror_mode": {
    "name": "ipython",
    "version": 3
   },
   "file_extension": ".py",
   "mimetype": "text/x-python",
   "name": "python",
   "nbconvert_exporter": "python",
   "pygments_lexer": "ipython3",
   "version": "3.8.5"
  }
 },
 "nbformat": 4,
 "nbformat_minor": 2
}
