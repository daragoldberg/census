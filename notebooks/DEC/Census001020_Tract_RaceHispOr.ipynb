{
 "cells": [
  {
   "cell_type": "markdown",
   "metadata": {},
   "source": [
    "# 2000, 2010 and 2020 Race/Hispanic Origin by Census Tract for mapping"
   ]
  },
  {
   "cell_type": "code",
   "execution_count": 1,
   "metadata": {},
   "outputs": [],
   "source": [
    "import pandas as pd\n",
    "import numpy as np\n",
    "import os\n",
    "import glob"
   ]
  },
  {
   "cell_type": "code",
   "execution_count": 2,
   "metadata": {},
   "outputs": [],
   "source": [
    "from geo import stco,stco_fips,sub_7,sub_lbl\n",
    "from r_codes import geo_col,col1,col2,col3\n",
    "myAPI = os.environ.get('Census_API')"
   ]
  },
  {
   "cell_type": "markdown",
   "metadata": {},
   "source": [
    "### 2000 & 2010 census tract tables"
   ]
  },
  {
   "cell_type": "code",
   "execution_count": 3,
   "metadata": {},
   "outputs": [],
   "source": [
    "#variables and rename (different codes in 2000 vs. 2010 census)\n",
    "col_00 = f'P004002,P004005,P004006,P004007,P004008,P004009,P004010,P004011'\n",
    "col_00_rename={'P004002':'P_Hisp','P004005':'P_White','P004006':'P_Black','P004008':'P_Asian',\\\n",
    "               'P004007':'P_Other','P004009':'P_Other','P004010':'P_Other','P004011':'P_Other'}\n",
    "\n",
    "col_10 = f'P005003,P005004,P005005,P005006,P005007,P005008,P005009,P005010'\n",
    "col_10_rename={'P005003':'P_White','P005004':'P_Black','P005006':'P_Asian','P005010':'P_Hisp',\\\n",
    "               'P005005':'P_Other','P005007':'P_Other','P005008':'P_Other','P005009':'P_Other'}"
   ]
  },
  {
   "cell_type": "code",
   "execution_count": 4,
   "metadata": {},
   "outputs": [],
   "source": [
    "years = ['2000','2010']\n",
    "year_data = {'2000':col_00,'2010':col_10}\n",
    "year_recode = {'2000':col_00_rename,'2010':col_10_rename}"
   ]
  },
  {
   "cell_type": "code",
   "execution_count": 5,
   "metadata": {},
   "outputs": [],
   "source": [
    "## census data api pull & table build\n",
    "def api_pull(url):\n",
    "    df = pd.read_json(url)\n",
    "    df.columns = df.iloc[0]\n",
    "    df = df[1:]\n",
    "    return df\n",
    "\n",
    "## column cleanup function\n",
    "# moves label ids to the front, converts data columns to ints\n",
    "# recodes data columns to new id and groups duplicates (i.e., \"other race\")\n",
    "# then reorders after the groupby\n",
    "def col_clean(df,year,move):\n",
    "    df = df[move+[col for col in df.columns if col not in move]]\n",
    "    for col in df.columns[len(move):]:\n",
    "        df[col] = df[col].astype(int)\n",
    "    df = df.rename(columns=year_recode.get(year))\n",
    "    df = df.groupby(df.columns,axis=1).sum()\n",
    "    df = df[move+[col for col in df.columns if col not in move]]\n",
    "    return df\n",
    "\n",
    "## get tract data for 2000, 2010, 2020\n",
    "def get_tract(years):\n",
    "    dff = pd.DataFrame()\n",
    "    for year in years:\n",
    "        cols = year_data.get(year)\n",
    "        base_url = f'https://api.census.gov/data/{year}/dec/sf1'\n",
    "        for st,co in stco.items():\n",
    "            for c in co:\n",
    "                data_url = f'{base_url}?get={cols}&for=tract:*&in=state:{st}%20county:{c}&key={myAPI}'\n",
    "                df = api_pull(data_url)\n",
    "                df['yr'] = year\n",
    "                df['tract'] = df.tract.str.pad(width=6,side='right',fillchar='0')\n",
    "                df['id']=df.state+df.county+df.tract\n",
    "                df = df.drop(columns=['state','county','tract'])\n",
    "                move = ['id','yr']\n",
    "                df = col_clean(df,year,move)\n",
    "                dff = pd.concat([dff,df])\n",
    "    dff['yr'] = dff['yr'].astype(int).astype(str) #clean up year column\n",
    "    dff = dff.groupby(['id','yr']).sum().reset_index()\n",
    "    dff['id'] = dff['id'].astype(int)\n",
    "    return dff"
   ]
  },
  {
   "cell_type": "code",
   "execution_count": 6,
   "metadata": {},
   "outputs": [],
   "source": [
    "tract = get_tract(years)\n",
    "tract_00 = tract[tract['yr']=='2000'].drop(columns='yr')\n",
    "tract_10 = tract[tract['yr']=='2010'].drop(columns='yr')"
   ]
  },
  {
   "cell_type": "code",
   "execution_count": 7,
   "metadata": {},
   "outputs": [],
   "source": [
    "tract_00.to_csv('output/tract/race00.csv')\n",
    "tract_10.to_csv('output/tract/race10.csv')"
   ]
  },
  {
   "cell_type": "markdown",
   "metadata": {},
   "source": [
    "### 2020 Census Tract Table"
   ]
  },
  {
   "cell_type": "code",
   "execution_count": 8,
   "metadata": {},
   "outputs": [],
   "source": [
    "col_head = {'o':geo_col,'1':col1,'2':col2,'3':col3}\n",
    "col_join = ['LOGRECNO','STUSAB','FILEID','CHARITER']\n",
    "col_data = ['STATE','COUNTY','GEOCODE','SUMLEV',\\\n",
    "            'P0020002','P0020005','P0020006','P0020007',\\\n",
    "            'P0020008','P0020009','P0020010','P0020011']\n",
    "col_recode = {'GEOCODE':'id','P0020002':'P_Hisp','P0020005':'P_White','P0020006':'P_Black',\\\n",
    "              'P0020007':'P_Other','P0020008':'P_Asian','P0020009':'P_Other','P0020010':'P_Other',\\\n",
    "              'P0020011':'P_Other'}"
   ]
  },
  {
   "cell_type": "code",
   "execution_count": 9,
   "metadata": {},
   "outputs": [],
   "source": [
    "# set directory\n",
    "folders = glob.glob('../data/red_20/*')"
   ]
  },
  {
   "cell_type": "code",
   "execution_count": 10,
   "metadata": {},
   "outputs": [],
   "source": [
    "def make_state(state):\n",
    "    files = glob.glob(f'../data/red_20/{state}2020.pl/*.pl')\n",
    "    #for first file in folder\n",
    "    df = pd.read_table(f'{files[0]}',sep='|',header=None,low_memory=False)\n",
    "    df.columns = col_head[files[0][-8]]\n",
    "\n",
    "    #for all other files\n",
    "    for file in files[1:]:\n",
    "        dff = pd.read_table(f'{file}',sep='|',header=None,low_memory=False)\n",
    "        dff.columns = col_head[file[-8]]\n",
    "        df = pd.merge(df,dff,left_on=col_join,right_on=col_join,how=\"inner\")\n",
    "    \n",
    "    #reduce table size\n",
    "    df = df[col_data] #just the data columns we need\n",
    "    df = df[df.SUMLEV==140].copy() #just tracts\n",
    "    return df\n",
    "\n",
    "def make_table(folders):\n",
    "    df = pd.DataFrame()\n",
    "    for folder in folders:\n",
    "        state = folder[15:17]\n",
    "        dff = make_state(state)\n",
    "        df = pd.concat([df,dff])\n",
    "    return df"
   ]
  },
  {
   "cell_type": "code",
   "execution_count": 11,
   "metadata": {},
   "outputs": [],
   "source": [
    "#master regional table with counties, munis, and NYC tracts\n",
    "df = make_table(folders)\n",
    "df = df.rename(columns=col_recode)\n",
    "df = df.groupby(df.columns,axis=1).sum()\n",
    "df['STATE']= df['STATE'].astype(str).str.pad(width=2,side='left',fillchar='0')\n",
    "df['COUNTY']= df['COUNTY'].astype(int).astype(str).str.pad(width=3,side='left',fillchar='0')\n",
    "df['stco'] = df.STATE + df.COUNTY\n",
    "df = df[df['stco'].isin(stco_fips)]"
   ]
  },
  {
   "cell_type": "code",
   "execution_count": 12,
   "metadata": {},
   "outputs": [],
   "source": [
    "df = df.drop(columns=['STATE','SUMLEV','stco','COUNTY'])\n",
    "move = list(df.columns)\n",
    "move = [move[-1]]+move[:-1]\n",
    "df = df[move]\n",
    "df['id']=df.id.astype(int)"
   ]
  },
  {
   "cell_type": "code",
   "execution_count": 13,
   "metadata": {},
   "outputs": [],
   "source": [
    "df.to_csv('output/tract/race20.csv')"
   ]
  }
 ],
 "metadata": {
  "kernelspec": {
   "display_name": "Python 3",
   "language": "python",
   "name": "python3"
  },
  "language_info": {
   "codemirror_mode": {
    "name": "ipython",
    "version": 3
   },
   "file_extension": ".py",
   "mimetype": "text/x-python",
   "name": "python",
   "nbconvert_exporter": "python",
   "pygments_lexer": "ipython3",
   "version": "3.8.5"
  }
 },
 "nbformat": 4,
 "nbformat_minor": 4
}
