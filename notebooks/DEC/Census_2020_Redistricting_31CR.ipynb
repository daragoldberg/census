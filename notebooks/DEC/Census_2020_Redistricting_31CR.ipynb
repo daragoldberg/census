{
 "cells": [
  {
   "cell_type": "code",
   "execution_count": 64,
   "metadata": {},
   "outputs": [],
   "source": [
    "import pandas as pd\n",
    "import numpy as np\n",
    "import os\n",
    "import glob"
   ]
  },
  {
   "cell_type": "code",
   "execution_count": 65,
   "metadata": {},
   "outputs": [],
   "source": [
    "from r_codes import geo_col,col1,col2,col3\n",
    "from geo import stco_fips, metro_codes"
   ]
  },
  {
   "cell_type": "code",
   "execution_count": 66,
   "metadata": {},
   "outputs": [],
   "source": [
    "col_head = {'o':geo_col,'1':col1,'2':col2,'3':col3}\n",
    "col_join = ['LOGRECNO','STUSAB','FILEID','CHARITER']\n",
    "col_data = ['STATE','COUNTY','GEOCODE','SUMLEV','POP100','HU100','P0010001',\\\n",
    "            'H0010001','H0010002','H0010003','NAME']\n",
    "sumlev = [40,50,60,160,140]"
   ]
  },
  {
   "cell_type": "code",
   "execution_count": 67,
   "metadata": {},
   "outputs": [],
   "source": [
    "# set directory\n",
    "folders = glob.glob('../data/red_20/*')"
   ]
  },
  {
   "cell_type": "markdown",
   "metadata": {},
   "source": [
    "### data pulling functions for regional data"
   ]
  },
  {
   "cell_type": "code",
   "execution_count": 68,
   "metadata": {},
   "outputs": [],
   "source": [
    "def make_state(state):\n",
    "    files = glob.glob(f'../data/red_20/{state}2020.pl/*.pl')\n",
    "    #for first file in folder\n",
    "    df = pd.read_table(f'{files[0]}',sep='|',header=None,low_memory=False)\n",
    "    df.columns = col_head[files[0][-8]]\n",
    "\n",
    "    #for all other files\n",
    "    for file in files[1:]:\n",
    "        dff = pd.read_table(f'{file}',sep='|',header=None,low_memory=False)\n",
    "        dff.columns = col_head[file[-8]]\n",
    "        df = pd.merge(df,dff,left_on=col_join,right_on=col_join,how=\"inner\")\n",
    "    \n",
    "    #reduce table size\n",
    "    df = df[col_data] #just the data columns we need\n",
    "    df = df[df.SUMLEV.isin(sumlev)].copy() #just the geo types we need\n",
    "    df = df[df.GEOCODE.isin(metro_codes)].copy() #just the places in our region\n",
    "    return df"
   ]
  },
  {
   "cell_type": "code",
   "execution_count": 69,
   "metadata": {},
   "outputs": [],
   "source": [
    "def make_table(folders):\n",
    "    df = pd.DataFrame()\n",
    "    for folder in folders:\n",
    "        state = folder[15:17]\n",
    "        dff = make_state(state)\n",
    "        df = pd.concat([df,dff])\n",
    "    return df"
   ]
  },
  {
   "cell_type": "markdown",
   "metadata": {},
   "source": [
    "### make various tables"
   ]
  },
  {
   "cell_type": "code",
   "execution_count": 70,
   "metadata": {},
   "outputs": [],
   "source": [
    "#master regional table with counties, munis, and NYC tracts\n",
    "master = make_table(folders)"
   ]
  },
  {
   "cell_type": "code",
   "execution_count": 71,
   "metadata": {},
   "outputs": [],
   "source": [
    "county = master[master['SUMLEV']==50].copy()\n",
    "county.to_csv('output/counties_20.csv')"
   ]
  },
  {
   "cell_type": "code",
   "execution_count": 72,
   "metadata": {},
   "outputs": [],
   "source": [
    "#nyc tract to subborrough\n",
    "nyc = master[master['SUMLEV']==140].copy()"
   ]
  },
  {
   "cell_type": "code",
   "execution_count": 73,
   "metadata": {},
   "outputs": [],
   "source": [
    "nyc_recode = pd.read_csv('../data/geo/nyc_subbor_20.csv')\n",
    "nyc_recode['GEOID20']=nyc_recode['GEOID20'].astype(str)\n",
    "\n",
    "nyc = pd.merge(nyc_recode,nyc,left_on='GEOID20',right_on='GEOCODE',how='left')\n",
    "nyc_sub = nyc[['STATEFP20','COUNTYFP20','Subbor_id','Subbor_nm','POP100','HU100',\\\n",
    "               'P0010001','H0010001','H0010002','H0010003',]]"
   ]
  },
  {
   "cell_type": "code",
   "execution_count": 74,
   "metadata": {},
   "outputs": [],
   "source": [
    "nyc_sub = nyc_sub.groupby(['STATEFP20','COUNTYFP20','Subbor_id','Subbor_nm']).sum().reset_index()"
   ]
  },
  {
   "cell_type": "code",
   "execution_count": 75,
   "metadata": {},
   "outputs": [
    {
     "data": {
      "text/html": [
       "<div>\n",
       "<style scoped>\n",
       "    .dataframe tbody tr th:only-of-type {\n",
       "        vertical-align: middle;\n",
       "    }\n",
       "\n",
       "    .dataframe tbody tr th {\n",
       "        vertical-align: top;\n",
       "    }\n",
       "\n",
       "    .dataframe thead th {\n",
       "        text-align: right;\n",
       "    }\n",
       "</style>\n",
       "<table border=\"1\" class=\"dataframe\">\n",
       "  <thead>\n",
       "    <tr style=\"text-align: right;\">\n",
       "      <th></th>\n",
       "      <th>STATEFP20</th>\n",
       "      <th>COUNTYFP20</th>\n",
       "      <th>Subbor_id</th>\n",
       "      <th>Subbor_nm</th>\n",
       "      <th>POP100</th>\n",
       "      <th>HU100</th>\n",
       "      <th>P0010001</th>\n",
       "      <th>H0010001</th>\n",
       "      <th>H0010002</th>\n",
       "      <th>H0010003</th>\n",
       "    </tr>\n",
       "  </thead>\n",
       "  <tbody>\n",
       "    <tr>\n",
       "      <th>0</th>\n",
       "      <td>36</td>\n",
       "      <td>5</td>\n",
       "      <td>36005CS</td>\n",
       "      <td>BX Central and South</td>\n",
       "      <td>488720</td>\n",
       "      <td>176934</td>\n",
       "      <td>488720</td>\n",
       "      <td>176934</td>\n",
       "      <td>169664</td>\n",
       "      <td>7270</td>\n",
       "    </tr>\n",
       "    <tr>\n",
       "      <th>1</th>\n",
       "      <td>36</td>\n",
       "      <td>5</td>\n",
       "      <td>36005NE</td>\n",
       "      <td>BX North and East</td>\n",
       "      <td>272546</td>\n",
       "      <td>108236</td>\n",
       "      <td>272546</td>\n",
       "      <td>108236</td>\n",
       "      <td>102721</td>\n",
       "      <td>5515</td>\n",
       "    </tr>\n",
       "    <tr>\n",
       "      <th>2</th>\n",
       "      <td>36</td>\n",
       "      <td>5</td>\n",
       "      <td>36005W</td>\n",
       "      <td>BX West</td>\n",
       "      <td>711388</td>\n",
       "      <td>261860</td>\n",
       "      <td>711388</td>\n",
       "      <td>261860</td>\n",
       "      <td>250065</td>\n",
       "      <td>11795</td>\n",
       "    </tr>\n",
       "    <tr>\n",
       "      <th>3</th>\n",
       "      <td>36</td>\n",
       "      <td>47</td>\n",
       "      <td>36047C</td>\n",
       "      <td>BK Central</td>\n",
       "      <td>595377</td>\n",
       "      <td>233830</td>\n",
       "      <td>595377</td>\n",
       "      <td>233830</td>\n",
       "      <td>219831</td>\n",
       "      <td>13999</td>\n",
       "    </tr>\n",
       "    <tr>\n",
       "      <th>4</th>\n",
       "      <td>36</td>\n",
       "      <td>47</td>\n",
       "      <td>36047E</td>\n",
       "      <td>BK East</td>\n",
       "      <td>303777</td>\n",
       "      <td>111587</td>\n",
       "      <td>303777</td>\n",
       "      <td>111587</td>\n",
       "      <td>105312</td>\n",
       "      <td>6275</td>\n",
       "    </tr>\n",
       "  </tbody>\n",
       "</table>\n",
       "</div>"
      ],
      "text/plain": [
       "   STATEFP20  COUNTYFP20 Subbor_id             Subbor_nm  POP100   HU100  \\\n",
       "0         36           5   36005CS  BX Central and South  488720  176934   \n",
       "1         36           5   36005NE     BX North and East  272546  108236   \n",
       "2         36           5    36005W               BX West  711388  261860   \n",
       "3         36          47    36047C            BK Central  595377  233830   \n",
       "4         36          47    36047E               BK East  303777  111587   \n",
       "\n",
       "   P0010001  H0010001  H0010002  H0010003  \n",
       "0    488720    176934    169664      7270  \n",
       "1    272546    108236    102721      5515  \n",
       "2    711388    261860    250065     11795  \n",
       "3    595377    233830    219831     13999  \n",
       "4    303777    111587    105312      6275  "
      ]
     },
     "execution_count": 75,
     "metadata": {},
     "output_type": "execute_result"
    }
   ],
   "source": [
    "nyc_sub.head()"
   ]
  },
  {
   "cell_type": "code",
   "execution_count": 76,
   "metadata": {},
   "outputs": [],
   "source": [
    "#rename columns to join with subplace table\n",
    "nyc_sub = nyc_sub.rename(columns={'STATEFP20':'STATE','COUNTYFP20':'COUNTY',\\\n",
    "                                            'Subbor_id':'geoid','Subbor_nm':'name'})"
   ]
  },
  {
   "cell_type": "code",
   "execution_count": 77,
   "metadata": {},
   "outputs": [],
   "source": [
    "subpl20 = master[(master['SUMLEV']==160) | (master['SUMLEV']==60)]\n",
    "subpl20.to_csv('output/subpl_20.csv') #2020 geos"
   ]
  },
  {
   "cell_type": "code",
   "execution_count": 78,
   "metadata": {},
   "outputs": [],
   "source": [
    "#make adjusted subpl for calculation comparison over time\n",
    "subpl_recode = pd.read_csv('../data/geo/subpl20.csv')"
   ]
  },
  {
   "cell_type": "code",
   "execution_count": 79,
   "metadata": {},
   "outputs": [],
   "source": [
    "subpl_recode['geoid'] = subpl_recode['geoid'].astype(str)"
   ]
  },
  {
   "cell_type": "code",
   "execution_count": 80,
   "metadata": {
    "scrolled": true
   },
   "outputs": [],
   "source": [
    "subpl20 = subpl20.copy()\n",
    "subpl20['joinid'] = subpl20['GEOCODE'].astype(int)"
   ]
  },
  {
   "cell_type": "code",
   "execution_count": 81,
   "metadata": {},
   "outputs": [],
   "source": [
    "subpl_adj = pd.merge(subpl_recode,subpl20,left_on='id_20',right_on='joinid',how='left')"
   ]
  },
  {
   "cell_type": "code",
   "execution_count": 82,
   "metadata": {},
   "outputs": [],
   "source": [
    "subpl_adj = subpl_adj[['stco','geoid','name','POP100','HU100','P0010001','H0010001','H0010002','H0010003']]\n",
    "subpl_adj = subpl_adj.groupby(['stco','geoid','name']).sum().reset_index()"
   ]
  },
  {
   "cell_type": "code",
   "execution_count": 83,
   "metadata": {},
   "outputs": [],
   "source": [
    "subpl_final = pd.concat([nyc_sub,subpl_adj])\n",
    "subpl_final.to_csv('output/subpl_20_adj.csv')"
   ]
  },
  {
   "cell_type": "markdown",
   "metadata": {},
   "source": [
    "## national file"
   ]
  },
  {
   "cell_type": "code",
   "execution_count": 87,
   "metadata": {},
   "outputs": [],
   "source": [
    "us_files = glob.glob(f'../data/us2020.npl/*.pl')\n",
    "#for first file in folder\n",
    "us = pd.read_table(f'{us_files[0]}',sep='|',header=None,low_memory=False,encoding = 'unicode_escape')\n",
    "us.columns = col_head[us_files[0][-8]]\n",
    "\n",
    "#for all other files\n",
    "for file in us_files[1:]:\n",
    "    dff = pd.read_table(f'{file}',sep='|',header=None,low_memory=False,encoding = 'unicode_escape')\n",
    "    dff.columns = col_head[file[-8]]\n",
    "    us = pd.merge(us,dff,left_on=col_join,right_on=col_join,how=\"inner\")\n",
    "\n",
    "#reduce table size\n",
    "us = us[col_data] #just the data columns we need"
   ]
  },
  {
   "cell_type": "code",
   "execution_count": 88,
   "metadata": {},
   "outputs": [
    {
     "data": {
      "text/html": [
       "<div>\n",
       "<style scoped>\n",
       "    .dataframe tbody tr th:only-of-type {\n",
       "        vertical-align: middle;\n",
       "    }\n",
       "\n",
       "    .dataframe tbody tr th {\n",
       "        vertical-align: top;\n",
       "    }\n",
       "\n",
       "    .dataframe thead th {\n",
       "        text-align: right;\n",
       "    }\n",
       "</style>\n",
       "<table border=\"1\" class=\"dataframe\">\n",
       "  <thead>\n",
       "    <tr style=\"text-align: right;\">\n",
       "      <th></th>\n",
       "      <th>STATE</th>\n",
       "      <th>COUNTY</th>\n",
       "      <th>GEOCODE</th>\n",
       "      <th>SUMLEV</th>\n",
       "      <th>POP100</th>\n",
       "      <th>HU100</th>\n",
       "      <th>P0010001</th>\n",
       "      <th>H0010001</th>\n",
       "      <th>H0010002</th>\n",
       "      <th>H0010003</th>\n",
       "      <th>NAME</th>\n",
       "    </tr>\n",
       "  </thead>\n",
       "  <tbody>\n",
       "    <tr>\n",
       "      <th>0</th>\n",
       "      <td>NaN</td>\n",
       "      <td>NaN</td>\n",
       "      <td>NaN</td>\n",
       "      <td>10</td>\n",
       "      <td>331449281</td>\n",
       "      <td>140498736</td>\n",
       "      <td>331449281</td>\n",
       "      <td>140498736</td>\n",
       "      <td>126817580</td>\n",
       "      <td>13681156</td>\n",
       "      <td>United States</td>\n",
       "    </tr>\n",
       "    <tr>\n",
       "      <th>1</th>\n",
       "      <td>NaN</td>\n",
       "      <td>NaN</td>\n",
       "      <td>1</td>\n",
       "      <td>20</td>\n",
       "      <td>57609148</td>\n",
       "      <td>24716516</td>\n",
       "      <td>57609148</td>\n",
       "      <td>24716516</td>\n",
       "      <td>22371124</td>\n",
       "      <td>2345392</td>\n",
       "      <td>Northeast Region</td>\n",
       "    </tr>\n",
       "    <tr>\n",
       "      <th>2</th>\n",
       "      <td>NaN</td>\n",
       "      <td>NaN</td>\n",
       "      <td>2</td>\n",
       "      <td>20</td>\n",
       "      <td>68985454</td>\n",
       "      <td>30458979</td>\n",
       "      <td>68985454</td>\n",
       "      <td>30458979</td>\n",
       "      <td>27564312</td>\n",
       "      <td>2894667</td>\n",
       "      <td>Midwest Region</td>\n",
       "    </tr>\n",
       "    <tr>\n",
       "      <th>3</th>\n",
       "      <td>NaN</td>\n",
       "      <td>NaN</td>\n",
       "      <td>3</td>\n",
       "      <td>20</td>\n",
       "      <td>126266107</td>\n",
       "      <td>54542603</td>\n",
       "      <td>126266107</td>\n",
       "      <td>54542603</td>\n",
       "      <td>48613340</td>\n",
       "      <td>5929263</td>\n",
       "      <td>South Region</td>\n",
       "    </tr>\n",
       "    <tr>\n",
       "      <th>4</th>\n",
       "      <td>NaN</td>\n",
       "      <td>NaN</td>\n",
       "      <td>4</td>\n",
       "      <td>20</td>\n",
       "      <td>78588572</td>\n",
       "      <td>30780638</td>\n",
       "      <td>78588572</td>\n",
       "      <td>30780638</td>\n",
       "      <td>28268804</td>\n",
       "      <td>2511834</td>\n",
       "      <td>West Region</td>\n",
       "    </tr>\n",
       "  </tbody>\n",
       "</table>\n",
       "</div>"
      ],
      "text/plain": [
       "   STATE  COUNTY GEOCODE  SUMLEV     POP100      HU100   P0010001   H0010001  \\\n",
       "0    NaN     NaN     NaN      10  331449281  140498736  331449281  140498736   \n",
       "1    NaN     NaN       1      20   57609148   24716516   57609148   24716516   \n",
       "2    NaN     NaN       2      20   68985454   30458979   68985454   30458979   \n",
       "3    NaN     NaN       3      20  126266107   54542603  126266107   54542603   \n",
       "4    NaN     NaN       4      20   78588572   30780638   78588572   30780638   \n",
       "\n",
       "    H0010002  H0010003              NAME  \n",
       "0  126817580  13681156     United States  \n",
       "1   22371124   2345392  Northeast Region  \n",
       "2   27564312   2894667    Midwest Region  \n",
       "3   48613340   5929263      South Region  \n",
       "4   28268804   2511834       West Region  "
      ]
     },
     "execution_count": 88,
     "metadata": {},
     "output_type": "execute_result"
    }
   ],
   "source": [
    "us.head()"
   ]
  },
  {
   "cell_type": "code",
   "execution_count": 89,
   "metadata": {},
   "outputs": [],
   "source": [
    "us.to_csv('output/us_20.csv')"
   ]
  }
 ],
 "metadata": {
  "kernelspec": {
   "display_name": "Python 3",
   "language": "python",
   "name": "python3"
  },
  "language_info": {
   "codemirror_mode": {
    "name": "ipython",
    "version": 3
   },
   "file_extension": ".py",
   "mimetype": "text/x-python",
   "name": "python",
   "nbconvert_exporter": "python",
   "pygments_lexer": "ipython3",
   "version": "3.8.5"
  }
 },
 "nbformat": 4,
 "nbformat_minor": 4
}
