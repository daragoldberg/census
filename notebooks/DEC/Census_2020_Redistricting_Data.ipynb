{
 "cells": [
  {
   "cell_type": "code",
   "execution_count": 1,
   "metadata": {},
   "outputs": [],
   "source": [
    "import pandas as pd\n",
    "import numpy as np\n",
    "import os\n",
    "import glob"
   ]
  },
  {
   "cell_type": "code",
   "execution_count": 2,
   "metadata": {},
   "outputs": [],
   "source": [
    "from r_codes import geo_col,col1,col2,col3\n",
    "from geo import stco_fips, metro_codes"
   ]
  },
  {
   "cell_type": "code",
   "execution_count": 3,
   "metadata": {},
   "outputs": [],
   "source": [
    "col_head = {'o':geo_col,'1':col1,'2':col2,'3':col3}\n",
    "col_join = ['LOGRECNO','STUSAB','FILEID','CHARITER']\n",
    "col_data = ['STATE','COUNTY','GEOCODE','SUMLEV','POP100','HU100','P0010001','H0010001','NAME']\n",
    "sumlev = [40,50,60,160,140]"
   ]
  },
  {
   "cell_type": "code",
   "execution_count": 4,
   "metadata": {},
   "outputs": [],
   "source": [
    "# WILL NEED TO IDENTIFY STRING INDICATING STATE\n",
    "folders = glob.glob('../data/red_20/*')\n",
    "\n",
    "#use this to figure out where the statename is in the folder string\n",
    "for folder in folders:\n",
    "    print(folder[15:17])"
   ]
  },
  {
   "cell_type": "markdown",
   "metadata": {},
   "source": [
    "### data pulling functions for regional data"
   ]
  },
  {
   "cell_type": "code",
   "execution_count": null,
   "metadata": {},
   "outputs": [],
   "source": [
    "def make_state(state):\n",
    "    files = glob.glob(f'../data/red_20/{state}2020.pl/*.pl')\n",
    "    #for first file in folder\n",
    "    df = pd.read_table(f'{files[0]}',sep='|',header=None,low_memory=False)\n",
    "    df.columns = col_head[files[0][-8]]\n",
    "\n",
    "    #for all other files\n",
    "    for file in files[1:]:\n",
    "        dff = pd.read_table(f'{file}',sep='|',header=None,low_memory=False)\n",
    "        dff.columns = col_head[file[-8]] #CONFIRM WHERE FILE # WILL BE\n",
    "        df = pd.merge(df,dff,left_on=col_join,right_on=col_join,how=\"inner\")\n",
    "    \n",
    "    #reduce table size\n",
    "    df = df[col_data] #just the data columns we need\n",
    "    df = df[df.SUMLEV.isin(sumlev)].copy() #just the geo types we need\n",
    "    df = df[df.GEOCODE.isin(metro_codes)].copy() #just the places in our region\n",
    "    return df"
   ]
  },
  {
   "cell_type": "code",
   "execution_count": null,
   "metadata": {},
   "outputs": [],
   "source": [
    "def make_table(folders):\n",
    "    df = pd.DataFrame()\n",
    "    for folder in folders:\n",
    "        state = folder[15:17] #may need to change the location of where files are named\n",
    "        dff = make_state(state)\n",
    "        df = pd.concat([df,dff])\n",
    "    return df"
   ]
  },
  {
   "cell_type": "markdown",
   "metadata": {},
   "source": [
    "### make various tables"
   ]
  },
  {
   "cell_type": "code",
   "execution_count": null,
   "metadata": {},
   "outputs": [],
   "source": [
    "#master regional table with counties, munis, and NYC tracts\n",
    "master = make_table(folders)"
   ]
  },
  {
   "cell_type": "code",
   "execution_count": null,
   "metadata": {},
   "outputs": [],
   "source": [
    "county = master[master['SUMLEV']==50].copy()\n",
    "county.to_csv('output/counties_20.csv')"
   ]
  },
  {
   "cell_type": "code",
   "execution_count": null,
   "metadata": {},
   "outputs": [],
   "source": [
    "#nyc tract to subborrough\n",
    "nyc = master[master['SUMLEV']==140].copy()"
   ]
  },
  {
   "cell_type": "code",
   "execution_count": 6,
   "metadata": {},
   "outputs": [],
   "source": [
    "nyc_recode = pd.read_csv('../data/geo/nyc_subbor_20.csv')\n",
    "nyc_recode['GEOID20']=nyc_recode['GEOID20'].astype(str)\n",
    "\n",
    "nyc = pd.merge(nyc_recode,nyc,left_on='GEOID20',right_on='GEOCODE',how='left')\n",
    "nyc_sub = nyc[['STATEFP20','COUNTYFP20','Subbor_id','Subbor_nm','POP100','HU100','P0010001','H0010001']]"
   ]
  },
  {
   "cell_type": "code",
   "execution_count": 9,
   "metadata": {},
   "outputs": [],
   "source": [
    "nyc_sub_test = nyc_sub.groupby(['STATEFP20','COUNTYFP20','Subbor_id','Subbor_nm']).sum().reset_index()"
   ]
  },
  {
   "cell_type": "code",
   "execution_count": 7,
   "metadata": {},
   "outputs": [
    {
     "data": {
      "text/html": [
       "<div>\n",
       "<style scoped>\n",
       "    .dataframe tbody tr th:only-of-type {\n",
       "        vertical-align: middle;\n",
       "    }\n",
       "\n",
       "    .dataframe tbody tr th {\n",
       "        vertical-align: top;\n",
       "    }\n",
       "\n",
       "    .dataframe thead th {\n",
       "        text-align: right;\n",
       "    }\n",
       "</style>\n",
       "<table border=\"1\" class=\"dataframe\">\n",
       "  <thead>\n",
       "    <tr style=\"text-align: right;\">\n",
       "      <th></th>\n",
       "      <th>STATEFP20</th>\n",
       "      <th>COUNTYFP20</th>\n",
       "      <th>TRACTCE20</th>\n",
       "      <th>GEOID20</th>\n",
       "      <th>NAME20</th>\n",
       "      <th>NAMELSAD20</th>\n",
       "      <th>MTFCC20</th>\n",
       "      <th>FUNCSTAT20</th>\n",
       "      <th>ALAND20</th>\n",
       "      <th>AWATER20</th>\n",
       "      <th>INTPTLAT20</th>\n",
       "      <th>INTPTLON20</th>\n",
       "      <th>Subbor_nm</th>\n",
       "      <th>Subbor_id</th>\n",
       "    </tr>\n",
       "  </thead>\n",
       "  <tbody>\n",
       "    <tr>\n",
       "      <th>0</th>\n",
       "      <td>36</td>\n",
       "      <td>81</td>\n",
       "      <td>152902</td>\n",
       "      <td>36081152902</td>\n",
       "      <td>1529.02</td>\n",
       "      <td>Census Tract</td>\n",
       "      <td>G5020</td>\n",
       "      <td>S</td>\n",
       "      <td>1032987</td>\n",
       "      <td>0</td>\n",
       "      <td>40.759314</td>\n",
       "      <td>-73.724016</td>\n",
       "      <td>QN Northeast</td>\n",
       "      <td>36081NE</td>\n",
       "    </tr>\n",
       "    <tr>\n",
       "      <th>1</th>\n",
       "      <td>36</td>\n",
       "      <td>81</td>\n",
       "      <td>152901</td>\n",
       "      <td>36081152901</td>\n",
       "      <td>1529.01</td>\n",
       "      <td>Census Tract</td>\n",
       "      <td>G5020</td>\n",
       "      <td>S</td>\n",
       "      <td>1399259</td>\n",
       "      <td>0</td>\n",
       "      <td>40.752330</td>\n",
       "      <td>-73.733654</td>\n",
       "      <td>QN Northeast</td>\n",
       "      <td>36081NE</td>\n",
       "    </tr>\n",
       "    <tr>\n",
       "      <th>2</th>\n",
       "      <td>36</td>\n",
       "      <td>81</td>\n",
       "      <td>150702</td>\n",
       "      <td>36081150702</td>\n",
       "      <td>1507.02</td>\n",
       "      <td>Census Tract</td>\n",
       "      <td>G5020</td>\n",
       "      <td>S</td>\n",
       "      <td>835426</td>\n",
       "      <td>0</td>\n",
       "      <td>40.766372</td>\n",
       "      <td>-73.730825</td>\n",
       "      <td>QN Northeast</td>\n",
       "      <td>36081NE</td>\n",
       "    </tr>\n",
       "    <tr>\n",
       "      <th>3</th>\n",
       "      <td>36</td>\n",
       "      <td>81</td>\n",
       "      <td>150701</td>\n",
       "      <td>36081150701</td>\n",
       "      <td>1507.01</td>\n",
       "      <td>Census Tract</td>\n",
       "      <td>G5020</td>\n",
       "      <td>S</td>\n",
       "      <td>877002</td>\n",
       "      <td>0</td>\n",
       "      <td>40.762201</td>\n",
       "      <td>-73.739702</td>\n",
       "      <td>QN Northeast</td>\n",
       "      <td>36081NE</td>\n",
       "    </tr>\n",
       "    <tr>\n",
       "      <th>4</th>\n",
       "      <td>36</td>\n",
       "      <td>81</td>\n",
       "      <td>148300</td>\n",
       "      <td>36081148300</td>\n",
       "      <td>1483.00</td>\n",
       "      <td>Census Tract</td>\n",
       "      <td>G5020</td>\n",
       "      <td>S</td>\n",
       "      <td>1334134</td>\n",
       "      <td>1047226</td>\n",
       "      <td>40.775859</td>\n",
       "      <td>-73.751970</td>\n",
       "      <td>QN Northeast</td>\n",
       "      <td>36081NE</td>\n",
       "    </tr>\n",
       "  </tbody>\n",
       "</table>\n",
       "</div>"
      ],
      "text/plain": [
       "   STATEFP20  COUNTYFP20  TRACTCE20      GEOID20   NAME20    NAMELSAD20  \\\n",
       "0         36          81     152902  36081152902  1529.02  Census Tract   \n",
       "1         36          81     152901  36081152901  1529.01  Census Tract   \n",
       "2         36          81     150702  36081150702  1507.02  Census Tract   \n",
       "3         36          81     150701  36081150701  1507.01  Census Tract   \n",
       "4         36          81     148300  36081148300  1483.00  Census Tract   \n",
       "\n",
       "  MTFCC20 FUNCSTAT20  ALAND20  AWATER20  INTPTLAT20  INTPTLON20     Subbor_nm  \\\n",
       "0   G5020          S  1032987         0   40.759314  -73.724016  QN Northeast   \n",
       "1   G5020          S  1399259         0   40.752330  -73.733654  QN Northeast   \n",
       "2   G5020          S   835426         0   40.766372  -73.730825  QN Northeast   \n",
       "3   G5020          S   877002         0   40.762201  -73.739702  QN Northeast   \n",
       "4   G5020          S  1334134   1047226   40.775859  -73.751970  QN Northeast   \n",
       "\n",
       "  Subbor_id  \n",
       "0   36081NE  \n",
       "1   36081NE  \n",
       "2   36081NE  \n",
       "3   36081NE  \n",
       "4   36081NE  "
      ]
     },
     "execution_count": 7,
     "metadata": {},
     "output_type": "execute_result"
    }
   ],
   "source": [
    "nyc_sub_test.head()"
   ]
  },
  {
   "cell_type": "code",
   "execution_count": null,
   "metadata": {},
   "outputs": [],
   "source": [
    "#rename columns to join with subplace table\n",
    "nyc_sub_test = nyc_sub_test.rename(columns={'STATEFP20':'STATE','COUNTYFP20':'COUNTY',\\\n",
    "                                            'Subbor_id':'geoid','Subbor_nm':'name'})"
   ]
  },
  {
   "cell_type": "code",
   "execution_count": null,
   "metadata": {},
   "outputs": [],
   "source": [
    "subpl20 = master[(master['SUMLEV']==160) or (master['SUMLEV']==60)]\n",
    "subpl20.to_csv('output/subpl_20.csv')"
   ]
  },
  {
   "cell_type": "code",
   "execution_count": 11,
   "metadata": {},
   "outputs": [],
   "source": [
    "#make adjusted subpl for calculation comparison over time\n",
    "subpl_recode = pd.read_csv('../data/geo/subpl20.csv')"
   ]
  },
  {
   "cell_type": "code",
   "execution_count": 12,
   "metadata": {},
   "outputs": [
    {
     "data": {
      "text/html": [
       "<div>\n",
       "<style scoped>\n",
       "    .dataframe tbody tr th:only-of-type {\n",
       "        vertical-align: middle;\n",
       "    }\n",
       "\n",
       "    .dataframe tbody tr th {\n",
       "        vertical-align: top;\n",
       "    }\n",
       "\n",
       "    .dataframe thead th {\n",
       "        text-align: right;\n",
       "    }\n",
       "</style>\n",
       "<table border=\"1\" class=\"dataframe\">\n",
       "  <thead>\n",
       "    <tr style=\"text-align: right;\">\n",
       "      <th></th>\n",
       "      <th>stco</th>\n",
       "      <th>id_20</th>\n",
       "      <th>nm_20</th>\n",
       "      <th>geoid</th>\n",
       "      <th>name</th>\n",
       "    </tr>\n",
       "  </thead>\n",
       "  <tbody>\n",
       "    <tr>\n",
       "      <th>0</th>\n",
       "      <td>9001</td>\n",
       "      <td>900104720</td>\n",
       "      <td>Bethel town, Fairfield County, Connecticut</td>\n",
       "      <td>900104720</td>\n",
       "      <td>Bethel town, Fairfield County, Connecticut</td>\n",
       "    </tr>\n",
       "    <tr>\n",
       "      <th>1</th>\n",
       "      <td>9001</td>\n",
       "      <td>900108070</td>\n",
       "      <td>Bridgeport town, Fairfield County, Connecticut</td>\n",
       "      <td>900108070</td>\n",
       "      <td>Bridgeport town, Fairfield County, Connecticut</td>\n",
       "    </tr>\n",
       "    <tr>\n",
       "      <th>2</th>\n",
       "      <td>9001</td>\n",
       "      <td>900108980</td>\n",
       "      <td>Brookfield town, Fairfield County, Connecticut</td>\n",
       "      <td>900108980</td>\n",
       "      <td>Brookfield town, Fairfield County, Connecticut</td>\n",
       "    </tr>\n",
       "    <tr>\n",
       "      <th>3</th>\n",
       "      <td>9001</td>\n",
       "      <td>900118500</td>\n",
       "      <td>Danbury town, Fairfield County, Connecticut</td>\n",
       "      <td>900118500</td>\n",
       "      <td>Danbury town, Fairfield County, Connecticut</td>\n",
       "    </tr>\n",
       "    <tr>\n",
       "      <th>4</th>\n",
       "      <td>9001</td>\n",
       "      <td>900118850</td>\n",
       "      <td>Darien town, Fairfield County, Connecticut</td>\n",
       "      <td>900118850</td>\n",
       "      <td>Darien town, Fairfield County, Connecticut</td>\n",
       "    </tr>\n",
       "  </tbody>\n",
       "</table>\n",
       "</div>"
      ],
      "text/plain": [
       "   stco      id_20                                           nm_20      geoid  \\\n",
       "0  9001  900104720      Bethel town, Fairfield County, Connecticut  900104720   \n",
       "1  9001  900108070  Bridgeport town, Fairfield County, Connecticut  900108070   \n",
       "2  9001  900108980  Brookfield town, Fairfield County, Connecticut  900108980   \n",
       "3  9001  900118500     Danbury town, Fairfield County, Connecticut  900118500   \n",
       "4  9001  900118850      Darien town, Fairfield County, Connecticut  900118850   \n",
       "\n",
       "                                             name  \n",
       "0      Bethel town, Fairfield County, Connecticut  \n",
       "1  Bridgeport town, Fairfield County, Connecticut  \n",
       "2  Brookfield town, Fairfield County, Connecticut  \n",
       "3     Danbury town, Fairfield County, Connecticut  \n",
       "4      Darien town, Fairfield County, Connecticut  "
      ]
     },
     "execution_count": 12,
     "metadata": {},
     "output_type": "execute_result"
    }
   ],
   "source": [
    "subpl_recode.head()"
   ]
  },
  {
   "cell_type": "code",
   "execution_count": 15,
   "metadata": {},
   "outputs": [
    {
     "data": {
      "text/plain": [
       "stco      int64\n",
       "id_20     int64\n",
       "nm_20    object\n",
       "geoid     int64\n",
       "name     object\n",
       "dtype: object"
      ]
     },
     "execution_count": 15,
     "metadata": {},
     "output_type": "execute_result"
    }
   ],
   "source": [
    "subpl_recode.dtypes"
   ]
  },
  {
   "cell_type": "code",
   "execution_count": null,
   "metadata": {},
   "outputs": [],
   "source": [
    "subpl20['joinid'] = subpl20.GEOCODE.astype(int)\n",
    "subpl_adj = pd.merge(subpl_recode,subpl20,left_on='id_20',right_on='joinid',how='left')"
   ]
  },
  {
   "cell_type": "code",
   "execution_count": null,
   "metadata": {},
   "outputs": [],
   "source": [
    "subpl_adj = subpl_adj[['STATE','COUNTY','geoid','name','POP100','HU100','P0010001','H0010001']]\n",
    "subpl_adj_2 = subpl_adj.groupby(['STATE','COUNTY','geoid','name']).sum().reset_index()"
   ]
  },
  {
   "cell_type": "code",
   "execution_count": null,
   "metadata": {},
   "outputs": [],
   "source": [
    "subpl_final = pd.concat([nyc_sub_test,subpl])"
   ]
  }
 ],
 "metadata": {
  "kernelspec": {
   "display_name": "Python 3",
   "language": "python",
   "name": "python3"
  },
  "language_info": {
   "codemirror_mode": {
    "name": "ipython",
    "version": 3
   },
   "file_extension": ".py",
   "mimetype": "text/x-python",
   "name": "python",
   "nbconvert_exporter": "python",
   "pygments_lexer": "ipython3",
   "version": "3.8.5"
  }
 },
 "nbformat": 4,
 "nbformat_minor": 4
}
