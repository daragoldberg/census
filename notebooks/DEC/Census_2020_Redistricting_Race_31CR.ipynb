{
 "cells": [
  {
   "cell_type": "markdown",
   "metadata": {},
   "source": [
    "## Notebook to compile data for geographies in the NYC Metro from Census redistricting files\n",
    "\n",
    "#### Requires local storage of Census zip files for each state as .pl format and place in folder directory"
   ]
  },
  {
   "cell_type": "code",
   "execution_count": 1,
   "metadata": {},
   "outputs": [],
   "source": [
    "import pandas as pd\n",
    "import numpy as np\n",
    "import os\n",
    "import glob"
   ]
  },
  {
   "cell_type": "code",
   "execution_count": 2,
   "metadata": {},
   "outputs": [],
   "source": [
    "from r_codes import geo_col,col1,col2,col3\n",
    "from geo import stco_fips, metro_codes"
   ]
  },
  {
   "cell_type": "code",
   "execution_count": 3,
   "metadata": {},
   "outputs": [],
   "source": [
    "# if pulling different variables, replace data columns in col_data\n",
    "col_head = {'o':geo_col,'1':col1,'2':col2,'3':col3}\n",
    "col_join = ['LOGRECNO','STUSAB','FILEID','CHARITER']\n",
    "col_data = ['STATE','COUNTY','GEOCODE','SUMLEV','POP100','HU100','P0010001',\\\n",
    "            'P0020001','P0020002','P0020003','P0020004','P0020005','P0020006','P0020007',\\\n",
    "            'P0020008','P0020009','P0020010','P0020011',\\\n",
    "            'H0010001','H0010002','H0010003','NAME']\n",
    "sumlev = [40,50,60,160,140]"
   ]
  },
  {
   "cell_type": "code",
   "execution_count": 4,
   "metadata": {},
   "outputs": [],
   "source": [
    "# set directory\n",
    "folders = glob.glob('../data/red_20/*')"
   ]
  },
  {
   "cell_type": "markdown",
   "metadata": {},
   "source": [
    "### data pulling functions for regional data"
   ]
  },
  {
   "cell_type": "code",
   "execution_count": 5,
   "metadata": {},
   "outputs": [],
   "source": [
    "def make_state(state):\n",
    "    files = glob.glob(f'../data/red_20/{state}2020.pl/*.pl')\n",
    "    #for first file in folder\n",
    "    df = pd.read_table(f'{files[0]}',sep='|',header=None,low_memory=False)\n",
    "    df.columns = col_head[files[0][-8]]\n",
    "\n",
    "    #for all other files\n",
    "    for file in files[1:]:\n",
    "        dff = pd.read_table(f'{file}',sep='|',header=None,low_memory=False)\n",
    "        dff.columns = col_head[file[-8]]\n",
    "        df = pd.merge(df,dff,left_on=col_join,right_on=col_join,how=\"inner\")\n",
    "    \n",
    "    #reduce table size\n",
    "    df = df[col_data] #just the data columns we need\n",
    "    df = df[df.SUMLEV.isin(sumlev)].copy() #just the geo types we need\n",
    "    df = df[df.GEOCODE.isin(metro_codes)].copy() #just the places in our region\n",
    "    return df"
   ]
  },
  {
   "cell_type": "code",
   "execution_count": 6,
   "metadata": {},
   "outputs": [],
   "source": [
    "def make_table(folders):\n",
    "    df = pd.DataFrame()\n",
    "    for folder in folders:\n",
    "        state = folder[15:17]\n",
    "        dff = make_state(state)\n",
    "        df = pd.concat([df,dff])\n",
    "    return df"
   ]
  },
  {
   "cell_type": "markdown",
   "metadata": {},
   "source": [
    "### make various tables"
   ]
  },
  {
   "cell_type": "code",
   "execution_count": 7,
   "metadata": {},
   "outputs": [],
   "source": [
    "#master regional table with counties, munis, and NYC tracts\n",
    "master = make_table(folders)"
   ]
  },
  {
   "cell_type": "code",
   "execution_count": 8,
   "metadata": {},
   "outputs": [],
   "source": [
    "county = master[master['SUMLEV']==50].copy()\n",
    "county.to_csv('output/counties_20.csv')"
   ]
  },
  {
   "cell_type": "code",
   "execution_count": 9,
   "metadata": {},
   "outputs": [],
   "source": [
    "#nyc tract to subborrough\n",
    "nyc = master[master['SUMLEV']==140].copy()"
   ]
  },
  {
   "cell_type": "code",
   "execution_count": 10,
   "metadata": {},
   "outputs": [],
   "source": [
    "nyc_recode = pd.read_csv('../data/geo/nyc_subbor_20.csv')\n",
    "nyc_recode['GEOID20']=nyc_recode['GEOID20'].astype(str)\n",
    "\n",
    "nyc = pd.merge(nyc_recode,nyc,left_on='GEOID20',right_on='GEOCODE',how='left')\n",
    "nyc_sub = nyc[['STATEFP20','COUNTYFP20','Subbor_id','Subbor_nm','POP100','HU100','P0010001',\\\n",
    "            'P0020001','P0020002','P0020003','P0020004','P0020005','P0020006','P0020007',\\\n",
    "            'P0020008','P0020009','P0020010','P0020011',\\\n",
    "            'H0010001','H0010002','H0010003']]"
   ]
  },
  {
   "cell_type": "code",
   "execution_count": 11,
   "metadata": {},
   "outputs": [
    {
     "name": "stderr",
     "output_type": "stream",
     "text": [
      "<ipython-input-11-8caff3b6d8ad>:2: SettingWithCopyWarning: \n",
      "A value is trying to be set on a copy of a slice from a DataFrame.\n",
      "Try using .loc[row_indexer,col_indexer] = value instead\n",
      "\n",
      "See the caveats in the documentation: https://pandas.pydata.org/pandas-docs/stable/user_guide/indexing.html#returning-a-view-versus-a-copy\n",
      "  nyc_sub['stco'] = nyc_sub['STATEFP20'].astype(str) + nyc_sub['COUNTYFP20'].astype(str).apply(lambda x:'{0:0>3}'.format(x))\n"
     ]
    }
   ],
   "source": [
    "#update columns for consistency with subpl table\n",
    "nyc_sub['stco'] = nyc_sub['STATEFP20'].astype(str) + nyc_sub['COUNTYFP20'].astype(str).apply(lambda x:'{0:0>3}'.format(x))\n",
    "nyc_sub = nyc_sub.rename(columns={'Subbor_id':'geoid','Subbor_nm':'name'})\n",
    "nyc_sub = nyc_sub.drop(columns=['STATEFP20','COUNTYFP20'])"
   ]
  },
  {
   "cell_type": "code",
   "execution_count": 12,
   "metadata": {},
   "outputs": [],
   "source": [
    "nyc_sub = nyc_sub.groupby(['stco','geoid','name']).sum().reset_index()"
   ]
  },
  {
   "cell_type": "code",
   "execution_count": 13,
   "metadata": {},
   "outputs": [
    {
     "data": {
      "text/html": [
       "<div>\n",
       "<style scoped>\n",
       "    .dataframe tbody tr th:only-of-type {\n",
       "        vertical-align: middle;\n",
       "    }\n",
       "\n",
       "    .dataframe tbody tr th {\n",
       "        vertical-align: top;\n",
       "    }\n",
       "\n",
       "    .dataframe thead th {\n",
       "        text-align: right;\n",
       "    }\n",
       "</style>\n",
       "<table border=\"1\" class=\"dataframe\">\n",
       "  <thead>\n",
       "    <tr style=\"text-align: right;\">\n",
       "      <th></th>\n",
       "      <th>stco</th>\n",
       "      <th>geoid</th>\n",
       "      <th>name</th>\n",
       "      <th>POP100</th>\n",
       "      <th>HU100</th>\n",
       "      <th>P0010001</th>\n",
       "      <th>P0020001</th>\n",
       "      <th>P0020002</th>\n",
       "      <th>P0020003</th>\n",
       "      <th>P0020004</th>\n",
       "      <th>P0020005</th>\n",
       "      <th>P0020006</th>\n",
       "      <th>P0020007</th>\n",
       "      <th>P0020008</th>\n",
       "      <th>P0020009</th>\n",
       "      <th>P0020010</th>\n",
       "      <th>P0020011</th>\n",
       "      <th>H0010001</th>\n",
       "      <th>H0010002</th>\n",
       "      <th>H0010003</th>\n",
       "    </tr>\n",
       "  </thead>\n",
       "  <tbody>\n",
       "    <tr>\n",
       "      <th>0</th>\n",
       "      <td>36005</td>\n",
       "      <td>36005CS</td>\n",
       "      <td>BX Central and South</td>\n",
       "      <td>488720</td>\n",
       "      <td>176934</td>\n",
       "      <td>488720</td>\n",
       "      <td>488720</td>\n",
       "      <td>275049</td>\n",
       "      <td>213671</td>\n",
       "      <td>203837</td>\n",
       "      <td>36205</td>\n",
       "      <td>121583</td>\n",
       "      <td>1227</td>\n",
       "      <td>38360</td>\n",
       "      <td>157</td>\n",
       "      <td>6305</td>\n",
       "      <td>9834</td>\n",
       "      <td>176934</td>\n",
       "      <td>169664</td>\n",
       "      <td>7270</td>\n",
       "    </tr>\n",
       "    <tr>\n",
       "      <th>1</th>\n",
       "      <td>36005</td>\n",
       "      <td>36005NE</td>\n",
       "      <td>BX North and East</td>\n",
       "      <td>272546</td>\n",
       "      <td>108236</td>\n",
       "      <td>272546</td>\n",
       "      <td>272546</td>\n",
       "      <td>87739</td>\n",
       "      <td>184807</td>\n",
       "      <td>177983</td>\n",
       "      <td>40332</td>\n",
       "      <td>125441</td>\n",
       "      <td>600</td>\n",
       "      <td>8026</td>\n",
       "      <td>95</td>\n",
       "      <td>3489</td>\n",
       "      <td>6824</td>\n",
       "      <td>108236</td>\n",
       "      <td>102721</td>\n",
       "      <td>5515</td>\n",
       "    </tr>\n",
       "    <tr>\n",
       "      <th>2</th>\n",
       "      <td>36005</td>\n",
       "      <td>36005W</td>\n",
       "      <td>BX West</td>\n",
       "      <td>711388</td>\n",
       "      <td>261860</td>\n",
       "      <td>711388</td>\n",
       "      <td>711388</td>\n",
       "      <td>443675</td>\n",
       "      <td>267713</td>\n",
       "      <td>256001</td>\n",
       "      <td>54259</td>\n",
       "      <td>172369</td>\n",
       "      <td>1260</td>\n",
       "      <td>21380</td>\n",
       "      <td>205</td>\n",
       "      <td>6528</td>\n",
       "      <td>11712</td>\n",
       "      <td>261860</td>\n",
       "      <td>250065</td>\n",
       "      <td>11795</td>\n",
       "    </tr>\n",
       "    <tr>\n",
       "      <th>3</th>\n",
       "      <td>36047</td>\n",
       "      <td>36047C</td>\n",
       "      <td>BK Central</td>\n",
       "      <td>595377</td>\n",
       "      <td>233830</td>\n",
       "      <td>595377</td>\n",
       "      <td>595377</td>\n",
       "      <td>58718</td>\n",
       "      <td>536659</td>\n",
       "      <td>504091</td>\n",
       "      <td>112351</td>\n",
       "      <td>360365</td>\n",
       "      <td>948</td>\n",
       "      <td>22709</td>\n",
       "      <td>139</td>\n",
       "      <td>7579</td>\n",
       "      <td>32568</td>\n",
       "      <td>233830</td>\n",
       "      <td>219831</td>\n",
       "      <td>13999</td>\n",
       "    </tr>\n",
       "    <tr>\n",
       "      <th>4</th>\n",
       "      <td>36047</td>\n",
       "      <td>36047E</td>\n",
       "      <td>BK East</td>\n",
       "      <td>303777</td>\n",
       "      <td>111587</td>\n",
       "      <td>303777</td>\n",
       "      <td>303777</td>\n",
       "      <td>96051</td>\n",
       "      <td>207726</td>\n",
       "      <td>193980</td>\n",
       "      <td>9930</td>\n",
       "      <td>162190</td>\n",
       "      <td>1011</td>\n",
       "      <td>16180</td>\n",
       "      <td>99</td>\n",
       "      <td>4570</td>\n",
       "      <td>13746</td>\n",
       "      <td>111587</td>\n",
       "      <td>105312</td>\n",
       "      <td>6275</td>\n",
       "    </tr>\n",
       "  </tbody>\n",
       "</table>\n",
       "</div>"
      ],
      "text/plain": [
       "    stco    geoid                  name  POP100   HU100  P0010001  P0020001  \\\n",
       "0  36005  36005CS  BX Central and South  488720  176934    488720    488720   \n",
       "1  36005  36005NE     BX North and East  272546  108236    272546    272546   \n",
       "2  36005   36005W               BX West  711388  261860    711388    711388   \n",
       "3  36047   36047C            BK Central  595377  233830    595377    595377   \n",
       "4  36047   36047E               BK East  303777  111587    303777    303777   \n",
       "\n",
       "   P0020002  P0020003  P0020004  P0020005  P0020006  P0020007  P0020008  \\\n",
       "0    275049    213671    203837     36205    121583      1227     38360   \n",
       "1     87739    184807    177983     40332    125441       600      8026   \n",
       "2    443675    267713    256001     54259    172369      1260     21380   \n",
       "3     58718    536659    504091    112351    360365       948     22709   \n",
       "4     96051    207726    193980      9930    162190      1011     16180   \n",
       "\n",
       "   P0020009  P0020010  P0020011  H0010001  H0010002  H0010003  \n",
       "0       157      6305      9834    176934    169664      7270  \n",
       "1        95      3489      6824    108236    102721      5515  \n",
       "2       205      6528     11712    261860    250065     11795  \n",
       "3       139      7579     32568    233830    219831     13999  \n",
       "4        99      4570     13746    111587    105312      6275  "
      ]
     },
     "execution_count": 13,
     "metadata": {},
     "output_type": "execute_result"
    }
   ],
   "source": [
    "nyc_sub.head()\n"
   ]
  },
  {
   "cell_type": "code",
   "execution_count": 14,
   "metadata": {},
   "outputs": [],
   "source": [
    "subpl20 = master[(master['SUMLEV']==160) | (master['SUMLEV']==60)]\n",
    "subpl20.to_csv('output/subpl_20.csv') #2020 geos"
   ]
  },
  {
   "cell_type": "code",
   "execution_count": 15,
   "metadata": {},
   "outputs": [],
   "source": [
    "#make adjusted subpl for calculation comparison over time\n",
    "subpl_recode = pd.read_csv('../data/geo/subpl20.csv')"
   ]
  },
  {
   "cell_type": "code",
   "execution_count": 16,
   "metadata": {},
   "outputs": [],
   "source": [
    "subpl_recode['geoid'] = subpl_recode['geoid'].astype(str)"
   ]
  },
  {
   "cell_type": "code",
   "execution_count": 17,
   "metadata": {
    "scrolled": true
   },
   "outputs": [],
   "source": [
    "subpl20 = subpl20.copy()\n",
    "subpl20['joinid'] = subpl20['GEOCODE'].astype(int)"
   ]
  },
  {
   "cell_type": "code",
   "execution_count": 18,
   "metadata": {},
   "outputs": [],
   "source": [
    "subpl_adj = pd.merge(subpl_recode,subpl20,left_on='id_20',right_on='joinid',how='left')\n"
   ]
  },
  {
   "cell_type": "code",
   "execution_count": 19,
   "metadata": {},
   "outputs": [],
   "source": [
    "subpl_adj = subpl_adj[['stco','geoid','name','POP100','HU100','P0010001',\\\n",
    "            'P0020001','P0020002','P0020003','P0020004','P0020005','P0020006','P0020007',\\\n",
    "            'P0020008','P0020009','P0020010','P0020011',\\\n",
    "            'H0010001','H0010002','H0010003']]\n",
    "subpl_adj = subpl_adj.groupby(['stco','geoid','name']).sum().reset_index()\n"
   ]
  },
  {
   "cell_type": "code",
   "execution_count": 20,
   "metadata": {},
   "outputs": [],
   "source": [
    "subpl_final = pd.concat([nyc_sub,subpl_adj])\n",
    "subpl_final.to_csv('output/subpl_20_adj.csv')\n"
   ]
  },
  {
   "cell_type": "markdown",
   "metadata": {},
   "source": [
    "## national file"
   ]
  },
  {
   "cell_type": "code",
   "execution_count": 21,
   "metadata": {},
   "outputs": [],
   "source": [
    "us_files = glob.glob(f'../data/us2020.npl/*.pl')\n",
    "#for first file in folder\n",
    "us = pd.read_table(f'{us_files[0]}',sep='|',header=None,low_memory=False,encoding = 'unicode_escape')\n",
    "us.columns = col_head[us_files[0][-8]]\n",
    "\n",
    "#for all other files\n",
    "for file in us_files[1:]:\n",
    "    dff = pd.read_table(f'{file}',sep='|',header=None,low_memory=False,encoding = 'unicode_escape')\n",
    "    dff.columns = col_head[file[-8]]\n",
    "    us = pd.merge(us,dff,left_on=col_join,right_on=col_join,how=\"inner\")\n",
    "\n",
    "#reduce table size\n",
    "us = us[col_data] #just the data columns we need"
   ]
  },
  {
   "cell_type": "code",
   "execution_count": 22,
   "metadata": {},
   "outputs": [
    {
     "data": {
      "text/html": [
       "<div>\n",
       "<style scoped>\n",
       "    .dataframe tbody tr th:only-of-type {\n",
       "        vertical-align: middle;\n",
       "    }\n",
       "\n",
       "    .dataframe tbody tr th {\n",
       "        vertical-align: top;\n",
       "    }\n",
       "\n",
       "    .dataframe thead th {\n",
       "        text-align: right;\n",
       "    }\n",
       "</style>\n",
       "<table border=\"1\" class=\"dataframe\">\n",
       "  <thead>\n",
       "    <tr style=\"text-align: right;\">\n",
       "      <th></th>\n",
       "      <th>STATE</th>\n",
       "      <th>COUNTY</th>\n",
       "      <th>GEOCODE</th>\n",
       "      <th>SUMLEV</th>\n",
       "      <th>POP100</th>\n",
       "      <th>HU100</th>\n",
       "      <th>P0010001</th>\n",
       "      <th>P0020001</th>\n",
       "      <th>P0020002</th>\n",
       "      <th>P0020003</th>\n",
       "      <th>...</th>\n",
       "      <th>P0020006</th>\n",
       "      <th>P0020007</th>\n",
       "      <th>P0020008</th>\n",
       "      <th>P0020009</th>\n",
       "      <th>P0020010</th>\n",
       "      <th>P0020011</th>\n",
       "      <th>H0010001</th>\n",
       "      <th>H0010002</th>\n",
       "      <th>H0010003</th>\n",
       "      <th>NAME</th>\n",
       "    </tr>\n",
       "  </thead>\n",
       "  <tbody>\n",
       "    <tr>\n",
       "      <th>0</th>\n",
       "      <td>NaN</td>\n",
       "      <td>NaN</td>\n",
       "      <td>NaN</td>\n",
       "      <td>10</td>\n",
       "      <td>331449281</td>\n",
       "      <td>140498736</td>\n",
       "      <td>331449281</td>\n",
       "      <td>331449281</td>\n",
       "      <td>62080044</td>\n",
       "      <td>269369237</td>\n",
       "      <td>...</td>\n",
       "      <td>39940338</td>\n",
       "      <td>2251699</td>\n",
       "      <td>19618719</td>\n",
       "      <td>622018</td>\n",
       "      <td>1689833</td>\n",
       "      <td>13548983</td>\n",
       "      <td>140498736</td>\n",
       "      <td>126817580</td>\n",
       "      <td>13681156</td>\n",
       "      <td>United States</td>\n",
       "    </tr>\n",
       "    <tr>\n",
       "      <th>1</th>\n",
       "      <td>NaN</td>\n",
       "      <td>NaN</td>\n",
       "      <td>1</td>\n",
       "      <td>20</td>\n",
       "      <td>57609148</td>\n",
       "      <td>24716516</td>\n",
       "      <td>57609148</td>\n",
       "      <td>57609148</td>\n",
       "      <td>8794868</td>\n",
       "      <td>48814280</td>\n",
       "      <td>...</td>\n",
       "      <td>6207939</td>\n",
       "      <td>112024</td>\n",
       "      <td>4143379</td>\n",
       "      <td>15069</td>\n",
       "      <td>465485</td>\n",
       "      <td>2117386</td>\n",
       "      <td>24716516</td>\n",
       "      <td>22371124</td>\n",
       "      <td>2345392</td>\n",
       "      <td>Northeast Region</td>\n",
       "    </tr>\n",
       "    <tr>\n",
       "      <th>2</th>\n",
       "      <td>NaN</td>\n",
       "      <td>NaN</td>\n",
       "      <td>2</td>\n",
       "      <td>20</td>\n",
       "      <td>68985454</td>\n",
       "      <td>30458979</td>\n",
       "      <td>68985454</td>\n",
       "      <td>68985454</td>\n",
       "      <td>5978786</td>\n",
       "      <td>63006668</td>\n",
       "      <td>...</td>\n",
       "      <td>7111553</td>\n",
       "      <td>382776</td>\n",
       "      <td>2385691</td>\n",
       "      <td>38022</td>\n",
       "      <td>242361</td>\n",
       "      <td>2763713</td>\n",
       "      <td>30458979</td>\n",
       "      <td>27564312</td>\n",
       "      <td>2894667</td>\n",
       "      <td>Midwest Region</td>\n",
       "    </tr>\n",
       "    <tr>\n",
       "      <th>3</th>\n",
       "      <td>NaN</td>\n",
       "      <td>NaN</td>\n",
       "      <td>3</td>\n",
       "      <td>20</td>\n",
       "      <td>126266107</td>\n",
       "      <td>54542603</td>\n",
       "      <td>126266107</td>\n",
       "      <td>126266107</td>\n",
       "      <td>23696746</td>\n",
       "      <td>102569361</td>\n",
       "      <td>...</td>\n",
       "      <td>23153574</td>\n",
       "      <td>722756</td>\n",
       "      <td>4757911</td>\n",
       "      <td>100255</td>\n",
       "      <td>565727</td>\n",
       "      <td>4875703</td>\n",
       "      <td>54542603</td>\n",
       "      <td>48613340</td>\n",
       "      <td>5929263</td>\n",
       "      <td>South Region</td>\n",
       "    </tr>\n",
       "    <tr>\n",
       "      <th>4</th>\n",
       "      <td>NaN</td>\n",
       "      <td>NaN</td>\n",
       "      <td>4</td>\n",
       "      <td>20</td>\n",
       "      <td>78588572</td>\n",
       "      <td>30780638</td>\n",
       "      <td>78588572</td>\n",
       "      <td>78588572</td>\n",
       "      <td>23609644</td>\n",
       "      <td>54978928</td>\n",
       "      <td>...</td>\n",
       "      <td>3467272</td>\n",
       "      <td>1034143</td>\n",
       "      <td>8331738</td>\n",
       "      <td>468672</td>\n",
       "      <td>416260</td>\n",
       "      <td>3792181</td>\n",
       "      <td>30780638</td>\n",
       "      <td>28268804</td>\n",
       "      <td>2511834</td>\n",
       "      <td>West Region</td>\n",
       "    </tr>\n",
       "  </tbody>\n",
       "</table>\n",
       "<p>5 rows × 22 columns</p>\n",
       "</div>"
      ],
      "text/plain": [
       "   STATE  COUNTY GEOCODE  SUMLEV     POP100      HU100   P0010001   P0020001  \\\n",
       "0    NaN     NaN     NaN      10  331449281  140498736  331449281  331449281   \n",
       "1    NaN     NaN       1      20   57609148   24716516   57609148   57609148   \n",
       "2    NaN     NaN       2      20   68985454   30458979   68985454   68985454   \n",
       "3    NaN     NaN       3      20  126266107   54542603  126266107  126266107   \n",
       "4    NaN     NaN       4      20   78588572   30780638   78588572   78588572   \n",
       "\n",
       "   P0020002   P0020003  ...  P0020006  P0020007  P0020008  P0020009  P0020010  \\\n",
       "0  62080044  269369237  ...  39940338   2251699  19618719    622018   1689833   \n",
       "1   8794868   48814280  ...   6207939    112024   4143379     15069    465485   \n",
       "2   5978786   63006668  ...   7111553    382776   2385691     38022    242361   \n",
       "3  23696746  102569361  ...  23153574    722756   4757911    100255    565727   \n",
       "4  23609644   54978928  ...   3467272   1034143   8331738    468672    416260   \n",
       "\n",
       "   P0020011   H0010001   H0010002  H0010003              NAME  \n",
       "0  13548983  140498736  126817580  13681156     United States  \n",
       "1   2117386   24716516   22371124   2345392  Northeast Region  \n",
       "2   2763713   30458979   27564312   2894667    Midwest Region  \n",
       "3   4875703   54542603   48613340   5929263      South Region  \n",
       "4   3792181   30780638   28268804   2511834       West Region  \n",
       "\n",
       "[5 rows x 22 columns]"
      ]
     },
     "execution_count": 22,
     "metadata": {},
     "output_type": "execute_result"
    }
   ],
   "source": [
    "us.head()"
   ]
  },
  {
   "cell_type": "code",
   "execution_count": 23,
   "metadata": {},
   "outputs": [],
   "source": [
    "us.to_csv('output/us_20.csv')"
   ]
  }
 ],
 "metadata": {
  "kernelspec": {
   "display_name": "Python 3",
   "language": "python",
   "name": "python3"
  },
  "language_info": {
   "codemirror_mode": {
    "name": "ipython",
    "version": 3
   },
   "file_extension": ".py",
   "mimetype": "text/x-python",
   "name": "python",
   "nbconvert_exporter": "python",
   "pygments_lexer": "ipython3",
   "version": "3.8.5"
  }
 },
 "nbformat": 4,
 "nbformat_minor": 4
}
