{
 "cells": [
  {
   "cell_type": "code",
   "execution_count": 1,
   "metadata": {},
   "outputs": [],
   "source": [
    "import pandas as pd\n",
    "import json\n",
    "import numpy as np"
   ]
  },
  {
   "cell_type": "code",
   "execution_count": 2,
   "metadata": {},
   "outputs": [],
   "source": [
    "from censusAPI import myAPI"
   ]
  },
  {
   "cell_type": "markdown",
   "metadata": {},
   "source": [
    "### 2000 & 2010 Decennial Census  - Total Population by County - Full U.S."
   ]
  },
  {
   "cell_type": "code",
   "execution_count": 3,
   "metadata": {},
   "outputs": [],
   "source": [
    "#variables\n",
    "cols = f'NAME,P001001'"
   ]
  },
  {
   "cell_type": "code",
   "execution_count": 4,
   "metadata": {},
   "outputs": [],
   "source": [
    "#build table of all US counties for 2000 and 2010\n",
    "years = ['2000','2010']\n",
    "df = pd.DataFrame()\n",
    "for y in years:\n",
    "    base_url = f'https://api.census.gov/data/{y}/dec/sf1'\n",
    "    data_url = f'{base_url}?get={cols}&for=county:*&in=state:*&key={myAPI}'\n",
    "    dff = pd.read_json(data_url)\n",
    "    dff.columns = dff.iloc[0]\n",
    "    dff = dff[1:]\n",
    "    dff['stco'] = dff.state + dff.county\n",
    "    dff['yr'] = y\n",
    "    df = pd.concat([df,dff])"
   ]
  },
  {
   "cell_type": "code",
   "execution_count": 5,
   "metadata": {},
   "outputs": [],
   "source": [
    "df = pd.pivot_table(df,values='P001001',index=['stco','NAME'],columns='yr',\\\n",
    "                    aggfunc=np.sum,fill_value=0,margins=False).reset_index()"
   ]
  },
  {
   "cell_type": "code",
   "execution_count": 6,
   "metadata": {},
   "outputs": [],
   "source": [
    "for y in years:\n",
    "    df[f'{y}'] = df[f'{y}'].astype(int)"
   ]
  },
  {
   "cell_type": "code",
   "execution_count": 7,
   "metadata": {},
   "outputs": [
    {
     "data": {
      "text/html": [
       "<div>\n",
       "<style scoped>\n",
       "    .dataframe tbody tr th:only-of-type {\n",
       "        vertical-align: middle;\n",
       "    }\n",
       "\n",
       "    .dataframe tbody tr th {\n",
       "        vertical-align: top;\n",
       "    }\n",
       "\n",
       "    .dataframe thead th {\n",
       "        text-align: right;\n",
       "    }\n",
       "</style>\n",
       "<table border=\"1\" class=\"dataframe\">\n",
       "  <thead>\n",
       "    <tr style=\"text-align: right;\">\n",
       "      <th>yr</th>\n",
       "      <th>stco</th>\n",
       "      <th>NAME</th>\n",
       "      <th>2000</th>\n",
       "      <th>2010</th>\n",
       "    </tr>\n",
       "  </thead>\n",
       "  <tbody>\n",
       "    <tr>\n",
       "      <th>0</th>\n",
       "      <td>01001</td>\n",
       "      <td>Autauga County, Alabama</td>\n",
       "      <td>43671</td>\n",
       "      <td>54571</td>\n",
       "    </tr>\n",
       "    <tr>\n",
       "      <th>1</th>\n",
       "      <td>01003</td>\n",
       "      <td>Baldwin County, Alabama</td>\n",
       "      <td>140415</td>\n",
       "      <td>182265</td>\n",
       "    </tr>\n",
       "    <tr>\n",
       "      <th>2</th>\n",
       "      <td>01005</td>\n",
       "      <td>Barbour County, Alabama</td>\n",
       "      <td>29038</td>\n",
       "      <td>27457</td>\n",
       "    </tr>\n",
       "    <tr>\n",
       "      <th>3</th>\n",
       "      <td>01007</td>\n",
       "      <td>Bibb County, Alabama</td>\n",
       "      <td>20826</td>\n",
       "      <td>22915</td>\n",
       "    </tr>\n",
       "    <tr>\n",
       "      <th>4</th>\n",
       "      <td>01009</td>\n",
       "      <td>Blount County, Alabama</td>\n",
       "      <td>51024</td>\n",
       "      <td>57322</td>\n",
       "    </tr>\n",
       "  </tbody>\n",
       "</table>\n",
       "</div>"
      ],
      "text/plain": [
       "yr   stco                     NAME    2000    2010\n",
       "0   01001  Autauga County, Alabama   43671   54571\n",
       "1   01003  Baldwin County, Alabama  140415  182265\n",
       "2   01005  Barbour County, Alabama   29038   27457\n",
       "3   01007     Bibb County, Alabama   20826   22915\n",
       "4   01009   Blount County, Alabama   51024   57322"
      ]
     },
     "execution_count": 7,
     "metadata": {},
     "output_type": "execute_result"
    }
   ],
   "source": [
    "df.head()"
   ]
  },
  {
   "cell_type": "code",
   "execution_count": 8,
   "metadata": {},
   "outputs": [],
   "source": [
    "#export all us counties 2000 & 2010 pop to csv\n",
    "df.to_csv('output/dec_us_counties.csv')"
   ]
  },
  {
   "cell_type": "markdown",
   "metadata": {},
   "source": [
    "### Recode US counties to major U.S. metrros CSAs and calculate 2000 and 2010 pop\n",
    "\n",
    "##### This is done to maintain geographic border consistency over time."
   ]
  },
  {
   "cell_type": "code",
   "execution_count": 9,
   "metadata": {},
   "outputs": [],
   "source": [
    "# pull in list of counties in CSAs for major metros & reformat\n",
    "metros = pd.read_csv('../data/geo/usmetros_cnty.csv')\n",
    "metros['stco_id'] = metros['stco'].apply(lambda x:'{0:0>5}'.format(x))"
   ]
  },
  {
   "cell_type": "code",
   "execution_count": 10,
   "metadata": {},
   "outputs": [],
   "source": [
    "# merge with Census data table\n",
    "csa = pd.merge(metros,df,how='left',left_on='stco_id',right_on='stco')"
   ]
  },
  {
   "cell_type": "code",
   "execution_count": 11,
   "metadata": {},
   "outputs": [],
   "source": [
    "# sum for CSAs\n",
    "csa = csa[['csa_id','csa_name','2000','2010']]\n",
    "csa = csa.groupby(['csa_id','csa_name']).sum().reset_index()"
   ]
  },
  {
   "cell_type": "code",
   "execution_count": 12,
   "metadata": {},
   "outputs": [
    {
     "data": {
      "text/html": [
       "<div>\n",
       "<style scoped>\n",
       "    .dataframe tbody tr th:only-of-type {\n",
       "        vertical-align: middle;\n",
       "    }\n",
       "\n",
       "    .dataframe tbody tr th {\n",
       "        vertical-align: top;\n",
       "    }\n",
       "\n",
       "    .dataframe thead th {\n",
       "        text-align: right;\n",
       "    }\n",
       "</style>\n",
       "<table border=\"1\" class=\"dataframe\">\n",
       "  <thead>\n",
       "    <tr style=\"text-align: right;\">\n",
       "      <th></th>\n",
       "      <th>csa_id</th>\n",
       "      <th>csa_name</th>\n",
       "      <th>2000</th>\n",
       "      <th>2010</th>\n",
       "    </tr>\n",
       "  </thead>\n",
       "  <tbody>\n",
       "    <tr>\n",
       "      <th>0</th>\n",
       "      <td>122</td>\n",
       "      <td>Atlanta--Athens-Clarke County--Sandy Springs, ...</td>\n",
       "      <td>4923371</td>\n",
       "      <td>6054858</td>\n",
       "    </tr>\n",
       "    <tr>\n",
       "      <th>1</th>\n",
       "      <td>148</td>\n",
       "      <td>Boston-Worcester-Providence, MA-RI-NH-CT</td>\n",
       "      <td>7630016</td>\n",
       "      <td>7893376</td>\n",
       "    </tr>\n",
       "    <tr>\n",
       "      <th>2</th>\n",
       "      <td>172</td>\n",
       "      <td>Charlotte-Concord, NC-SC</td>\n",
       "      <td>1897034</td>\n",
       "      <td>2402623</td>\n",
       "    </tr>\n",
       "    <tr>\n",
       "      <th>3</th>\n",
       "      <td>176</td>\n",
       "      <td>Chicago-Naperville, IL-IN-WI</td>\n",
       "      <td>9465353</td>\n",
       "      <td>9840929</td>\n",
       "    </tr>\n",
       "    <tr>\n",
       "      <th>4</th>\n",
       "      <td>184</td>\n",
       "      <td>Cleveland-Akron-Canton, OH</td>\n",
       "      <td>3694281</td>\n",
       "      <td>3630166</td>\n",
       "    </tr>\n",
       "  </tbody>\n",
       "</table>\n",
       "</div>"
      ],
      "text/plain": [
       "   csa_id                                           csa_name     2000     2010\n",
       "0     122  Atlanta--Athens-Clarke County--Sandy Springs, ...  4923371  6054858\n",
       "1     148           Boston-Worcester-Providence, MA-RI-NH-CT  7630016  7893376\n",
       "2     172                           Charlotte-Concord, NC-SC  1897034  2402623\n",
       "3     176                       Chicago-Naperville, IL-IN-WI  9465353  9840929\n",
       "4     184                         Cleveland-Akron-Canton, OH  3694281  3630166"
      ]
     },
     "execution_count": 12,
     "metadata": {},
     "output_type": "execute_result"
    }
   ],
   "source": [
    "csa.head()"
   ]
  },
  {
   "cell_type": "code",
   "execution_count": 13,
   "metadata": {},
   "outputs": [],
   "source": [
    "#export to csv\n",
    "csa.to_csv('output/dec_majmetro.csv')"
   ]
  },
  {
   "cell_type": "markdown",
   "metadata": {},
   "source": [
    "### housing units"
   ]
  },
  {
   "cell_type": "code",
   "execution_count": 14,
   "metadata": {},
   "outputs": [],
   "source": [
    "#variables\n",
    "h_cols = f'NAME,H001001,H003002,H003003'"
   ]
  },
  {
   "cell_type": "code",
   "execution_count": 15,
   "metadata": {},
   "outputs": [],
   "source": [
    "#build table of all US counties for 2000 and 2010\n",
    "years = ['2000','2010']\n",
    "df = pd.DataFrame()\n",
    "for y in years:\n",
    "    base_url = f'https://api.census.gov/data/{y}/dec/sf1'\n",
    "    data_url = f'{base_url}?get={h_cols}&for=county:*&in=state:*&key={myAPI}'\n",
    "    dff = pd.read_json(data_url)\n",
    "    dff.columns = dff.iloc[0]\n",
    "    dff = dff[1:]\n",
    "    dff['stco'] = dff.state + dff.county\n",
    "    dff['yr'] = y\n",
    "    df = pd.concat([df,dff])"
   ]
  },
  {
   "cell_type": "code",
   "execution_count": 16,
   "metadata": {},
   "outputs": [
    {
     "data": {
      "text/html": [
       "<div>\n",
       "<style scoped>\n",
       "    .dataframe tbody tr th:only-of-type {\n",
       "        vertical-align: middle;\n",
       "    }\n",
       "\n",
       "    .dataframe tbody tr th {\n",
       "        vertical-align: top;\n",
       "    }\n",
       "\n",
       "    .dataframe thead th {\n",
       "        text-align: right;\n",
       "    }\n",
       "</style>\n",
       "<table border=\"1\" class=\"dataframe\">\n",
       "  <thead>\n",
       "    <tr style=\"text-align: right;\">\n",
       "      <th></th>\n",
       "      <th>NAME</th>\n",
       "      <th>H001001</th>\n",
       "      <th>H003002</th>\n",
       "      <th>H003003</th>\n",
       "      <th>state</th>\n",
       "      <th>county</th>\n",
       "      <th>stco</th>\n",
       "      <th>yr</th>\n",
       "    </tr>\n",
       "  </thead>\n",
       "  <tbody>\n",
       "    <tr>\n",
       "      <th>1</th>\n",
       "      <td>Autauga County, Alabama</td>\n",
       "      <td>17662</td>\n",
       "      <td>16003</td>\n",
       "      <td>1659</td>\n",
       "      <td>01</td>\n",
       "      <td>001</td>\n",
       "      <td>01001</td>\n",
       "      <td>2000</td>\n",
       "    </tr>\n",
       "    <tr>\n",
       "      <th>2</th>\n",
       "      <td>Baldwin County, Alabama</td>\n",
       "      <td>74285</td>\n",
       "      <td>55336</td>\n",
       "      <td>18949</td>\n",
       "      <td>01</td>\n",
       "      <td>003</td>\n",
       "      <td>01003</td>\n",
       "      <td>2000</td>\n",
       "    </tr>\n",
       "    <tr>\n",
       "      <th>3</th>\n",
       "      <td>Barbour County, Alabama</td>\n",
       "      <td>12461</td>\n",
       "      <td>10409</td>\n",
       "      <td>2052</td>\n",
       "      <td>01</td>\n",
       "      <td>005</td>\n",
       "      <td>01005</td>\n",
       "      <td>2000</td>\n",
       "    </tr>\n",
       "    <tr>\n",
       "      <th>4</th>\n",
       "      <td>Bibb County, Alabama</td>\n",
       "      <td>8345</td>\n",
       "      <td>7421</td>\n",
       "      <td>924</td>\n",
       "      <td>01</td>\n",
       "      <td>007</td>\n",
       "      <td>01007</td>\n",
       "      <td>2000</td>\n",
       "    </tr>\n",
       "    <tr>\n",
       "      <th>5</th>\n",
       "      <td>Blount County, Alabama</td>\n",
       "      <td>21158</td>\n",
       "      <td>19265</td>\n",
       "      <td>1893</td>\n",
       "      <td>01</td>\n",
       "      <td>009</td>\n",
       "      <td>01009</td>\n",
       "      <td>2000</td>\n",
       "    </tr>\n",
       "  </tbody>\n",
       "</table>\n",
       "</div>"
      ],
      "text/plain": [
       "0                     NAME H001001 H003002 H003003 state county   stco    yr\n",
       "1  Autauga County, Alabama   17662   16003    1659    01    001  01001  2000\n",
       "2  Baldwin County, Alabama   74285   55336   18949    01    003  01003  2000\n",
       "3  Barbour County, Alabama   12461   10409    2052    01    005  01005  2000\n",
       "4     Bibb County, Alabama    8345    7421     924    01    007  01007  2000\n",
       "5   Blount County, Alabama   21158   19265    1893    01    009  01009  2000"
      ]
     },
     "execution_count": 16,
     "metadata": {},
     "output_type": "execute_result"
    }
   ],
   "source": [
    "df.head()"
   ]
  },
  {
   "cell_type": "code",
   "execution_count": 17,
   "metadata": {},
   "outputs": [],
   "source": [
    "dff = pd.pivot_table(df,values=['H001001','H003002','H003003'],index=['stco','NAME'],\\\n",
    "                     columns='yr',aggfunc=np.sum,fill_value=0,margins=False).reset_index()"
   ]
  },
  {
   "cell_type": "code",
   "execution_count": 18,
   "metadata": {},
   "outputs": [
    {
     "data": {
      "text/html": [
       "<div>\n",
       "<style scoped>\n",
       "    .dataframe tbody tr th:only-of-type {\n",
       "        vertical-align: middle;\n",
       "    }\n",
       "\n",
       "    .dataframe tbody tr th {\n",
       "        vertical-align: top;\n",
       "    }\n",
       "\n",
       "    .dataframe thead tr th {\n",
       "        text-align: left;\n",
       "    }\n",
       "</style>\n",
       "<table border=\"1\" class=\"dataframe\">\n",
       "  <thead>\n",
       "    <tr>\n",
       "      <th></th>\n",
       "      <th>stco</th>\n",
       "      <th>NAME</th>\n",
       "      <th colspan=\"2\" halign=\"left\">H001001</th>\n",
       "      <th colspan=\"2\" halign=\"left\">H003002</th>\n",
       "      <th colspan=\"2\" halign=\"left\">H003003</th>\n",
       "    </tr>\n",
       "    <tr>\n",
       "      <th>yr</th>\n",
       "      <th></th>\n",
       "      <th></th>\n",
       "      <th>2000</th>\n",
       "      <th>2010</th>\n",
       "      <th>2000</th>\n",
       "      <th>2010</th>\n",
       "      <th>2000</th>\n",
       "      <th>2010</th>\n",
       "    </tr>\n",
       "  </thead>\n",
       "  <tbody>\n",
       "    <tr>\n",
       "      <th>0</th>\n",
       "      <td>01001</td>\n",
       "      <td>Autauga County, Alabama</td>\n",
       "      <td>17662</td>\n",
       "      <td>22135</td>\n",
       "      <td>16003</td>\n",
       "      <td>20221</td>\n",
       "      <td>1659</td>\n",
       "      <td>1914</td>\n",
       "    </tr>\n",
       "    <tr>\n",
       "      <th>1</th>\n",
       "      <td>01003</td>\n",
       "      <td>Baldwin County, Alabama</td>\n",
       "      <td>74285</td>\n",
       "      <td>104061</td>\n",
       "      <td>55336</td>\n",
       "      <td>73180</td>\n",
       "      <td>18949</td>\n",
       "      <td>30881</td>\n",
       "    </tr>\n",
       "    <tr>\n",
       "      <th>2</th>\n",
       "      <td>01005</td>\n",
       "      <td>Barbour County, Alabama</td>\n",
       "      <td>12461</td>\n",
       "      <td>11829</td>\n",
       "      <td>10409</td>\n",
       "      <td>9820</td>\n",
       "      <td>2052</td>\n",
       "      <td>2009</td>\n",
       "    </tr>\n",
       "    <tr>\n",
       "      <th>3</th>\n",
       "      <td>01007</td>\n",
       "      <td>Bibb County, Alabama</td>\n",
       "      <td>8345</td>\n",
       "      <td>8981</td>\n",
       "      <td>7421</td>\n",
       "      <td>7953</td>\n",
       "      <td>924</td>\n",
       "      <td>1028</td>\n",
       "    </tr>\n",
       "    <tr>\n",
       "      <th>4</th>\n",
       "      <td>01009</td>\n",
       "      <td>Blount County, Alabama</td>\n",
       "      <td>21158</td>\n",
       "      <td>23887</td>\n",
       "      <td>19265</td>\n",
       "      <td>21578</td>\n",
       "      <td>1893</td>\n",
       "      <td>2309</td>\n",
       "    </tr>\n",
       "  </tbody>\n",
       "</table>\n",
       "</div>"
      ],
      "text/plain": [
       "0    stco                     NAME H001001         H003002        H003003  \\\n",
       "yr                                    2000    2010    2000   2010    2000   \n",
       "0   01001  Autauga County, Alabama   17662   22135   16003  20221    1659   \n",
       "1   01003  Baldwin County, Alabama   74285  104061   55336  73180   18949   \n",
       "2   01005  Barbour County, Alabama   12461   11829   10409   9820    2052   \n",
       "3   01007     Bibb County, Alabama    8345    8981    7421   7953     924   \n",
       "4   01009   Blount County, Alabama   21158   23887   19265  21578    1893   \n",
       "\n",
       "0          \n",
       "yr   2010  \n",
       "0    1914  \n",
       "1   30881  \n",
       "2    2009  \n",
       "3    1028  \n",
       "4    2309  "
      ]
     },
     "execution_count": 18,
     "metadata": {},
     "output_type": "execute_result"
    }
   ],
   "source": [
    "dff.head()"
   ]
  },
  {
   "cell_type": "code",
   "execution_count": 19,
   "metadata": {},
   "outputs": [],
   "source": [
    "#export all us counties 2000 & 2010 pop to csv\n",
    "dff.to_csv('output/dec_hou_us_counties.csv')"
   ]
  }
 ],
 "metadata": {
  "kernelspec": {
   "display_name": "Python 3",
   "language": "python",
   "name": "python3"
  },
  "language_info": {
   "codemirror_mode": {
    "name": "ipython",
    "version": 3
   },
   "file_extension": ".py",
   "mimetype": "text/x-python",
   "name": "python",
   "nbconvert_exporter": "python",
   "pygments_lexer": "ipython3",
   "version": "3.8.5"
  }
 },
 "nbformat": 4,
 "nbformat_minor": 2
}
