{
 "cells": [
  {
   "cell_type": "code",
   "execution_count": 36,
   "metadata": {},
   "outputs": [],
   "source": [
    "import pandas as pd\n",
    "import json\n",
    "import numpy as np"
   ]
  },
  {
   "cell_type": "code",
   "execution_count": 37,
   "metadata": {},
   "outputs": [],
   "source": [
    "from censusAPI import myAPI"
   ]
  },
  {
   "cell_type": "code",
   "execution_count": 38,
   "metadata": {},
   "outputs": [],
   "source": [
    "boro = ['005','047','061','081','085']"
   ]
  },
  {
   "cell_type": "code",
   "execution_count": 39,
   "metadata": {},
   "outputs": [],
   "source": [
    "def get_data(year,data):\n",
    "    var = f'NAME,{data}'\n",
    "    url_base = f'https://api.census.gov/data/{year}/dec/sf1?'\n",
    "    df = pd.DataFrame()\n",
    "    for b in boro:\n",
    "        url = f'{url_base}get={var}&for=tract:*&in=state:36%20county:{b}&key={myAPI}'\n",
    "        dff = pd.read_json(url)\n",
    "        dff.columns = dff.iloc[0]\n",
    "        dff = dff[1:]\n",
    "        dff['yr'] = year\n",
    "        df = pd.concat([df,dff])\n",
    "    df['id']=df.state+df.county+df.tract\n",
    "    df['id']=df['id'].astype(int)\n",
    "    return df"
   ]
  },
  {
   "cell_type": "code",
   "execution_count": 40,
   "metadata": {},
   "outputs": [],
   "source": [
    "geo10 = pd.read_csv('../data/geo/nyc_subbor_10.csv')"
   ]
  },
  {
   "cell_type": "code",
   "execution_count": 41,
   "metadata": {},
   "outputs": [],
   "source": [
    "pop10 = get_data('2010','P001001')\n",
    "subbor = pd.merge(pop10,geo10,left_on='id',right_on='ct_id',how='left')\n",
    "subbor = subbor[['state','county','subbor_id','subbor_nm','P001001']].copy()\n",
    "subbor['P001001'] = subbor['P001001'].astype(int)\n",
    "subbor = subbor.groupby(['state','county','subbor_id','subbor_nm']).sum().reset_index()\n",
    "subbor.to_csv('output/subor_pop_10.csv')"
   ]
  },
  {
   "cell_type": "code",
   "execution_count": 45,
   "metadata": {},
   "outputs": [],
   "source": [
    "hou10 = get_data('2010','H001001')\n",
    "subbor_h = pd.merge(hou10,geo10,left_on='id',right_on='ct_id',how='left')\n",
    "subbor_h = subbor_h[['state','county','subbor_id','subbor_nm','H001001']].copy()\n",
    "subbor_h['H001001'] = subbor_h['H001001'].astype(int)\n",
    "subbor_h = subbor_h.groupby(['state','county','subbor_id','subbor_nm']).sum().reset_index()\n",
    "subbor_h.to_csv('output/subor_hou_10.csv')"
   ]
  }
 ],
 "metadata": {
  "kernelspec": {
   "display_name": "Python 3",
   "language": "python",
   "name": "python3"
  },
  "language_info": {
   "codemirror_mode": {
    "name": "ipython",
    "version": 3
   },
   "file_extension": ".py",
   "mimetype": "text/x-python",
   "name": "python",
   "nbconvert_exporter": "python",
   "pygments_lexer": "ipython3",
   "version": "3.8.5"
  }
 },
 "nbformat": 4,
 "nbformat_minor": 4
}
