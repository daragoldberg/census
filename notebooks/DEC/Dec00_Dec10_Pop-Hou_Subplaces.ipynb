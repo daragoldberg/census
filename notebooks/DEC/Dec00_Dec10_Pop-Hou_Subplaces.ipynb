{
 "cells": [
  {
   "cell_type": "code",
   "execution_count": 14,
   "metadata": {},
   "outputs": [],
   "source": [
    "import pandas as pd\n",
    "import json\n",
    "import numpy as np"
   ]
  },
  {
   "cell_type": "code",
   "execution_count": 15,
   "metadata": {},
   "outputs": [],
   "source": [
    "from censusAPI import myAPI\n",
    "from geo import stco"
   ]
  },
  {
   "cell_type": "code",
   "execution_count": 16,
   "metadata": {},
   "outputs": [],
   "source": [
    "#data = 'P001001'\n",
    "#years = ['2000','2010']"
   ]
  },
  {
   "cell_type": "code",
   "execution_count": 17,
   "metadata": {},
   "outputs": [],
   "source": [
    "def get_data(year,data):\n",
    "    cols = f'NAME,{data}'\n",
    "    data_cols = ['id','NAME',f'{data}','yr']\n",
    "    df = pd.DataFrame()\n",
    "    base_url = f'https://api.census.gov/data/{year}/dec/sf1'\n",
    "    \n",
    "    for st,co in stco.items():\n",
    "        for c in co:\n",
    "            sub_url = f'{base_url}?get={cols}&for=county%20subdivision:*&in=state:{st}&in=county:{c}&key={myAPI}'\n",
    "            dff = pd.read_json(sub_url)\n",
    "            dff.columns = dff.iloc[0]\n",
    "            dff = dff[1:]\n",
    "            dff['yr'] = year\n",
    "            df = pd.concat([df,dff])\n",
    "\n",
    "    df['id']=df.state+df.county+df['county subdivision']\n",
    "    df['id']=df['id'].astype(int)\n",
    "    \n",
    "    pl_url = f'{base_url}?get={cols}&for=place:*&in=state:36&key={myAPI}'\n",
    "    nyp = pd.read_json(pl_url)\n",
    "    nyp.columns = nyp.iloc[0]\n",
    "    nyp = nyp[1:]\n",
    "    nyp['yr'] = year\n",
    "    nyp['id']=nyp.state+nyp.place\n",
    "    nyp['id']=nyp['id'].astype(int)\n",
    "    \n",
    "    df,nyp=df[data_cols],nyp[data_cols]\n",
    "    subpl = pd.concat([df,nyp])\n",
    "    return subpl"
   ]
  },
  {
   "cell_type": "code",
   "execution_count": 18,
   "metadata": {},
   "outputs": [],
   "source": [
    "subpl00 = get_data('2000','P001001')\n",
    "subpl10 = get_data('2010','P001001')"
   ]
  },
  {
   "cell_type": "code",
   "execution_count": 19,
   "metadata": {},
   "outputs": [],
   "source": [
    "geo00 = pd.read_csv('../data/geo/subpl00.csv')\n",
    "geo10 = pd.read_csv('../data/geo/subpl10.csv')"
   ]
  },
  {
   "cell_type": "code",
   "execution_count": 20,
   "metadata": {},
   "outputs": [],
   "source": [
    "subpl00 = pd.merge(geo00,subpl00,how='left',left_on='id_00',right_on='id')\n",
    "subpl10 = pd.merge(geo10,subpl10,how='left',left_on='id_10',right_on='id')"
   ]
  },
  {
   "cell_type": "code",
   "execution_count": 21,
   "metadata": {},
   "outputs": [],
   "source": [
    "data_cols = ['stco','geoid','name','P001001','yr']\n",
    "subpl00,subpl10 = subpl00[data_cols],subpl10[data_cols]\n",
    "subpl = pd.concat([subpl00,subpl10])\n",
    "subpl['P001001']=subpl['P001001'].astype(int)"
   ]
  },
  {
   "cell_type": "code",
   "execution_count": 22,
   "metadata": {},
   "outputs": [],
   "source": [
    "subpl = pd.pivot_table(subpl,values='P001001',index=['stco','geoid','name'],columns='yr',\\\n",
    "                      aggfunc=np.sum,fill_value=0,margins=False).reset_index()"
   ]
  },
  {
   "cell_type": "code",
   "execution_count": 23,
   "metadata": {},
   "outputs": [
    {
     "data": {
      "text/html": [
       "<div>\n",
       "<style scoped>\n",
       "    .dataframe tbody tr th:only-of-type {\n",
       "        vertical-align: middle;\n",
       "    }\n",
       "\n",
       "    .dataframe tbody tr th {\n",
       "        vertical-align: top;\n",
       "    }\n",
       "\n",
       "    .dataframe thead th {\n",
       "        text-align: right;\n",
       "    }\n",
       "</style>\n",
       "<table border=\"1\" class=\"dataframe\">\n",
       "  <thead>\n",
       "    <tr style=\"text-align: right;\">\n",
       "      <th>yr</th>\n",
       "      <th>stco</th>\n",
       "      <th>geoid</th>\n",
       "      <th>name</th>\n",
       "      <th>2000</th>\n",
       "      <th>2010</th>\n",
       "    </tr>\n",
       "  </thead>\n",
       "  <tbody>\n",
       "    <tr>\n",
       "      <th>0</th>\n",
       "      <td>9001</td>\n",
       "      <td>900100000</td>\n",
       "      <td>County subdivisions not defined, Fairfield Cou...</td>\n",
       "      <td>0</td>\n",
       "      <td>0</td>\n",
       "    </tr>\n",
       "    <tr>\n",
       "      <th>1</th>\n",
       "      <td>9001</td>\n",
       "      <td>900104720</td>\n",
       "      <td>Bethel town, Fairfield County, Connecticut</td>\n",
       "      <td>18067</td>\n",
       "      <td>18584</td>\n",
       "    </tr>\n",
       "    <tr>\n",
       "      <th>2</th>\n",
       "      <td>9001</td>\n",
       "      <td>900108070</td>\n",
       "      <td>Bridgeport town, Fairfield County, Connecticut</td>\n",
       "      <td>139529</td>\n",
       "      <td>144229</td>\n",
       "    </tr>\n",
       "    <tr>\n",
       "      <th>3</th>\n",
       "      <td>9001</td>\n",
       "      <td>900108980</td>\n",
       "      <td>Brookfield town, Fairfield County, Connecticut</td>\n",
       "      <td>15664</td>\n",
       "      <td>16452</td>\n",
       "    </tr>\n",
       "    <tr>\n",
       "      <th>4</th>\n",
       "      <td>9001</td>\n",
       "      <td>900118500</td>\n",
       "      <td>Danbury town, Fairfield County, Connecticut</td>\n",
       "      <td>74848</td>\n",
       "      <td>80893</td>\n",
       "    </tr>\n",
       "  </tbody>\n",
       "</table>\n",
       "</div>"
      ],
      "text/plain": [
       "yr  stco      geoid                                               name  \\\n",
       "0   9001  900100000  County subdivisions not defined, Fairfield Cou...   \n",
       "1   9001  900104720         Bethel town, Fairfield County, Connecticut   \n",
       "2   9001  900108070     Bridgeport town, Fairfield County, Connecticut   \n",
       "3   9001  900108980     Brookfield town, Fairfield County, Connecticut   \n",
       "4   9001  900118500        Danbury town, Fairfield County, Connecticut   \n",
       "\n",
       "yr    2000    2010  \n",
       "0        0       0  \n",
       "1    18067   18584  \n",
       "2   139529  144229  \n",
       "3    15664   16452  \n",
       "4    74848   80893  "
      ]
     },
     "execution_count": 23,
     "metadata": {},
     "output_type": "execute_result"
    }
   ],
   "source": [
    "subpl.head()"
   ]
  },
  {
   "cell_type": "markdown",
   "metadata": {},
   "source": [
    "### Total Housing Units"
   ]
  },
  {
   "cell_type": "code",
   "execution_count": 24,
   "metadata": {},
   "outputs": [],
   "source": [
    "#cols = f'NAME,H001001'\n",
    "subpl00 = get_data('2000','H001001')\n",
    "subpl10 = get_data('2010','H001001')\n",
    "subpl00 = pd.merge(geo00,subpl00,how='left',left_on='id_00',right_on='id')\n",
    "subpl10 = pd.merge(geo10,subpl10,how='left',left_on='id_10',right_on='id')\n",
    "data_cols = ['stco','geoid','name','H001001','yr']\n",
    "subpl00,subpl10 = subpl00[data_cols],subpl10[data_cols]\n",
    "subpl_h = pd.concat([subpl00,subpl10])\n",
    "subpl_h['H001001']=subpl_h['H001001'].astype(int)\n",
    "subpl_h = pd.pivot_table(subpl_h,values='H001001',index=['stco','geoid','name'],columns='yr',\\\n",
    "                      aggfunc=np.sum,fill_value=0,margins=False).reset_index()"
   ]
  },
  {
   "cell_type": "code",
   "execution_count": 25,
   "metadata": {},
   "outputs": [
    {
     "data": {
      "text/html": [
       "<div>\n",
       "<style scoped>\n",
       "    .dataframe tbody tr th:only-of-type {\n",
       "        vertical-align: middle;\n",
       "    }\n",
       "\n",
       "    .dataframe tbody tr th {\n",
       "        vertical-align: top;\n",
       "    }\n",
       "\n",
       "    .dataframe thead th {\n",
       "        text-align: right;\n",
       "    }\n",
       "</style>\n",
       "<table border=\"1\" class=\"dataframe\">\n",
       "  <thead>\n",
       "    <tr style=\"text-align: right;\">\n",
       "      <th>yr</th>\n",
       "      <th>stco</th>\n",
       "      <th>geoid</th>\n",
       "      <th>name</th>\n",
       "      <th>2000</th>\n",
       "      <th>2010</th>\n",
       "    </tr>\n",
       "  </thead>\n",
       "  <tbody>\n",
       "    <tr>\n",
       "      <th>0</th>\n",
       "      <td>9001</td>\n",
       "      <td>900100000</td>\n",
       "      <td>County subdivisions not defined, Fairfield Cou...</td>\n",
       "      <td>0</td>\n",
       "      <td>0</td>\n",
       "    </tr>\n",
       "    <tr>\n",
       "      <th>1</th>\n",
       "      <td>9001</td>\n",
       "      <td>900104720</td>\n",
       "      <td>Bethel town, Fairfield County, Connecticut</td>\n",
       "      <td>6653</td>\n",
       "      <td>7310</td>\n",
       "    </tr>\n",
       "    <tr>\n",
       "      <th>2</th>\n",
       "      <td>9001</td>\n",
       "      <td>900108070</td>\n",
       "      <td>Bridgeport town, Fairfield County, Connecticut</td>\n",
       "      <td>54367</td>\n",
       "      <td>57012</td>\n",
       "    </tr>\n",
       "    <tr>\n",
       "      <th>3</th>\n",
       "      <td>9001</td>\n",
       "      <td>900108980</td>\n",
       "      <td>Brookfield town, Fairfield County, Connecticut</td>\n",
       "      <td>5781</td>\n",
       "      <td>6562</td>\n",
       "    </tr>\n",
       "    <tr>\n",
       "      <th>4</th>\n",
       "      <td>9001</td>\n",
       "      <td>900118500</td>\n",
       "      <td>Danbury town, Fairfield County, Connecticut</td>\n",
       "      <td>28519</td>\n",
       "      <td>31154</td>\n",
       "    </tr>\n",
       "  </tbody>\n",
       "</table>\n",
       "</div>"
      ],
      "text/plain": [
       "yr  stco      geoid                                               name   2000  \\\n",
       "0   9001  900100000  County subdivisions not defined, Fairfield Cou...      0   \n",
       "1   9001  900104720         Bethel town, Fairfield County, Connecticut   6653   \n",
       "2   9001  900108070     Bridgeport town, Fairfield County, Connecticut  54367   \n",
       "3   9001  900108980     Brookfield town, Fairfield County, Connecticut   5781   \n",
       "4   9001  900118500        Danbury town, Fairfield County, Connecticut  28519   \n",
       "\n",
       "yr   2010  \n",
       "0       0  \n",
       "1    7310  \n",
       "2   57012  \n",
       "3    6562  \n",
       "4   31154  "
      ]
     },
     "execution_count": 25,
     "metadata": {},
     "output_type": "execute_result"
    }
   ],
   "source": [
    "subpl_h.head()"
   ]
  },
  {
   "cell_type": "markdown",
   "metadata": {},
   "source": [
    "## Export tables to Excel"
   ]
  },
  {
   "cell_type": "code",
   "execution_count": 26,
   "metadata": {},
   "outputs": [],
   "source": [
    "subpl.to_csv('output/subpl_pop_00-10.csv')\n",
    "subpl_h.to_csv('output/subpl_hou_00-10.csv')"
   ]
  },
  {
   "cell_type": "markdown",
   "metadata": {},
   "source": [
    "## Housing unit occupancy & vacancy"
   ]
  },
  {
   "cell_type": "code",
   "execution_count": 28,
   "metadata": {},
   "outputs": [],
   "source": [
    "#cols = f'NAME,H001001'\n",
    "subpl00 = get_data('2000','H003002')\n",
    "subpl10 = get_data('2010','H003002')\n",
    "subpl00 = pd.merge(geo00,subpl00,how='left',left_on='id_00',right_on='id')\n",
    "subpl10 = pd.merge(geo10,subpl10,how='left',left_on='id_10',right_on='id')\n",
    "data_cols = ['stco','geoid','name','H003002','yr']\n",
    "subpl00,subpl10 = subpl00[data_cols],subpl10[data_cols]\n",
    "subpl_h_o = pd.concat([subpl00,subpl10])\n",
    "subpl_h_o['H003002']=subpl_h_o['H003002'].astype(int)\n",
    "subpl_h_o = pd.pivot_table(subpl_h_o,values='H003002',index=['stco','geoid','name'],columns='yr',\\\n",
    "                      aggfunc=np.sum,fill_value=0,margins=False).reset_index()"
   ]
  },
  {
   "cell_type": "code",
   "execution_count": 29,
   "metadata": {},
   "outputs": [],
   "source": [
    "#cols = f'NAME,H001003'\n",
    "subpl00 = get_data('2000','H003003')\n",
    "subpl10 = get_data('2010','H003003')\n",
    "subpl00 = pd.merge(geo00,subpl00,how='left',left_on='id_00',right_on='id')\n",
    "subpl10 = pd.merge(geo10,subpl10,how='left',left_on='id_10',right_on='id')\n",
    "data_cols = ['stco','geoid','name','H003003','yr']\n",
    "subpl00,subpl10 = subpl00[data_cols],subpl10[data_cols]\n",
    "subpl_h_v = pd.concat([subpl00,subpl10])\n",
    "subpl_h_v['H003003']=subpl_h_v['H003003'].astype(int)\n",
    "subpl_h_v = pd.pivot_table(subpl_h_v,values='H003003',index=['stco','geoid','name'],columns='yr',\\\n",
    "                      aggfunc=np.sum,fill_value=0,margins=False).reset_index()"
   ]
  },
  {
   "cell_type": "code",
   "execution_count": 30,
   "metadata": {},
   "outputs": [],
   "source": [
    "subpl_h_o.to_csv('output/subpl_hou_o_00-10.csv')\n",
    "subpl_h_v.to_csv('output/subpl_hou_v_00-10.csv')"
   ]
  }
 ],
 "metadata": {
  "kernelspec": {
   "display_name": "Python 3",
   "language": "python",
   "name": "python3"
  },
  "language_info": {
   "codemirror_mode": {
    "name": "ipython",
    "version": 3
   },
   "file_extension": ".py",
   "mimetype": "text/x-python",
   "name": "python",
   "nbconvert_exporter": "python",
   "pygments_lexer": "ipython3",
   "version": "3.8.5"
  }
 },
 "nbformat": 4,
 "nbformat_minor": 2
}
