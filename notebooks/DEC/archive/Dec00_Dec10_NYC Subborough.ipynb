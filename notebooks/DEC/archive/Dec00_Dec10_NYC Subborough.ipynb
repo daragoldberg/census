{
 "cells": [
  {
   "cell_type": "code",
   "execution_count": 1,
   "metadata": {},
   "outputs": [],
   "source": [
    "import pandas as pd\n",
    "import json\n",
    "import numpy as np"
   ]
  },
  {
   "cell_type": "code",
   "execution_count": 2,
   "metadata": {},
   "outputs": [],
   "source": [
    "from censusAPI import myAPI"
   ]
  },
  {
   "cell_type": "code",
   "execution_count": 3,
   "metadata": {},
   "outputs": [],
   "source": [
    "boro = ['005','047','061','081','085']"
   ]
  },
  {
   "cell_type": "code",
   "execution_count": 36,
   "metadata": {},
   "outputs": [],
   "source": [
    "def get_data(year,data):\n",
    "    var = f'NAME,{data}'\n",
    "    url_base = f'https://api.census.gov/data/{year}/dec/sf1?'\n",
    "    df = pd.DataFrame()\n",
    "    for b in boro:\n",
    "        url = f'{url_base}get={var}&for=tract:*&in=state:36%20county:{b}&key={myAPI}'\n",
    "        dff = pd.read_json(url)\n",
    "        dff.columns = dff.iloc[0]\n",
    "        dff = dff[1:]\n",
    "        dff['yr'] = year\n",
    "        df = pd.concat([df,dff])\n",
    "    df['tract']=df['tract'].str.pad(width=6,side='right',fillchar='0')\n",
    "    df['ct_id']=df.state+df.county+df.tract\n",
    "    df['ct_id']=df['ct_id'].astype(int)\n",
    "    return df"
   ]
  },
  {
   "cell_type": "code",
   "execution_count": 37,
   "metadata": {},
   "outputs": [],
   "source": [
    "pop00 = get_data('2000','P001001')"
   ]
  },
  {
   "cell_type": "code",
   "execution_count": 38,
   "metadata": {},
   "outputs": [
    {
     "data": {
      "text/html": [
       "<div>\n",
       "<style scoped>\n",
       "    .dataframe tbody tr th:only-of-type {\n",
       "        vertical-align: middle;\n",
       "    }\n",
       "\n",
       "    .dataframe tbody tr th {\n",
       "        vertical-align: top;\n",
       "    }\n",
       "\n",
       "    .dataframe thead th {\n",
       "        text-align: right;\n",
       "    }\n",
       "</style>\n",
       "<table border=\"1\" class=\"dataframe\">\n",
       "  <thead>\n",
       "    <tr style=\"text-align: right;\">\n",
       "      <th></th>\n",
       "      <th>NAME</th>\n",
       "      <th>P001001</th>\n",
       "      <th>state</th>\n",
       "      <th>county</th>\n",
       "      <th>tract</th>\n",
       "      <th>yr</th>\n",
       "      <th>ct_id</th>\n",
       "    </tr>\n",
       "  </thead>\n",
       "  <tbody>\n",
       "    <tr>\n",
       "      <th>1</th>\n",
       "      <td>Census Tract 1, Bronx County, New York</td>\n",
       "      <td>12780</td>\n",
       "      <td>36</td>\n",
       "      <td>005</td>\n",
       "      <td>000100</td>\n",
       "      <td>2000</td>\n",
       "      <td>36005000100</td>\n",
       "    </tr>\n",
       "    <tr>\n",
       "      <th>2</th>\n",
       "      <td>Census Tract 2, Bronx County, New York</td>\n",
       "      <td>3545</td>\n",
       "      <td>36</td>\n",
       "      <td>005</td>\n",
       "      <td>000200</td>\n",
       "      <td>2000</td>\n",
       "      <td>36005000200</td>\n",
       "    </tr>\n",
       "    <tr>\n",
       "      <th>3</th>\n",
       "      <td>Census Tract 4, Bronx County, New York</td>\n",
       "      <td>3314</td>\n",
       "      <td>36</td>\n",
       "      <td>005</td>\n",
       "      <td>000400</td>\n",
       "      <td>2000</td>\n",
       "      <td>36005000400</td>\n",
       "    </tr>\n",
       "    <tr>\n",
       "      <th>4</th>\n",
       "      <td>Census Tract 5, Bronx County, New York</td>\n",
       "      <td>0</td>\n",
       "      <td>36</td>\n",
       "      <td>005</td>\n",
       "      <td>000500</td>\n",
       "      <td>2000</td>\n",
       "      <td>36005000500</td>\n",
       "    </tr>\n",
       "    <tr>\n",
       "      <th>5</th>\n",
       "      <td>Census Tract 11, Bronx County, New York</td>\n",
       "      <td>559</td>\n",
       "      <td>36</td>\n",
       "      <td>005</td>\n",
       "      <td>001100</td>\n",
       "      <td>2000</td>\n",
       "      <td>36005001100</td>\n",
       "    </tr>\n",
       "  </tbody>\n",
       "</table>\n",
       "</div>"
      ],
      "text/plain": [
       "0                                     NAME P001001 state county   tract    yr  \\\n",
       "1   Census Tract 1, Bronx County, New York   12780    36    005  000100  2000   \n",
       "2   Census Tract 2, Bronx County, New York    3545    36    005  000200  2000   \n",
       "3   Census Tract 4, Bronx County, New York    3314    36    005  000400  2000   \n",
       "4   Census Tract 5, Bronx County, New York       0    36    005  000500  2000   \n",
       "5  Census Tract 11, Bronx County, New York     559    36    005  001100  2000   \n",
       "\n",
       "0        ct_id  \n",
       "1  36005000100  \n",
       "2  36005000200  \n",
       "3  36005000400  \n",
       "4  36005000500  \n",
       "5  36005001100  "
      ]
     },
     "execution_count": 38,
     "metadata": {},
     "output_type": "execute_result"
    }
   ],
   "source": [
    "pop00.head()"
   ]
  },
  {
   "cell_type": "code",
   "execution_count": 31,
   "metadata": {},
   "outputs": [],
   "source": [
    "pop00.to_excel('2000tracttest2.xlsx')"
   ]
  },
  {
   "cell_type": "code",
   "execution_count": 34,
   "metadata": {},
   "outputs": [],
   "source": [
    "geo00 = pd.read_csv('../data/geo/nyc_subbor_00.csv')"
   ]
  },
  {
   "cell_type": "code",
   "execution_count": 40,
   "metadata": {},
   "outputs": [],
   "source": [
    "subbor = pd.merge(pop00,geo00,left_on='ct_id',right_on='ct_id',how='left')\n",
    "subbor = subbor[['state','county','id','name','P001001']].copy()\n",
    "subbor['P001001'] = subbor['P001001'].astype(int)\n",
    "subbor = subbor.groupby(['state','county','id','name']).sum().reset_index()"
   ]
  },
  {
   "cell_type": "code",
   "execution_count": 41,
   "metadata": {},
   "outputs": [
    {
     "data": {
      "text/html": [
       "<div>\n",
       "<style scoped>\n",
       "    .dataframe tbody tr th:only-of-type {\n",
       "        vertical-align: middle;\n",
       "    }\n",
       "\n",
       "    .dataframe tbody tr th {\n",
       "        vertical-align: top;\n",
       "    }\n",
       "\n",
       "    .dataframe thead th {\n",
       "        text-align: right;\n",
       "    }\n",
       "</style>\n",
       "<table border=\"1\" class=\"dataframe\">\n",
       "  <thead>\n",
       "    <tr style=\"text-align: right;\">\n",
       "      <th></th>\n",
       "      <th>state</th>\n",
       "      <th>county</th>\n",
       "      <th>id</th>\n",
       "      <th>name</th>\n",
       "      <th>P001001</th>\n",
       "    </tr>\n",
       "  </thead>\n",
       "  <tbody>\n",
       "    <tr>\n",
       "      <th>0</th>\n",
       "      <td>36</td>\n",
       "      <td>005</td>\n",
       "      <td>36005CS</td>\n",
       "      <td>BX Central and South</td>\n",
       "      <td>438620</td>\n",
       "    </tr>\n",
       "    <tr>\n",
       "      <th>1</th>\n",
       "      <td>36</td>\n",
       "      <td>005</td>\n",
       "      <td>36005NE</td>\n",
       "      <td>BX North and East</td>\n",
       "      <td>248155</td>\n",
       "    </tr>\n",
       "    <tr>\n",
       "      <th>2</th>\n",
       "      <td>36</td>\n",
       "      <td>005</td>\n",
       "      <td>36005W</td>\n",
       "      <td>BX West</td>\n",
       "      <td>645875</td>\n",
       "    </tr>\n",
       "    <tr>\n",
       "      <th>3</th>\n",
       "      <td>36</td>\n",
       "      <td>047</td>\n",
       "      <td>36047C</td>\n",
       "      <td>BK Central</td>\n",
       "      <td>575886</td>\n",
       "    </tr>\n",
       "    <tr>\n",
       "      <th>4</th>\n",
       "      <td>36</td>\n",
       "      <td>047</td>\n",
       "      <td>36047E</td>\n",
       "      <td>BK East</td>\n",
       "      <td>263647</td>\n",
       "    </tr>\n",
       "  </tbody>\n",
       "</table>\n",
       "</div>"
      ],
      "text/plain": [
       "  state county       id                  name  P001001\n",
       "0    36    005  36005CS  BX Central and South   438620\n",
       "1    36    005  36005NE     BX North and East   248155\n",
       "2    36    005   36005W               BX West   645875\n",
       "3    36    047   36047C            BK Central   575886\n",
       "4    36    047   36047E               BK East   263647"
      ]
     },
     "execution_count": 41,
     "metadata": {},
     "output_type": "execute_result"
    }
   ],
   "source": [
    "subbor.head()"
   ]
  },
  {
   "cell_type": "code",
   "execution_count": null,
   "metadata": {},
   "outputs": [],
   "source": [
    "geo10 = pd.read_csv('../data/geo/nyc_subbor_10.csv')"
   ]
  },
  {
   "cell_type": "code",
   "execution_count": 23,
   "metadata": {},
   "outputs": [],
   "source": [
    "pop10 = get_data('2010','P001001')"
   ]
  },
  {
   "cell_type": "code",
   "execution_count": 24,
   "metadata": {},
   "outputs": [
    {
     "data": {
      "text/html": [
       "<div>\n",
       "<style scoped>\n",
       "    .dataframe tbody tr th:only-of-type {\n",
       "        vertical-align: middle;\n",
       "    }\n",
       "\n",
       "    .dataframe tbody tr th {\n",
       "        vertical-align: top;\n",
       "    }\n",
       "\n",
       "    .dataframe thead th {\n",
       "        text-align: right;\n",
       "    }\n",
       "</style>\n",
       "<table border=\"1\" class=\"dataframe\">\n",
       "  <thead>\n",
       "    <tr style=\"text-align: right;\">\n",
       "      <th></th>\n",
       "      <th>NAME</th>\n",
       "      <th>P001001</th>\n",
       "      <th>state</th>\n",
       "      <th>county</th>\n",
       "      <th>tract</th>\n",
       "      <th>yr</th>\n",
       "      <th>id</th>\n",
       "    </tr>\n",
       "  </thead>\n",
       "  <tbody>\n",
       "    <tr>\n",
       "      <th>1</th>\n",
       "      <td>Census Tract 1, Bronx County, New York</td>\n",
       "      <td>11091</td>\n",
       "      <td>36</td>\n",
       "      <td>005</td>\n",
       "      <td>000100</td>\n",
       "      <td>2010</td>\n",
       "      <td>36005000100</td>\n",
       "    </tr>\n",
       "    <tr>\n",
       "      <th>2</th>\n",
       "      <td>Census Tract 2, Bronx County, New York</td>\n",
       "      <td>4334</td>\n",
       "      <td>36</td>\n",
       "      <td>005</td>\n",
       "      <td>000200</td>\n",
       "      <td>2010</td>\n",
       "      <td>36005000200</td>\n",
       "    </tr>\n",
       "    <tr>\n",
       "      <th>3</th>\n",
       "      <td>Census Tract 4, Bronx County, New York</td>\n",
       "      <td>5503</td>\n",
       "      <td>36</td>\n",
       "      <td>005</td>\n",
       "      <td>000400</td>\n",
       "      <td>2010</td>\n",
       "      <td>36005000400</td>\n",
       "    </tr>\n",
       "    <tr>\n",
       "      <th>4</th>\n",
       "      <td>Census Tract 16, Bronx County, New York</td>\n",
       "      <td>5643</td>\n",
       "      <td>36</td>\n",
       "      <td>005</td>\n",
       "      <td>001600</td>\n",
       "      <td>2010</td>\n",
       "      <td>36005001600</td>\n",
       "    </tr>\n",
       "    <tr>\n",
       "      <th>5</th>\n",
       "      <td>Census Tract 19, Bronx County, New York</td>\n",
       "      <td>1917</td>\n",
       "      <td>36</td>\n",
       "      <td>005</td>\n",
       "      <td>001900</td>\n",
       "      <td>2010</td>\n",
       "      <td>36005001900</td>\n",
       "    </tr>\n",
       "  </tbody>\n",
       "</table>\n",
       "</div>"
      ],
      "text/plain": [
       "0                                     NAME P001001 state county   tract    yr  \\\n",
       "1   Census Tract 1, Bronx County, New York   11091    36    005  000100  2010   \n",
       "2   Census Tract 2, Bronx County, New York    4334    36    005  000200  2010   \n",
       "3   Census Tract 4, Bronx County, New York    5503    36    005  000400  2010   \n",
       "4  Census Tract 16, Bronx County, New York    5643    36    005  001600  2010   \n",
       "5  Census Tract 19, Bronx County, New York    1917    36    005  001900  2010   \n",
       "\n",
       "0           id  \n",
       "1  36005000100  \n",
       "2  36005000200  \n",
       "3  36005000400  \n",
       "4  36005001600  \n",
       "5  36005001900  "
      ]
     },
     "execution_count": 24,
     "metadata": {},
     "output_type": "execute_result"
    }
   ],
   "source": [
    "pop10.head()"
   ]
  },
  {
   "cell_type": "code",
   "execution_count": null,
   "metadata": {},
   "outputs": [],
   "source": [
    "pop10 = get_data('2010','P001001')\n",
    "subbor = pd.merge(pop10,geo10,left_on='id',right_on='ct_id',how='left')\n",
    "subbor = subbor[['state','county','subbor_id','subbor_nm','P001001']].copy()\n",
    "subbor['P001001'] = subbor['P001001'].astype(int)\n",
    "subbor = subbor.groupby(['state','county','subbor_id','subbor_nm']).sum().reset_index()\n",
    "subbor.to_csv('output/subor_pop_10.csv')"
   ]
  },
  {
   "cell_type": "code",
   "execution_count": null,
   "metadata": {},
   "outputs": [],
   "source": [
    "hou10 = get_data('2010','H001001')\n",
    "subbor_h = pd.merge(hou10,geo10,left_on='id',right_on='ct_id',how='left')\n",
    "subbor_h = subbor_h[['state','county','subbor_id','subbor_nm','H001001']].copy()\n",
    "subbor_h['H001001'] = subbor_h['H001001'].astype(int)\n",
    "subbor_h = subbor_h.groupby(['state','county','subbor_id','subbor_nm']).sum().reset_index()\n",
    "subbor_h.to_csv('output/subor_hou_10.csv')"
   ]
  },
  {
   "cell_type": "code",
   "execution_count": null,
   "metadata": {},
   "outputs": [],
   "source": [
    "hou10_o = get_data('2010','H003002')\n",
    "subbor_h_o = pd.merge(hou10_o,geo10,left_on='id',right_on='ct_id',how='left')\n",
    "subbor_h_o = subbor_h_o[['state','county','subbor_id','subbor_nm','H003002']].copy()\n",
    "subbor_h_o['H003002'] = subbor_h_o['H003002'].astype(int)\n",
    "subbor_h_o = subbor_h_o.groupby(['state','county','subbor_id','subbor_nm']).sum().reset_index()\n",
    "subbor_h_o.to_csv('output/subor_hou_o_10.csv')"
   ]
  },
  {
   "cell_type": "code",
   "execution_count": null,
   "metadata": {},
   "outputs": [],
   "source": [
    "hou10_v = get_data('2010','H003003')\n",
    "subbor_h_v = pd.merge(hou10_v,geo10,left_on='id',right_on='ct_id',how='left')\n",
    "subbor_h_v = subbor_h_v[['state','county','subbor_id','subbor_nm','H003003']].copy()\n",
    "subbor_h_v['H003003'] = subbor_h_v['H003003'].astype(int)\n",
    "subbor_h_v = subbor_h_v.groupby(['state','county','subbor_id','subbor_nm']).sum().reset_index()\n",
    "subbor_h_v.to_csv('output/subor_hou_v_10.csv')"
   ]
  }
 ],
 "metadata": {
  "kernelspec": {
   "display_name": "Python 3",
   "language": "python",
   "name": "python3"
  },
  "language_info": {
   "codemirror_mode": {
    "name": "ipython",
    "version": 3
   },
   "file_extension": ".py",
   "mimetype": "text/x-python",
   "name": "python",
   "nbconvert_exporter": "python",
   "pygments_lexer": "ipython3",
   "version": "3.8.5"
  }
 },
 "nbformat": 4,
 "nbformat_minor": 4
}
