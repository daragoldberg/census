{
 "cells": [
  {
   "cell_type": "markdown",
   "metadata": {},
   "source": [
    "## Import LEHD RAC files and generate table summaries for the various working geographies"
   ]
  },
  {
   "cell_type": "code",
   "execution_count": 18,
   "metadata": {},
   "outputs": [],
   "source": [
    "import pandas as pd\n",
    "import numpy as np"
   ]
  },
  {
   "cell_type": "markdown",
   "metadata": {},
   "source": [
    "#### Read in RAC or WAC files"
   ]
  },
  {
   "cell_type": "code",
   "execution_count": 19,
   "metadata": {},
   "outputs": [],
   "source": [
    "df1 = pd.read_csv('data/ct_rac_S000_JT00_2017.csv')\n",
    "df2 = pd.read_csv('data/ny_rac_S000_JT00_2017.csv')\n",
    "df3 = pd.read_csv('data/nj_rac_S000_JT00_2017.csv')"
   ]
  },
  {
   "cell_type": "code",
   "execution_count": 20,
   "metadata": {},
   "outputs": [],
   "source": [
    "df = pd.concat([df1,df2,df3])"
   ]
  },
  {
   "cell_type": "code",
   "execution_count": 21,
   "metadata": {},
   "outputs": [],
   "source": [
    "data_cols = ['C000', 'CA01', 'CA02', 'CA03', 'CE01', 'CE02', 'CE03',\n",
    "       'CNS01', 'CNS02', 'CNS03', 'CNS04', 'CNS05', 'CNS06', 'CNS07', 'CNS08',\n",
    "       'CNS09', 'CNS10', 'CNS11', 'CNS12', 'CNS13', 'CNS14', 'CNS15', 'CNS16',\n",
    "       'CNS17', 'CNS18', 'CNS19', 'CNS20', 'CR01', 'CR02', 'CR03', 'CR04',\n",
    "       'CR05', 'CR07', 'CT01', 'CT02', 'CD01', 'CD02', 'CD03', 'CD04', 'CS01',\n",
    "       'CS02']"
   ]
  },
  {
   "cell_type": "markdown",
   "metadata": {},
   "source": [
    "#### Read in geo crosswalk file, merge with data, and clean up data types"
   ]
  },
  {
   "cell_type": "code",
   "execution_count": 22,
   "metadata": {
    "scrolled": false
   },
   "outputs": [
    {
     "name": "stderr",
     "output_type": "stream",
     "text": [
      "/opt/anaconda3/lib/python3.8/site-packages/IPython/core/interactiveshell.py:3071: DtypeWarning: Columns (23,27,38,39,40,46,48) have mixed types.Specify dtype option on import or set low_memory=False.\n",
      "  has_raised = await self.run_ast_nodes(code_ast.body, cell_name,\n"
     ]
    }
   ],
   "source": [
    "geo = pd.read_csv('data/geoxwalk_all.csv')"
   ]
  },
  {
   "cell_type": "code",
   "execution_count": 23,
   "metadata": {},
   "outputs": [],
   "source": [
    "dff = pd.merge(df, geo, left_on=\"h_geocode\", right_on=\"tabblk2010\", how=\"inner\")"
   ]
  },
  {
   "cell_type": "code",
   "execution_count": 24,
   "metadata": {},
   "outputs": [],
   "source": [
    "#fix the issue with mixed strings and ints within the recode columns\n",
    "geoid_cols = ['subplbor','subpl','subplnta','subplpuma']\n",
    "\n",
    "for column_name in dff.columns:\n",
    "    if column_name in geoid_cols:\n",
    "        dff[column_name] = dff[column_name].apply(str)\n",
    "    else:\n",
    "        pass"
   ]
  },
  {
   "cell_type": "code",
   "execution_count": 25,
   "metadata": {},
   "outputs": [],
   "source": [
    "df_subplbor = pd.concat([dff[['cty','subplbor','subplbor_n']],dff[data_cols]],axis=1)\n",
    "df_subpl = pd.concat([dff[['cty','subpl', 'subpl_n']],dff[data_cols]],axis=1)\n",
    "df_subplnta = pd.concat([dff[['cty','subplnta', 'subplnta_n']],dff[data_cols]],axis=1)\n",
    "df_subplpuma = pd.concat([dff[['cty','subplpuma', 'subplpuma_n']],dff[data_cols]],axis=1)"
   ]
  },
  {
   "cell_type": "markdown",
   "metadata": {},
   "source": [
    "### Group by various summary geographies"
   ]
  },
  {
   "cell_type": "code",
   "execution_count": 26,
   "metadata": {},
   "outputs": [],
   "source": [
    "df_subplbor = df_subplbor.groupby(['cty','subplbor','subplbor_n']).agg({'C000':np.sum,'CNS01':np.sum,'CNS02':np.sum,'CNS03':np.sum,'CNS04':np.sum,\\\n",
    "                                                    'CNS05':np.sum,'CNS06':np.sum,'CNS07':np.sum,'CNS08':np.sum,'CNS09':np.sum,'CNS10':np.sum,\\\n",
    "                                                    'CNS11':np.sum,'CNS12':np.sum,'CNS13':np.sum,'CNS14':np.sum,'CNS15':np.sum,'CNS16':np.sum,\\\n",
    "                                                    'CNS17':np.sum,'CNS18':np.sum,'CNS19':np.sum,'CNS20':np.sum}).reset_index()"
   ]
  },
  {
   "cell_type": "code",
   "execution_count": 27,
   "metadata": {},
   "outputs": [],
   "source": [
    "df_subpl = df_subpl.groupby(['cty','subpl','subpl_n']).agg({'C000':np.sum,'CNS01':np.sum,'CNS02':np.sum,'CNS03':np.sum,'CNS04':np.sum,\\\n",
    "                                                    'CNS05':np.sum,'CNS06':np.sum,'CNS07':np.sum,'CNS08':np.sum,'CNS09':np.sum,'CNS10':np.sum,\\\n",
    "                                                    'CNS11':np.sum,'CNS12':np.sum,'CNS13':np.sum,'CNS14':np.sum,'CNS15':np.sum,'CNS16':np.sum,\\\n",
    "                                                    'CNS17':np.sum,'CNS18':np.sum,'CNS19':np.sum,'CNS20':np.sum}).reset_index()"
   ]
  },
  {
   "cell_type": "code",
   "execution_count": 28,
   "metadata": {},
   "outputs": [],
   "source": [
    "df_subplnta = df_subplnta.groupby(['cty','subplnta','subplnta_n']).agg({'C000':np.sum,'CNS01':np.sum,'CNS02':np.sum,'CNS03':np.sum,'CNS04':np.sum,\\\n",
    "                                                    'CNS05':np.sum,'CNS06':np.sum,'CNS07':np.sum,'CNS08':np.sum,'CNS09':np.sum,'CNS10':np.sum,\\\n",
    "                                                    'CNS11':np.sum,'CNS12':np.sum,'CNS13':np.sum,'CNS14':np.sum,'CNS15':np.sum,'CNS16':np.sum,\\\n",
    "                                                    'CNS17':np.sum,'CNS18':np.sum,'CNS19':np.sum,'CNS20':np.sum}).reset_index()"
   ]
  },
  {
   "cell_type": "code",
   "execution_count": 29,
   "metadata": {},
   "outputs": [],
   "source": [
    "df_subplpuma = df_subplpuma.groupby(['cty','subplpuma','subplpuma_n']).agg({'C000':np.sum,'CNS01':np.sum,'CNS02':np.sum,'CNS03':np.sum,'CNS04':np.sum,\\\n",
    "                                                    'CNS05':np.sum,'CNS06':np.sum,'CNS07':np.sum,'CNS08':np.sum,'CNS09':np.sum,'CNS10':np.sum,\\\n",
    "                                                    'CNS11':np.sum,'CNS12':np.sum,'CNS13':np.sum,'CNS14':np.sum,'CNS15':np.sum,'CNS16':np.sum,\\\n",
    "                                                    'CNS17':np.sum,'CNS18':np.sum,'CNS19':np.sum,'CNS20':np.sum}).reset_index()"
   ]
  },
  {
   "cell_type": "markdown",
   "metadata": {},
   "source": [
    "### Export tables to Excel"
   ]
  },
  {
   "cell_type": "code",
   "execution_count": 30,
   "metadata": {},
   "outputs": [],
   "source": [
    "df_subplbor.to_excel('output/LEHD/subplbor_JT002017_RAC.xlsx')\n",
    "df_subpl.to_excel('output/LEHD/subpl_JT002017_RAC.xlsx')\n",
    "df_subplnta.to_excel('output/LEHD/subplnta_JT002017_RAC.xlsx')"
   ]
  },
  {
   "cell_type": "markdown",
   "metadata": {},
   "source": [
    "### Run calcs on table"
   ]
  },
  {
   "cell_type": "code",
   "execution_count": 31,
   "metadata": {},
   "outputs": [],
   "source": [
    "office = ['CNS09','CNS10','CNS11','CNS12','CNS13','CNS14']\n",
    "institutional = ['CNS15', 'CNS16']\n",
    "industrial = ['CNS01','CNS02','CNS03','CNS04','CNS05','CNS06','CNS08']\n",
    "localserv = ['CNS07','CNS17','CNS18','CNS19']\n",
    "gov = ['CNS20']"
   ]
  },
  {
   "cell_type": "code",
   "execution_count": 32,
   "metadata": {},
   "outputs": [],
   "source": [
    "df_subplnta['Office'] = df_subplnta.loc[:,office].sum(axis=1)\n",
    "df_subplnta['Institutional'] = df_subplnta.loc[:,institutional].sum(axis=1)\n",
    "df_subplnta['Industrial'] = df_subplnta.loc[:,industrial].sum(axis=1)\n",
    "df_subplnta['Local Services'] = df_subplnta.loc[:,localserv].sum(axis=1)\n",
    "df_subplnta['Public Admin'] = df_subplnta.loc[:,gov].sum(axis=1)"
   ]
  },
  {
   "cell_type": "code",
   "execution_count": 33,
   "metadata": {
    "scrolled": true
   },
   "outputs": [
    {
     "data": {
      "text/html": [
       "<div>\n",
       "<style scoped>\n",
       "    .dataframe tbody tr th:only-of-type {\n",
       "        vertical-align: middle;\n",
       "    }\n",
       "\n",
       "    .dataframe tbody tr th {\n",
       "        vertical-align: top;\n",
       "    }\n",
       "\n",
       "    .dataframe thead th {\n",
       "        text-align: right;\n",
       "    }\n",
       "</style>\n",
       "<table border=\"1\" class=\"dataframe\">\n",
       "  <thead>\n",
       "    <tr style=\"text-align: right;\">\n",
       "      <th></th>\n",
       "      <th>cty</th>\n",
       "      <th>subplnta</th>\n",
       "      <th>subplnta_n</th>\n",
       "      <th>C000</th>\n",
       "      <th>CNS01</th>\n",
       "      <th>CNS02</th>\n",
       "      <th>CNS03</th>\n",
       "      <th>CNS04</th>\n",
       "      <th>CNS05</th>\n",
       "      <th>CNS06</th>\n",
       "      <th>...</th>\n",
       "      <th>CNS16</th>\n",
       "      <th>CNS17</th>\n",
       "      <th>CNS18</th>\n",
       "      <th>CNS19</th>\n",
       "      <th>CNS20</th>\n",
       "      <th>Office</th>\n",
       "      <th>Institutional</th>\n",
       "      <th>Industrial</th>\n",
       "      <th>Local Services</th>\n",
       "      <th>Public Admin</th>\n",
       "    </tr>\n",
       "  </thead>\n",
       "  <tbody>\n",
       "    <tr>\n",
       "      <th>0</th>\n",
       "      <td>9001</td>\n",
       "      <td>900104720</td>\n",
       "      <td>Bethel town (Fairfield, CT)</td>\n",
       "      <td>9731</td>\n",
       "      <td>25</td>\n",
       "      <td>6</td>\n",
       "      <td>45</td>\n",
       "      <td>445</td>\n",
       "      <td>896</td>\n",
       "      <td>421</td>\n",
       "      <td>...</td>\n",
       "      <td>1415</td>\n",
       "      <td>240</td>\n",
       "      <td>701</td>\n",
       "      <td>388</td>\n",
       "      <td>215</td>\n",
       "      <td>2394</td>\n",
       "      <td>2534</td>\n",
       "      <td>2045</td>\n",
       "      <td>2543</td>\n",
       "      <td>215</td>\n",
       "    </tr>\n",
       "    <tr>\n",
       "      <th>1</th>\n",
       "      <td>9001</td>\n",
       "      <td>900108070</td>\n",
       "      <td>Bridgeport town (Fairfield, CT)</td>\n",
       "      <td>57535</td>\n",
       "      <td>50</td>\n",
       "      <td>10</td>\n",
       "      <td>191</td>\n",
       "      <td>1690</td>\n",
       "      <td>4693</td>\n",
       "      <td>1723</td>\n",
       "      <td>...</td>\n",
       "      <td>13059</td>\n",
       "      <td>1207</td>\n",
       "      <td>5331</td>\n",
       "      <td>2768</td>\n",
       "      <td>1270</td>\n",
       "      <td>11654</td>\n",
       "      <td>17135</td>\n",
       "      <td>10627</td>\n",
       "      <td>16849</td>\n",
       "      <td>1270</td>\n",
       "    </tr>\n",
       "    <tr>\n",
       "      <th>2</th>\n",
       "      <td>9001</td>\n",
       "      <td>900108980</td>\n",
       "      <td>Brookfield town (Fairfield, CT)</td>\n",
       "      <td>7730</td>\n",
       "      <td>8</td>\n",
       "      <td>0</td>\n",
       "      <td>35</td>\n",
       "      <td>345</td>\n",
       "      <td>611</td>\n",
       "      <td>352</td>\n",
       "      <td>...</td>\n",
       "      <td>1110</td>\n",
       "      <td>185</td>\n",
       "      <td>480</td>\n",
       "      <td>321</td>\n",
       "      <td>200</td>\n",
       "      <td>1942</td>\n",
       "      <td>2074</td>\n",
       "      <td>1538</td>\n",
       "      <td>1976</td>\n",
       "      <td>200</td>\n",
       "    </tr>\n",
       "    <tr>\n",
       "      <th>3</th>\n",
       "      <td>9001</td>\n",
       "      <td>900118500</td>\n",
       "      <td>Danbury town (Fairfield, CT)</td>\n",
       "      <td>37135</td>\n",
       "      <td>62</td>\n",
       "      <td>8</td>\n",
       "      <td>136</td>\n",
       "      <td>1829</td>\n",
       "      <td>3507</td>\n",
       "      <td>1528</td>\n",
       "      <td>...</td>\n",
       "      <td>5976</td>\n",
       "      <td>717</td>\n",
       "      <td>3208</td>\n",
       "      <td>1574</td>\n",
       "      <td>717</td>\n",
       "      <td>8571</td>\n",
       "      <td>9262</td>\n",
       "      <td>7926</td>\n",
       "      <td>10659</td>\n",
       "      <td>717</td>\n",
       "    </tr>\n",
       "    <tr>\n",
       "      <th>4</th>\n",
       "      <td>9001</td>\n",
       "      <td>900118850</td>\n",
       "      <td>Darien town (Fairfield, CT)</td>\n",
       "      <td>7529</td>\n",
       "      <td>7</td>\n",
       "      <td>0</td>\n",
       "      <td>18</td>\n",
       "      <td>227</td>\n",
       "      <td>246</td>\n",
       "      <td>295</td>\n",
       "      <td>...</td>\n",
       "      <td>765</td>\n",
       "      <td>298</td>\n",
       "      <td>482</td>\n",
       "      <td>343</td>\n",
       "      <td>114</td>\n",
       "      <td>3300</td>\n",
       "      <td>1446</td>\n",
       "      <td>922</td>\n",
       "      <td>1747</td>\n",
       "      <td>114</td>\n",
       "    </tr>\n",
       "  </tbody>\n",
       "</table>\n",
       "<p>5 rows × 29 columns</p>\n",
       "</div>"
      ],
      "text/plain": [
       "    cty   subplnta                       subplnta_n   C000  CNS01  CNS02  \\\n",
       "0  9001  900104720      Bethel town (Fairfield, CT)   9731     25      6   \n",
       "1  9001  900108070  Bridgeport town (Fairfield, CT)  57535     50     10   \n",
       "2  9001  900108980  Brookfield town (Fairfield, CT)   7730      8      0   \n",
       "3  9001  900118500     Danbury town (Fairfield, CT)  37135     62      8   \n",
       "4  9001  900118850      Darien town (Fairfield, CT)   7529      7      0   \n",
       "\n",
       "   CNS03  CNS04  CNS05  CNS06  ...  CNS16  CNS17  CNS18  CNS19  CNS20  Office  \\\n",
       "0     45    445    896    421  ...   1415    240    701    388    215    2394   \n",
       "1    191   1690   4693   1723  ...  13059   1207   5331   2768   1270   11654   \n",
       "2     35    345    611    352  ...   1110    185    480    321    200    1942   \n",
       "3    136   1829   3507   1528  ...   5976    717   3208   1574    717    8571   \n",
       "4     18    227    246    295  ...    765    298    482    343    114    3300   \n",
       "\n",
       "   Institutional  Industrial  Local Services  Public Admin  \n",
       "0           2534        2045            2543           215  \n",
       "1          17135       10627           16849          1270  \n",
       "2           2074        1538            1976           200  \n",
       "3           9262        7926           10659           717  \n",
       "4           1446         922            1747           114  \n",
       "\n",
       "[5 rows x 29 columns]"
      ]
     },
     "execution_count": 33,
     "metadata": {},
     "output_type": "execute_result"
    }
   ],
   "source": [
    "df_subplnta.head()"
   ]
  },
  {
   "cell_type": "code",
   "execution_count": 34,
   "metadata": {},
   "outputs": [],
   "source": [
    "df_subplnta.to_excel('output/LEHD/subplnta_JT002017_RAC.xlsx')"
   ]
  }
 ],
 "metadata": {
  "kernelspec": {
   "display_name": "Python 3",
   "language": "python",
   "name": "python3"
  },
  "language_info": {
   "codemirror_mode": {
    "name": "ipython",
    "version": 3
   },
   "file_extension": ".py",
   "mimetype": "text/x-python",
   "name": "python",
   "nbconvert_exporter": "python",
   "pygments_lexer": "ipython3",
   "version": "3.8.3"
  }
 },
 "nbformat": 4,
 "nbformat_minor": 4
}
