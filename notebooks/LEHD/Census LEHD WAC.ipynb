{
 "cells": [
  {
   "cell_type": "markdown",
   "metadata": {},
   "source": [
    "## Import LEHD WAC files and generate table summaries for the various working geographies"
   ]
  },
  {
   "cell_type": "code",
   "execution_count": 1,
   "metadata": {},
   "outputs": [],
   "source": [
    "import pandas as pd\n",
    "import numpy as np"
   ]
  },
  {
   "cell_type": "markdown",
   "metadata": {},
   "source": [
    "#### Read in WAC files"
   ]
  },
  {
   "cell_type": "code",
   "execution_count": 2,
   "metadata": {},
   "outputs": [],
   "source": [
    "df1 = pd.read_csv('data/ct_wac_S000_JT00_2017.csv')\n",
    "df2 = pd.read_csv('data/ny_wac_S000_JT00_2017.csv')\n",
    "df3 = pd.read_csv('data/nj_wac_S000_JT00_2017.csv')"
   ]
  },
  {
   "cell_type": "code",
   "execution_count": 3,
   "metadata": {},
   "outputs": [],
   "source": [
    "df = pd.concat([df1,df2,df3])"
   ]
  },
  {
   "cell_type": "code",
   "execution_count": 4,
   "metadata": {},
   "outputs": [],
   "source": [
    "data_cols = ['C000', 'CA01', 'CA02', 'CA03', 'CE01', 'CE02', 'CE03',\n",
    "       'CNS01', 'CNS02', 'CNS03', 'CNS04', 'CNS05', 'CNS06', 'CNS07', 'CNS08',\n",
    "       'CNS09', 'CNS10', 'CNS11', 'CNS12', 'CNS13', 'CNS14', 'CNS15', 'CNS16',\n",
    "       'CNS17', 'CNS18', 'CNS19', 'CNS20', 'CR01', 'CR02', 'CR03', 'CR04',\n",
    "       'CR05', 'CR07', 'CT01', 'CT02', 'CD01', 'CD02', 'CD03', 'CD04', 'CS01',\n",
    "       'CS02']"
   ]
  },
  {
   "cell_type": "markdown",
   "metadata": {},
   "source": [
    "#### Read in geo crosswalk file, merge with data, and clean up data types"
   ]
  },
  {
   "cell_type": "code",
   "execution_count": 5,
   "metadata": {
    "scrolled": false
   },
   "outputs": [
    {
     "name": "stderr",
     "output_type": "stream",
     "text": [
      "/opt/anaconda3/lib/python3.8/site-packages/IPython/core/interactiveshell.py:3071: DtypeWarning: Columns (23,27,38,39,40,46,48) have mixed types.Specify dtype option on import or set low_memory=False.\n",
      "  has_raised = await self.run_ast_nodes(code_ast.body, cell_name,\n"
     ]
    }
   ],
   "source": [
    "geo = pd.read_csv('data/geoxwalk_all.csv')"
   ]
  },
  {
   "cell_type": "code",
   "execution_count": 6,
   "metadata": {},
   "outputs": [],
   "source": [
    "dff = pd.merge(df, geo, left_on=\"w_geocode\", right_on=\"tabblk2010\", how=\"inner\")"
   ]
  },
  {
   "cell_type": "code",
   "execution_count": 7,
   "metadata": {},
   "outputs": [],
   "source": [
    "#fix the issue with mixed strings and ints within the recode columns\n",
    "geoid_cols = ['subplbor','subpl','subplnta','subplpuma']\n",
    "\n",
    "for column_name in dff.columns:\n",
    "    if column_name in geoid_cols:\n",
    "        dff[column_name] = dff[column_name].apply(str)\n",
    "    else:\n",
    "        pass"
   ]
  },
  {
   "cell_type": "code",
   "execution_count": 8,
   "metadata": {},
   "outputs": [],
   "source": [
    "df_subplbor = pd.concat([dff[['cty','subplbor','subplbor_n']],dff[data_cols]],axis=1)\n",
    "df_subpl = pd.concat([dff[['cty','subpl', 'subpl_n']],dff[data_cols]],axis=1)\n",
    "df_subplnta = pd.concat([dff[['cty','subplnta', 'subplnta_n']],dff[data_cols]],axis=1)\n",
    "df_subplpuma = pd.concat([dff[['cty','subplpuma', 'subplpuma_n']],dff[data_cols]],axis=1)"
   ]
  },
  {
   "cell_type": "markdown",
   "metadata": {},
   "source": [
    "### Group by various summary geographies"
   ]
  },
  {
   "cell_type": "code",
   "execution_count": 9,
   "metadata": {},
   "outputs": [],
   "source": [
    "df_subplbor = df_subplbor.groupby(['cty','subplbor','subplbor_n']).agg({'C000':np.sum,'CNS01':np.sum,'CNS02':np.sum,'CNS03':np.sum,'CNS04':np.sum,\\\n",
    "                                                    'CNS05':np.sum,'CNS06':np.sum,'CNS07':np.sum,'CNS08':np.sum,'CNS09':np.sum,'CNS10':np.sum,\\\n",
    "                                                    'CNS11':np.sum,'CNS12':np.sum,'CNS13':np.sum,'CNS14':np.sum,'CNS15':np.sum,'CNS16':np.sum,\\\n",
    "                                                    'CNS17':np.sum,'CNS18':np.sum,'CNS19':np.sum,'CNS20':np.sum}).reset_index()"
   ]
  },
  {
   "cell_type": "code",
   "execution_count": 10,
   "metadata": {},
   "outputs": [],
   "source": [
    "df_subpl = df_subpl.groupby(['cty','subpl','subpl_n']).agg({'C000':np.sum,'CNS01':np.sum,'CNS02':np.sum,'CNS03':np.sum,'CNS04':np.sum,\\\n",
    "                                                    'CNS05':np.sum,'CNS06':np.sum,'CNS07':np.sum,'CNS08':np.sum,'CNS09':np.sum,'CNS10':np.sum,\\\n",
    "                                                    'CNS11':np.sum,'CNS12':np.sum,'CNS13':np.sum,'CNS14':np.sum,'CNS15':np.sum,'CNS16':np.sum,\\\n",
    "                                                    'CNS17':np.sum,'CNS18':np.sum,'CNS19':np.sum,'CNS20':np.sum}).reset_index()"
   ]
  },
  {
   "cell_type": "code",
   "execution_count": 11,
   "metadata": {},
   "outputs": [],
   "source": [
    "df_subplnta = df_subplnta.groupby(['cty','subplnta','subplnta_n']).agg({'C000':np.sum,'CNS01':np.sum,'CNS02':np.sum,'CNS03':np.sum,'CNS04':np.sum,\\\n",
    "                                                    'CNS05':np.sum,'CNS06':np.sum,'CNS07':np.sum,'CNS08':np.sum,'CNS09':np.sum,'CNS10':np.sum,\\\n",
    "                                                    'CNS11':np.sum,'CNS12':np.sum,'CNS13':np.sum,'CNS14':np.sum,'CNS15':np.sum,'CNS16':np.sum,\\\n",
    "                                                    'CNS17':np.sum,'CNS18':np.sum,'CNS19':np.sum,'CNS20':np.sum}).reset_index()"
   ]
  },
  {
   "cell_type": "code",
   "execution_count": 12,
   "metadata": {},
   "outputs": [],
   "source": [
    "df_subplpuma = df_subplpuma.groupby(['cty','subplpuma','subplpuma_n']).agg({'C000':np.sum,'CNS01':np.sum,'CNS02':np.sum,'CNS03':np.sum,'CNS04':np.sum,\\\n",
    "                                                    'CNS05':np.sum,'CNS06':np.sum,'CNS07':np.sum,'CNS08':np.sum,'CNS09':np.sum,'CNS10':np.sum,\\\n",
    "                                                    'CNS11':np.sum,'CNS12':np.sum,'CNS13':np.sum,'CNS14':np.sum,'CNS15':np.sum,'CNS16':np.sum,\\\n",
    "                                                    'CNS17':np.sum,'CNS18':np.sum,'CNS19':np.sum,'CNS20':np.sum}).reset_index()"
   ]
  },
  {
   "cell_type": "markdown",
   "metadata": {},
   "source": [
    "### Export tables to Excel"
   ]
  },
  {
   "cell_type": "code",
   "execution_count": 13,
   "metadata": {},
   "outputs": [],
   "source": [
    "df_subplbor.to_excel('output/LEHD/subplbor_JT002017_WAC.xlsx')\n",
    "df_subpl.to_excel('output/LEHD/subpl_JT002017_WAC.xlsx')\n",
    "df_subplnta.to_excel('output/LEHD/subplpuma_JT002017_WAC.xlsx')"
   ]
  },
  {
   "cell_type": "markdown",
   "metadata": {},
   "source": [
    "### Run calcs on table"
   ]
  },
  {
   "cell_type": "code",
   "execution_count": 14,
   "metadata": {},
   "outputs": [],
   "source": [
    "office = ['CNS09','CNS10','CNS11','CNS12','CNS13','CNS14']\n",
    "institutional = ['CNS15', 'CNS16']\n",
    "industrial = ['CNS01','CNS02','CNS03','CNS04','CNS05','CNS06','CNS08']\n",
    "localserv = ['CNS07','CNS17','CNS18','CNS19']\n",
    "gov = ['CNS20']"
   ]
  },
  {
   "cell_type": "code",
   "execution_count": 15,
   "metadata": {},
   "outputs": [],
   "source": [
    "df_subplnta['Office'] = df_subplnta.loc[:,office].sum(axis=1)\n",
    "df_subplnta['Institutional'] = df_subplnta.loc[:,institutional].sum(axis=1)\n",
    "df_subplnta['Industrial'] = df_subplnta.loc[:,industrial].sum(axis=1)\n",
    "df_subplnta['Local Services'] = df_subplnta.loc[:,localserv].sum(axis=1)\n",
    "df_subplnta['Public Admin'] = df_subplnta.loc[:,gov].sum(axis=1)"
   ]
  },
  {
   "cell_type": "code",
   "execution_count": 16,
   "metadata": {},
   "outputs": [
    {
     "data": {
      "text/html": [
       "<div>\n",
       "<style scoped>\n",
       "    .dataframe tbody tr th:only-of-type {\n",
       "        vertical-align: middle;\n",
       "    }\n",
       "\n",
       "    .dataframe tbody tr th {\n",
       "        vertical-align: top;\n",
       "    }\n",
       "\n",
       "    .dataframe thead th {\n",
       "        text-align: right;\n",
       "    }\n",
       "</style>\n",
       "<table border=\"1\" class=\"dataframe\">\n",
       "  <thead>\n",
       "    <tr style=\"text-align: right;\">\n",
       "      <th></th>\n",
       "      <th>cty</th>\n",
       "      <th>subplnta</th>\n",
       "      <th>subplnta_n</th>\n",
       "      <th>C000</th>\n",
       "      <th>CNS01</th>\n",
       "      <th>CNS02</th>\n",
       "      <th>CNS03</th>\n",
       "      <th>CNS04</th>\n",
       "      <th>CNS05</th>\n",
       "      <th>CNS06</th>\n",
       "      <th>...</th>\n",
       "      <th>CNS16</th>\n",
       "      <th>CNS17</th>\n",
       "      <th>CNS18</th>\n",
       "      <th>CNS19</th>\n",
       "      <th>CNS20</th>\n",
       "      <th>Office</th>\n",
       "      <th>Institutional</th>\n",
       "      <th>Industrial</th>\n",
       "      <th>Local Services</th>\n",
       "      <th>Public Admin</th>\n",
       "    </tr>\n",
       "  </thead>\n",
       "  <tbody>\n",
       "    <tr>\n",
       "      <th>0</th>\n",
       "      <td>9001</td>\n",
       "      <td>900104720</td>\n",
       "      <td>Bethel town (Fairfield, CT)</td>\n",
       "      <td>7442</td>\n",
       "      <td>4</td>\n",
       "      <td>0</td>\n",
       "      <td>8</td>\n",
       "      <td>475</td>\n",
       "      <td>1118</td>\n",
       "      <td>497</td>\n",
       "      <td>...</td>\n",
       "      <td>1411</td>\n",
       "      <td>105</td>\n",
       "      <td>592</td>\n",
       "      <td>265</td>\n",
       "      <td>82</td>\n",
       "      <td>1101</td>\n",
       "      <td>2135</td>\n",
       "      <td>2423</td>\n",
       "      <td>1701</td>\n",
       "      <td>82</td>\n",
       "    </tr>\n",
       "    <tr>\n",
       "      <th>1</th>\n",
       "      <td>9001</td>\n",
       "      <td>900108070</td>\n",
       "      <td>Bridgeport town (Fairfield, CT)</td>\n",
       "      <td>43758</td>\n",
       "      <td>14</td>\n",
       "      <td>16</td>\n",
       "      <td>264</td>\n",
       "      <td>1431</td>\n",
       "      <td>3531</td>\n",
       "      <td>1522</td>\n",
       "      <td>...</td>\n",
       "      <td>13063</td>\n",
       "      <td>1028</td>\n",
       "      <td>2204</td>\n",
       "      <td>1659</td>\n",
       "      <td>2175</td>\n",
       "      <td>6941</td>\n",
       "      <td>18735</td>\n",
       "      <td>7796</td>\n",
       "      <td>8111</td>\n",
       "      <td>2175</td>\n",
       "    </tr>\n",
       "    <tr>\n",
       "      <th>2</th>\n",
       "      <td>9001</td>\n",
       "      <td>900108980</td>\n",
       "      <td>Brookfield town (Fairfield, CT)</td>\n",
       "      <td>7124</td>\n",
       "      <td>0</td>\n",
       "      <td>0</td>\n",
       "      <td>0</td>\n",
       "      <td>485</td>\n",
       "      <td>930</td>\n",
       "      <td>320</td>\n",
       "      <td>...</td>\n",
       "      <td>732</td>\n",
       "      <td>194</td>\n",
       "      <td>571</td>\n",
       "      <td>571</td>\n",
       "      <td>153</td>\n",
       "      <td>832</td>\n",
       "      <td>1211</td>\n",
       "      <td>2008</td>\n",
       "      <td>2920</td>\n",
       "      <td>153</td>\n",
       "    </tr>\n",
       "    <tr>\n",
       "      <th>3</th>\n",
       "      <td>9001</td>\n",
       "      <td>900118500</td>\n",
       "      <td>Danbury town (Fairfield, CT)</td>\n",
       "      <td>44309</td>\n",
       "      <td>3</td>\n",
       "      <td>0</td>\n",
       "      <td>47</td>\n",
       "      <td>1926</td>\n",
       "      <td>5446</td>\n",
       "      <td>1867</td>\n",
       "      <td>...</td>\n",
       "      <td>8602</td>\n",
       "      <td>525</td>\n",
       "      <td>3916</td>\n",
       "      <td>1426</td>\n",
       "      <td>657</td>\n",
       "      <td>8135</td>\n",
       "      <td>12377</td>\n",
       "      <td>9846</td>\n",
       "      <td>13294</td>\n",
       "      <td>657</td>\n",
       "    </tr>\n",
       "    <tr>\n",
       "      <th>4</th>\n",
       "      <td>9001</td>\n",
       "      <td>900118850</td>\n",
       "      <td>Darien town (Fairfield, CT)</td>\n",
       "      <td>8837</td>\n",
       "      <td>1</td>\n",
       "      <td>0</td>\n",
       "      <td>3</td>\n",
       "      <td>168</td>\n",
       "      <td>47</td>\n",
       "      <td>361</td>\n",
       "      <td>...</td>\n",
       "      <td>685</td>\n",
       "      <td>666</td>\n",
       "      <td>1034</td>\n",
       "      <td>871</td>\n",
       "      <td>111</td>\n",
       "      <td>1973</td>\n",
       "      <td>1929</td>\n",
       "      <td>707</td>\n",
       "      <td>4117</td>\n",
       "      <td>111</td>\n",
       "    </tr>\n",
       "  </tbody>\n",
       "</table>\n",
       "<p>5 rows × 29 columns</p>\n",
       "</div>"
      ],
      "text/plain": [
       "    cty   subplnta                       subplnta_n   C000  CNS01  CNS02  \\\n",
       "0  9001  900104720      Bethel town (Fairfield, CT)   7442      4      0   \n",
       "1  9001  900108070  Bridgeport town (Fairfield, CT)  43758     14     16   \n",
       "2  9001  900108980  Brookfield town (Fairfield, CT)   7124      0      0   \n",
       "3  9001  900118500     Danbury town (Fairfield, CT)  44309      3      0   \n",
       "4  9001  900118850      Darien town (Fairfield, CT)   8837      1      0   \n",
       "\n",
       "   CNS03  CNS04  CNS05  CNS06  ...  CNS16  CNS17  CNS18  CNS19  CNS20  Office  \\\n",
       "0      8    475   1118    497  ...   1411    105    592    265     82    1101   \n",
       "1    264   1431   3531   1522  ...  13063   1028   2204   1659   2175    6941   \n",
       "2      0    485    930    320  ...    732    194    571    571    153     832   \n",
       "3     47   1926   5446   1867  ...   8602    525   3916   1426    657    8135   \n",
       "4      3    168     47    361  ...    685    666   1034    871    111    1973   \n",
       "\n",
       "   Institutional  Industrial  Local Services  Public Admin  \n",
       "0           2135        2423            1701            82  \n",
       "1          18735        7796            8111          2175  \n",
       "2           1211        2008            2920           153  \n",
       "3          12377        9846           13294           657  \n",
       "4           1929         707            4117           111  \n",
       "\n",
       "[5 rows x 29 columns]"
      ]
     },
     "execution_count": 16,
     "metadata": {},
     "output_type": "execute_result"
    }
   ],
   "source": [
    "df_subplnta.head()"
   ]
  },
  {
   "cell_type": "code",
   "execution_count": 17,
   "metadata": {},
   "outputs": [],
   "source": [
    "df_subplnta.to_excel('output/LEHD/subplnta_JT002017_WAC.xlsx')"
   ]
  }
 ],
 "metadata": {
  "kernelspec": {
   "display_name": "Python 3",
   "language": "python",
   "name": "python3"
  },
  "language_info": {
   "codemirror_mode": {
    "name": "ipython",
    "version": 3
   },
   "file_extension": ".py",
   "mimetype": "text/x-python",
   "name": "python",
   "nbconvert_exporter": "python",
   "pygments_lexer": "ipython3",
   "version": "3.8.3"
  }
 },
 "nbformat": 4,
 "nbformat_minor": 4
}
